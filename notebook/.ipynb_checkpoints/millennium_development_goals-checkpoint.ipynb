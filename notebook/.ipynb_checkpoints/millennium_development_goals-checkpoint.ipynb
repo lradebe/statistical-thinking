{
 "cells": [
  {
   "cell_type": "markdown",
   "id": "8c571e77",
   "metadata": {},
   "source": [
    "# LWAZI RADEBE\n",
    "**STATISTICAL THINKING WITH THE Millennium Development Goals Data**"
   ]
  },
  {
   "cell_type": "markdown",
   "id": "55d85bf2",
   "metadata": {},
   "source": [
    "# INTRODUCTION"
   ]
  },
  {
   "cell_type": "markdown",
   "id": "22e06c25",
   "metadata": {},
   "source": [
    "We will be exploring THE Millennium Development Goals Dataset to see the progress made. Towards what the UN hoped to achieve by 2015 to help improve living conditions and the conditions of our planet.  \n",
    "To see whether goals were met, key indicators were defined for each of these goals.  \n",
    "We will look at some key indicators from Goal 7: Ensure environmental sustainability, namely carbon dioxide (CO2) emissions, protected land and sea areas, and forests."
   ]
  },
  {
   "cell_type": "markdown",
   "id": "191b714c",
   "metadata": {},
   "source": [
    "### IMPORTS:"
   ]
  },
  {
   "cell_type": "code",
   "execution_count": 1,
   "id": "3d2276d1",
   "metadata": {},
   "outputs": [],
   "source": [
    "import warnings\n",
    "import matplotlib\n",
    "import numpy as np\n",
    "import pandas as pd\n",
    "import seaborn as sns\n",
    "from scipy import stats\n",
    "import matplotlib.pyplot as plt"
   ]
  },
  {
   "cell_type": "markdown",
   "id": "e86c997c",
   "metadata": {},
   "source": [
    "### ENVIRONMENT SETTINGS:"
   ]
  },
  {
   "cell_type": "code",
   "execution_count": 2,
   "id": "84c39ce3",
   "metadata": {},
   "outputs": [],
   "source": [
    "sns.set()\n",
    "%matplotlib inline\n",
    "warnings.filterwarnings('ignore')\n",
    "font={\"weight\":\"bold\", \"size\":20}\n",
    "plt.rcParams[\"figure.figsize\"] = (20, 10)\n",
    "_ = pd.option_context(\"display.max_rows\", 10)"
   ]
  },
  {
   "cell_type": "markdown",
   "id": "083612bd",
   "metadata": {},
   "source": [
    "### READING DATASET:"
   ]
  },
  {
   "cell_type": "code",
   "execution_count": 3,
   "id": "987e446e",
   "metadata": {},
   "outputs": [],
   "source": [
    "data = pd.read_csv(\"../dataset/mdg_export_20191227.csv\")"
   ]
  },
  {
   "cell_type": "markdown",
   "id": "72c432e6",
   "metadata": {},
   "source": [
    "### EXPLORING AND PREPARING DATASET:"
   ]
  },
  {
   "cell_type": "markdown",
   "id": "aabb1206",
   "metadata": {},
   "source": [
    "**Checking the contents of \"Type\" columns and \"Footnotes\" columns to see if they will be of any use**"
   ]
  },
  {
   "cell_type": "code",
   "execution_count": 4,
   "id": "ff594e21",
   "metadata": {},
   "outputs": [
    {
     "data": {
      "text/html": [
       "<div>\n",
       "<style scoped>\n",
       "    .dataframe tbody tr th:only-of-type {\n",
       "        vertical-align: middle;\n",
       "    }\n",
       "\n",
       "    .dataframe tbody tr th {\n",
       "        vertical-align: top;\n",
       "    }\n",
       "\n",
       "    .dataframe thead th {\n",
       "        text-align: right;\n",
       "    }\n",
       "</style>\n",
       "<table border=\"1\" class=\"dataframe\">\n",
       "  <thead>\n",
       "    <tr style=\"text-align: right;\">\n",
       "      <th></th>\n",
       "      <th>Type</th>\n",
       "      <th>Type.1</th>\n",
       "      <th>Type.2</th>\n",
       "      <th>Type.3</th>\n",
       "      <th>Type.4</th>\n",
       "      <th>Type.5</th>\n",
       "      <th>Type.6</th>\n",
       "      <th>Type.7</th>\n",
       "      <th>Type.8</th>\n",
       "      <th>Type.9</th>\n",
       "      <th>...</th>\n",
       "      <th>Type.20</th>\n",
       "      <th>Type.21</th>\n",
       "      <th>Type.22</th>\n",
       "      <th>Type.23</th>\n",
       "      <th>Type.24</th>\n",
       "      <th>Type.25</th>\n",
       "      <th>Type.26</th>\n",
       "      <th>Type.27</th>\n",
       "      <th>Type.28</th>\n",
       "      <th>Type.29</th>\n",
       "    </tr>\n",
       "  </thead>\n",
       "  <tbody>\n",
       "    <tr>\n",
       "      <th>0</th>\n",
       "      <td>E</td>\n",
       "      <td></td>\n",
       "      <td></td>\n",
       "      <td></td>\n",
       "      <td></td>\n",
       "      <td></td>\n",
       "      <td></td>\n",
       "      <td></td>\n",
       "      <td></td>\n",
       "      <td></td>\n",
       "      <td>...</td>\n",
       "      <td>E</td>\n",
       "      <td></td>\n",
       "      <td></td>\n",
       "      <td></td>\n",
       "      <td></td>\n",
       "      <td></td>\n",
       "      <td></td>\n",
       "      <td></td>\n",
       "      <td></td>\n",
       "      <td></td>\n",
       "    </tr>\n",
       "    <tr>\n",
       "      <th>1</th>\n",
       "      <td>G</td>\n",
       "      <td>G</td>\n",
       "      <td>G</td>\n",
       "      <td>G</td>\n",
       "      <td>G</td>\n",
       "      <td>G</td>\n",
       "      <td>G</td>\n",
       "      <td>G</td>\n",
       "      <td>G</td>\n",
       "      <td>G</td>\n",
       "      <td>...</td>\n",
       "      <td>G</td>\n",
       "      <td>G</td>\n",
       "      <td></td>\n",
       "      <td></td>\n",
       "      <td></td>\n",
       "      <td></td>\n",
       "      <td></td>\n",
       "      <td></td>\n",
       "      <td></td>\n",
       "      <td></td>\n",
       "    </tr>\n",
       "    <tr>\n",
       "      <th>2</th>\n",
       "      <td>C</td>\n",
       "      <td></td>\n",
       "      <td></td>\n",
       "      <td></td>\n",
       "      <td></td>\n",
       "      <td></td>\n",
       "      <td></td>\n",
       "      <td></td>\n",
       "      <td></td>\n",
       "      <td></td>\n",
       "      <td>...</td>\n",
       "      <td></td>\n",
       "      <td></td>\n",
       "      <td></td>\n",
       "      <td></td>\n",
       "      <td>C</td>\n",
       "      <td></td>\n",
       "      <td></td>\n",
       "      <td></td>\n",
       "      <td></td>\n",
       "      <td></td>\n",
       "    </tr>\n",
       "    <tr>\n",
       "      <th>3</th>\n",
       "      <td>C</td>\n",
       "      <td></td>\n",
       "      <td></td>\n",
       "      <td></td>\n",
       "      <td></td>\n",
       "      <td></td>\n",
       "      <td></td>\n",
       "      <td></td>\n",
       "      <td></td>\n",
       "      <td></td>\n",
       "      <td>...</td>\n",
       "      <td>C</td>\n",
       "      <td></td>\n",
       "      <td></td>\n",
       "      <td></td>\n",
       "      <td></td>\n",
       "      <td></td>\n",
       "      <td></td>\n",
       "      <td></td>\n",
       "      <td></td>\n",
       "      <td></td>\n",
       "    </tr>\n",
       "    <tr>\n",
       "      <th>4</th>\n",
       "      <td>G</td>\n",
       "      <td>G</td>\n",
       "      <td>G</td>\n",
       "      <td>G</td>\n",
       "      <td>G</td>\n",
       "      <td>G</td>\n",
       "      <td>G</td>\n",
       "      <td>G</td>\n",
       "      <td>G</td>\n",
       "      <td>G</td>\n",
       "      <td>...</td>\n",
       "      <td>G</td>\n",
       "      <td>G</td>\n",
       "      <td></td>\n",
       "      <td></td>\n",
       "      <td></td>\n",
       "      <td></td>\n",
       "      <td></td>\n",
       "      <td></td>\n",
       "      <td></td>\n",
       "      <td></td>\n",
       "    </tr>\n",
       "    <tr>\n",
       "      <th>...</th>\n",
       "      <td>...</td>\n",
       "      <td>...</td>\n",
       "      <td>...</td>\n",
       "      <td>...</td>\n",
       "      <td>...</td>\n",
       "      <td>...</td>\n",
       "      <td>...</td>\n",
       "      <td>...</td>\n",
       "      <td>...</td>\n",
       "      <td>...</td>\n",
       "      <td>...</td>\n",
       "      <td>...</td>\n",
       "      <td>...</td>\n",
       "      <td>...</td>\n",
       "      <td>...</td>\n",
       "      <td>...</td>\n",
       "      <td>...</td>\n",
       "      <td>...</td>\n",
       "      <td>...</td>\n",
       "      <td>...</td>\n",
       "      <td>...</td>\n",
       "    </tr>\n",
       "    <tr>\n",
       "      <th>685</th>\n",
       "      <td>G</td>\n",
       "      <td>G</td>\n",
       "      <td>G</td>\n",
       "      <td>G</td>\n",
       "      <td>G</td>\n",
       "      <td>G</td>\n",
       "      <td>G</td>\n",
       "      <td>G</td>\n",
       "      <td>G</td>\n",
       "      <td>G</td>\n",
       "      <td>...</td>\n",
       "      <td>G</td>\n",
       "      <td>G</td>\n",
       "      <td></td>\n",
       "      <td></td>\n",
       "      <td></td>\n",
       "      <td></td>\n",
       "      <td></td>\n",
       "      <td></td>\n",
       "      <td></td>\n",
       "      <td></td>\n",
       "    </tr>\n",
       "    <tr>\n",
       "      <th>686</th>\n",
       "      <td>C</td>\n",
       "      <td></td>\n",
       "      <td></td>\n",
       "      <td></td>\n",
       "      <td></td>\n",
       "      <td></td>\n",
       "      <td></td>\n",
       "      <td></td>\n",
       "      <td></td>\n",
       "      <td></td>\n",
       "      <td>...</td>\n",
       "      <td></td>\n",
       "      <td></td>\n",
       "      <td></td>\n",
       "      <td></td>\n",
       "      <td>C</td>\n",
       "      <td></td>\n",
       "      <td></td>\n",
       "      <td></td>\n",
       "      <td></td>\n",
       "      <td></td>\n",
       "    </tr>\n",
       "    <tr>\n",
       "      <th>687</th>\n",
       "      <td>C</td>\n",
       "      <td></td>\n",
       "      <td></td>\n",
       "      <td></td>\n",
       "      <td></td>\n",
       "      <td></td>\n",
       "      <td></td>\n",
       "      <td></td>\n",
       "      <td></td>\n",
       "      <td></td>\n",
       "      <td>...</td>\n",
       "      <td>C</td>\n",
       "      <td></td>\n",
       "      <td></td>\n",
       "      <td></td>\n",
       "      <td></td>\n",
       "      <td></td>\n",
       "      <td></td>\n",
       "      <td></td>\n",
       "      <td></td>\n",
       "      <td></td>\n",
       "    </tr>\n",
       "    <tr>\n",
       "      <th>688</th>\n",
       "      <td>G</td>\n",
       "      <td>G</td>\n",
       "      <td>G</td>\n",
       "      <td>G</td>\n",
       "      <td>G</td>\n",
       "      <td>G</td>\n",
       "      <td>G</td>\n",
       "      <td>G</td>\n",
       "      <td>G</td>\n",
       "      <td>G</td>\n",
       "      <td>...</td>\n",
       "      <td>G</td>\n",
       "      <td>G</td>\n",
       "      <td></td>\n",
       "      <td></td>\n",
       "      <td></td>\n",
       "      <td></td>\n",
       "      <td></td>\n",
       "      <td></td>\n",
       "      <td></td>\n",
       "      <td></td>\n",
       "    </tr>\n",
       "    <tr>\n",
       "      <th>689</th>\n",
       "      <td>C</td>\n",
       "      <td></td>\n",
       "      <td></td>\n",
       "      <td></td>\n",
       "      <td></td>\n",
       "      <td></td>\n",
       "      <td></td>\n",
       "      <td></td>\n",
       "      <td></td>\n",
       "      <td></td>\n",
       "      <td>...</td>\n",
       "      <td></td>\n",
       "      <td></td>\n",
       "      <td></td>\n",
       "      <td></td>\n",
       "      <td>C</td>\n",
       "      <td></td>\n",
       "      <td></td>\n",
       "      <td></td>\n",
       "      <td></td>\n",
       "      <td></td>\n",
       "    </tr>\n",
       "  </tbody>\n",
       "</table>\n",
       "<p>690 rows × 30 columns</p>\n",
       "</div>"
      ],
      "text/plain": [
       "    Type Type.1 Type.2 Type.3 Type.4 Type.5 Type.6 Type.7 Type.8 Type.9  ...  \\\n",
       "0      E                                                                 ...   \n",
       "1      G      G      G      G      G      G      G      G      G      G  ...   \n",
       "2      C                                                                 ...   \n",
       "3      C                                                                 ...   \n",
       "4      G      G      G      G      G      G      G      G      G      G  ...   \n",
       "..   ...    ...    ...    ...    ...    ...    ...    ...    ...    ...  ...   \n",
       "685    G      G      G      G      G      G      G      G      G      G  ...   \n",
       "686    C                                                                 ...   \n",
       "687    C                                                                 ...   \n",
       "688    G      G      G      G      G      G      G      G      G      G  ...   \n",
       "689    C                                                                 ...   \n",
       "\n",
       "    Type.20 Type.21 Type.22 Type.23 Type.24 Type.25 Type.26 Type.27 Type.28  \\\n",
       "0         E                                                                   \n",
       "1         G       G                                                           \n",
       "2                                         C                                   \n",
       "3         C                                                                   \n",
       "4         G       G                                                           \n",
       "..      ...     ...     ...     ...     ...     ...     ...     ...     ...   \n",
       "685       G       G                                                           \n",
       "686                                       C                                   \n",
       "687       C                                                                   \n",
       "688       G       G                                                           \n",
       "689                                       C                                   \n",
       "\n",
       "    Type.29  \n",
       "0            \n",
       "1            \n",
       "2            \n",
       "3            \n",
       "4            \n",
       "..      ...  \n",
       "685          \n",
       "686          \n",
       "687          \n",
       "688          \n",
       "689          \n",
       "\n",
       "[690 rows x 30 columns]"
      ]
     },
     "execution_count": 4,
     "metadata": {},
     "output_type": "execute_result"
    }
   ],
   "source": [
    "data[data.columns[data.columns.str.contains(\"Type\")]]"
   ]
  },
  {
   "cell_type": "code",
   "execution_count": 5,
   "id": "5dd13cfa",
   "metadata": {},
   "outputs": [
    {
     "data": {
      "text/html": [
       "<div>\n",
       "<style scoped>\n",
       "    .dataframe tbody tr th:only-of-type {\n",
       "        vertical-align: middle;\n",
       "    }\n",
       "\n",
       "    .dataframe tbody tr th {\n",
       "        vertical-align: top;\n",
       "    }\n",
       "\n",
       "    .dataframe thead th {\n",
       "        text-align: right;\n",
       "    }\n",
       "</style>\n",
       "<table border=\"1\" class=\"dataframe\">\n",
       "  <thead>\n",
       "    <tr style=\"text-align: right;\">\n",
       "      <th></th>\n",
       "      <th>Footnotes</th>\n",
       "      <th>Footnotes.1</th>\n",
       "      <th>Footnotes.2</th>\n",
       "      <th>Footnotes.3</th>\n",
       "      <th>Footnotes.4</th>\n",
       "      <th>Footnotes.5</th>\n",
       "      <th>Footnotes.6</th>\n",
       "      <th>Footnotes.7</th>\n",
       "      <th>Footnotes.8</th>\n",
       "      <th>Footnotes.9</th>\n",
       "      <th>...</th>\n",
       "      <th>Footnotes.20</th>\n",
       "      <th>Footnotes.21</th>\n",
       "      <th>Footnotes.22</th>\n",
       "      <th>Footnotes.23</th>\n",
       "      <th>Footnotes.24</th>\n",
       "      <th>Footnotes.25</th>\n",
       "      <th>Footnotes.26</th>\n",
       "      <th>Footnotes.27</th>\n",
       "      <th>Footnotes.28</th>\n",
       "      <th>Footnotes.29</th>\n",
       "    </tr>\n",
       "  </thead>\n",
       "  <tbody>\n",
       "    <tr>\n",
       "      <th>0</th>\n",
       "      <td>NaN</td>\n",
       "      <td></td>\n",
       "      <td></td>\n",
       "      <td></td>\n",
       "      <td></td>\n",
       "      <td></td>\n",
       "      <td></td>\n",
       "      <td></td>\n",
       "      <td></td>\n",
       "      <td></td>\n",
       "      <td>...</td>\n",
       "      <td>NaN</td>\n",
       "      <td></td>\n",
       "      <td></td>\n",
       "      <td></td>\n",
       "      <td></td>\n",
       "      <td></td>\n",
       "      <td></td>\n",
       "      <td></td>\n",
       "      <td></td>\n",
       "      <td></td>\n",
       "    </tr>\n",
       "    <tr>\n",
       "      <th>1</th>\n",
       "      <td>NaN</td>\n",
       "      <td>NaN</td>\n",
       "      <td>NaN</td>\n",
       "      <td>NaN</td>\n",
       "      <td>NaN</td>\n",
       "      <td>NaN</td>\n",
       "      <td>NaN</td>\n",
       "      <td>NaN</td>\n",
       "      <td>NaN</td>\n",
       "      <td>NaN</td>\n",
       "      <td>...</td>\n",
       "      <td>NaN</td>\n",
       "      <td>NaN</td>\n",
       "      <td></td>\n",
       "      <td></td>\n",
       "      <td></td>\n",
       "      <td></td>\n",
       "      <td></td>\n",
       "      <td></td>\n",
       "      <td></td>\n",
       "      <td></td>\n",
       "    </tr>\n",
       "    <tr>\n",
       "      <th>2</th>\n",
       "      <td>NaN</td>\n",
       "      <td></td>\n",
       "      <td></td>\n",
       "      <td></td>\n",
       "      <td></td>\n",
       "      <td></td>\n",
       "      <td></td>\n",
       "      <td></td>\n",
       "      <td></td>\n",
       "      <td></td>\n",
       "      <td>...</td>\n",
       "      <td></td>\n",
       "      <td></td>\n",
       "      <td></td>\n",
       "      <td></td>\n",
       "      <td>NaN</td>\n",
       "      <td></td>\n",
       "      <td></td>\n",
       "      <td></td>\n",
       "      <td></td>\n",
       "      <td></td>\n",
       "    </tr>\n",
       "    <tr>\n",
       "      <th>3</th>\n",
       "      <td>NaN</td>\n",
       "      <td></td>\n",
       "      <td></td>\n",
       "      <td></td>\n",
       "      <td></td>\n",
       "      <td></td>\n",
       "      <td></td>\n",
       "      <td></td>\n",
       "      <td></td>\n",
       "      <td></td>\n",
       "      <td>...</td>\n",
       "      <td>NaN</td>\n",
       "      <td></td>\n",
       "      <td></td>\n",
       "      <td></td>\n",
       "      <td></td>\n",
       "      <td></td>\n",
       "      <td></td>\n",
       "      <td></td>\n",
       "      <td></td>\n",
       "      <td></td>\n",
       "    </tr>\n",
       "    <tr>\n",
       "      <th>4</th>\n",
       "      <td>NaN</td>\n",
       "      <td>NaN</td>\n",
       "      <td>NaN</td>\n",
       "      <td>NaN</td>\n",
       "      <td>NaN</td>\n",
       "      <td>NaN</td>\n",
       "      <td>NaN</td>\n",
       "      <td>NaN</td>\n",
       "      <td>NaN</td>\n",
       "      <td>NaN</td>\n",
       "      <td>...</td>\n",
       "      <td>NaN</td>\n",
       "      <td>NaN</td>\n",
       "      <td></td>\n",
       "      <td></td>\n",
       "      <td></td>\n",
       "      <td></td>\n",
       "      <td></td>\n",
       "      <td></td>\n",
       "      <td></td>\n",
       "      <td></td>\n",
       "    </tr>\n",
       "    <tr>\n",
       "      <th>...</th>\n",
       "      <td>...</td>\n",
       "      <td>...</td>\n",
       "      <td>...</td>\n",
       "      <td>...</td>\n",
       "      <td>...</td>\n",
       "      <td>...</td>\n",
       "      <td>...</td>\n",
       "      <td>...</td>\n",
       "      <td>...</td>\n",
       "      <td>...</td>\n",
       "      <td>...</td>\n",
       "      <td>...</td>\n",
       "      <td>...</td>\n",
       "      <td>...</td>\n",
       "      <td>...</td>\n",
       "      <td>...</td>\n",
       "      <td>...</td>\n",
       "      <td>...</td>\n",
       "      <td>...</td>\n",
       "      <td>...</td>\n",
       "      <td>...</td>\n",
       "    </tr>\n",
       "    <tr>\n",
       "      <th>685</th>\n",
       "      <td>NaN</td>\n",
       "      <td>NaN</td>\n",
       "      <td>NaN</td>\n",
       "      <td>NaN</td>\n",
       "      <td>NaN</td>\n",
       "      <td>NaN</td>\n",
       "      <td>NaN</td>\n",
       "      <td>NaN</td>\n",
       "      <td>NaN</td>\n",
       "      <td>NaN</td>\n",
       "      <td>...</td>\n",
       "      <td>NaN</td>\n",
       "      <td>NaN</td>\n",
       "      <td></td>\n",
       "      <td></td>\n",
       "      <td></td>\n",
       "      <td></td>\n",
       "      <td></td>\n",
       "      <td></td>\n",
       "      <td></td>\n",
       "      <td></td>\n",
       "    </tr>\n",
       "    <tr>\n",
       "      <th>686</th>\n",
       "      <td>NaN</td>\n",
       "      <td></td>\n",
       "      <td></td>\n",
       "      <td></td>\n",
       "      <td></td>\n",
       "      <td></td>\n",
       "      <td></td>\n",
       "      <td></td>\n",
       "      <td></td>\n",
       "      <td></td>\n",
       "      <td>...</td>\n",
       "      <td></td>\n",
       "      <td></td>\n",
       "      <td></td>\n",
       "      <td></td>\n",
       "      <td>NaN</td>\n",
       "      <td></td>\n",
       "      <td></td>\n",
       "      <td></td>\n",
       "      <td></td>\n",
       "      <td></td>\n",
       "    </tr>\n",
       "    <tr>\n",
       "      <th>687</th>\n",
       "      <td>NaN</td>\n",
       "      <td></td>\n",
       "      <td></td>\n",
       "      <td></td>\n",
       "      <td></td>\n",
       "      <td></td>\n",
       "      <td></td>\n",
       "      <td></td>\n",
       "      <td></td>\n",
       "      <td></td>\n",
       "      <td>...</td>\n",
       "      <td>NaN</td>\n",
       "      <td></td>\n",
       "      <td></td>\n",
       "      <td></td>\n",
       "      <td></td>\n",
       "      <td></td>\n",
       "      <td></td>\n",
       "      <td></td>\n",
       "      <td></td>\n",
       "      <td></td>\n",
       "    </tr>\n",
       "    <tr>\n",
       "      <th>688</th>\n",
       "      <td>NaN</td>\n",
       "      <td>NaN</td>\n",
       "      <td>NaN</td>\n",
       "      <td>NaN</td>\n",
       "      <td>NaN</td>\n",
       "      <td>NaN</td>\n",
       "      <td>NaN</td>\n",
       "      <td>NaN</td>\n",
       "      <td>NaN</td>\n",
       "      <td>NaN</td>\n",
       "      <td>...</td>\n",
       "      <td>NaN</td>\n",
       "      <td>NaN</td>\n",
       "      <td></td>\n",
       "      <td></td>\n",
       "      <td></td>\n",
       "      <td></td>\n",
       "      <td></td>\n",
       "      <td></td>\n",
       "      <td></td>\n",
       "      <td></td>\n",
       "    </tr>\n",
       "    <tr>\n",
       "      <th>689</th>\n",
       "      <td>NaN</td>\n",
       "      <td></td>\n",
       "      <td></td>\n",
       "      <td></td>\n",
       "      <td></td>\n",
       "      <td></td>\n",
       "      <td></td>\n",
       "      <td></td>\n",
       "      <td></td>\n",
       "      <td></td>\n",
       "      <td>...</td>\n",
       "      <td></td>\n",
       "      <td></td>\n",
       "      <td></td>\n",
       "      <td></td>\n",
       "      <td>NaN</td>\n",
       "      <td></td>\n",
       "      <td></td>\n",
       "      <td></td>\n",
       "      <td></td>\n",
       "      <td></td>\n",
       "    </tr>\n",
       "  </tbody>\n",
       "</table>\n",
       "<p>690 rows × 30 columns</p>\n",
       "</div>"
      ],
      "text/plain": [
       "    Footnotes Footnotes.1 Footnotes.2 Footnotes.3 Footnotes.4 Footnotes.5  \\\n",
       "0         NaN                                                               \n",
       "1         NaN         NaN         NaN         NaN         NaN         NaN   \n",
       "2         NaN                                                               \n",
       "3         NaN                                                               \n",
       "4         NaN         NaN         NaN         NaN         NaN         NaN   \n",
       "..        ...         ...         ...         ...         ...         ...   \n",
       "685       NaN         NaN         NaN         NaN         NaN         NaN   \n",
       "686       NaN                                                               \n",
       "687       NaN                                                               \n",
       "688       NaN         NaN         NaN         NaN         NaN         NaN   \n",
       "689       NaN                                                               \n",
       "\n",
       "    Footnotes.6 Footnotes.7 Footnotes.8 Footnotes.9  ... Footnotes.20  \\\n",
       "0                                                    ...          NaN   \n",
       "1           NaN         NaN         NaN         NaN  ...          NaN   \n",
       "2                                                    ...                \n",
       "3                                                    ...          NaN   \n",
       "4           NaN         NaN         NaN         NaN  ...          NaN   \n",
       "..          ...         ...         ...         ...  ...          ...   \n",
       "685         NaN         NaN         NaN         NaN  ...          NaN   \n",
       "686                                                  ...                \n",
       "687                                                  ...          NaN   \n",
       "688         NaN         NaN         NaN         NaN  ...          NaN   \n",
       "689                                                  ...                \n",
       "\n",
       "    Footnotes.21 Footnotes.22 Footnotes.23 Footnotes.24 Footnotes.25  \\\n",
       "0                                                                      \n",
       "1            NaN                                                       \n",
       "2                                                   NaN                \n",
       "3                                                                      \n",
       "4            NaN                                                       \n",
       "..           ...          ...          ...          ...          ...   \n",
       "685          NaN                                                       \n",
       "686                                                 NaN                \n",
       "687                                                                    \n",
       "688          NaN                                                       \n",
       "689                                                 NaN                \n",
       "\n",
       "    Footnotes.26 Footnotes.27 Footnotes.28 Footnotes.29  \n",
       "0                                                        \n",
       "1                                                        \n",
       "2                                                        \n",
       "3                                                        \n",
       "4                                                        \n",
       "..           ...          ...          ...          ...  \n",
       "685                                                      \n",
       "686                                                      \n",
       "687                                                      \n",
       "688                                                      \n",
       "689                                                      \n",
       "\n",
       "[690 rows x 30 columns]"
      ]
     },
     "execution_count": 5,
     "metadata": {},
     "output_type": "execute_result"
    }
   ],
   "source": [
    "data[data.columns[data.columns.str.contains(\"Footnotes\")]]"
   ]
  },
  {
   "cell_type": "markdown",
   "id": "a346056b",
   "metadata": {},
   "source": [
    "**Dropping columns that will be of no use in the analysis, also they mostly have either missing values or null values**"
   ]
  },
  {
   "cell_type": "code",
   "execution_count": 6,
   "id": "7c5bc411",
   "metadata": {},
   "outputs": [],
   "source": [
    "data.drop(data.columns[data.columns.str.contains(\"Type\")], axis=1, inplace=True)\n",
    "data.drop(data.columns[data.columns.str.contains(\"Footnotes\")], axis=1, inplace=True)"
   ]
  },
  {
   "cell_type": "markdown",
   "id": "e6f83652",
   "metadata": {},
   "source": [
    "**Type and Footnotes columns have been dropped as seen below**"
   ]
  },
  {
   "cell_type": "code",
   "execution_count": 7,
   "id": "3c763343",
   "metadata": {},
   "outputs": [
    {
     "data": {
      "text/plain": [
       "Index(['CountryCode', 'Country', 'SeriesCode', 'MDG', 'Series', '1990', '1991',\n",
       "       '1992', '1993', '1994', '1995', '1996', '1997', '1998', '1999', '2000',\n",
       "       '2001', '2002', '2003', '2004', '2005', '2006', '2007', '2008', '2009',\n",
       "       '2010', '2011', '2012', '2013', '2014', '2015', '2016', '2017', '2018',\n",
       "       '2019'],\n",
       "      dtype='object')"
      ]
     },
     "execution_count": 7,
     "metadata": {},
     "output_type": "execute_result"
    }
   ],
   "source": [
    "data.columns"
   ]
  },
  {
   "cell_type": "markdown",
   "id": "acbb47c0",
   "metadata": {},
   "source": [
    "**Transforming all missing values in the dataset to null values**"
   ]
  },
  {
   "cell_type": "code",
   "execution_count": 8,
   "id": "bb2e1eaa",
   "metadata": {},
   "outputs": [],
   "source": [
    "def empty_to_nan(cell):\n",
    "    if cell == \" \":\n",
    "        return np.nan\n",
    "    return cell"
   ]
  },
  {
   "cell_type": "markdown",
   "id": "65b5bcae",
   "metadata": {},
   "source": [
    "**Dropping columns which only have null values**"
   ]
  },
  {
   "cell_type": "code",
   "execution_count": 9,
   "id": "851835d3",
   "metadata": {},
   "outputs": [
    {
     "data": {
      "text/plain": [
       "(690, 28)"
      ]
     },
     "execution_count": 9,
     "metadata": {},
     "output_type": "execute_result"
    }
   ],
   "source": [
    "data = data.applymap(empty_to_nan)\n",
    "data.dropna(how=\"all\", axis=1, inplace=True)\n",
    "data.shape"
   ]
  },
  {
   "cell_type": "markdown",
   "id": "20eca9a2",
   "metadata": {},
   "source": [
    "**Number of years represented:**"
   ]
  },
  {
   "cell_type": "code",
   "execution_count": 10,
   "id": "4d4ebd1d",
   "metadata": {},
   "outputs": [
    {
     "data": {
      "text/plain": [
       "23"
      ]
     },
     "execution_count": 10,
     "metadata": {},
     "output_type": "execute_result"
    }
   ],
   "source": [
    "years = data.columns[data.columns.str.contains(\"[^a-zA-Z]\")].to_list()\n",
    "len(years)"
   ]
  },
  {
   "cell_type": "markdown",
   "id": "6598a484",
   "metadata": {},
   "source": [
    "There are 23 Years represented because some have been dropped. They were dropped because they were all null values, therefore could have no contribution to the insights."
   ]
  },
  {
   "cell_type": "markdown",
   "id": "03d4530a",
   "metadata": {},
   "source": [
    "**Null values for each year**"
   ]
  },
  {
   "cell_type": "code",
   "execution_count": 11,
   "id": "7c861ae2",
   "metadata": {},
   "outputs": [
    {
     "data": {
      "text/html": [
       "<div>\n",
       "<style scoped>\n",
       "    .dataframe tbody tr th:only-of-type {\n",
       "        vertical-align: middle;\n",
       "    }\n",
       "\n",
       "    .dataframe tbody tr th {\n",
       "        vertical-align: top;\n",
       "    }\n",
       "\n",
       "    .dataframe thead th {\n",
       "        text-align: right;\n",
       "    }\n",
       "</style>\n",
       "<table border=\"1\" class=\"dataframe\">\n",
       "  <thead>\n",
       "    <tr style=\"text-align: right;\">\n",
       "      <th></th>\n",
       "      <th>Years</th>\n",
       "      <th>Null values</th>\n",
       "    </tr>\n",
       "  </thead>\n",
       "  <tbody>\n",
       "    <tr>\n",
       "      <th>18</th>\n",
       "      <td>2008</td>\n",
       "      <td>475</td>\n",
       "    </tr>\n",
       "    <tr>\n",
       "      <th>19</th>\n",
       "      <td>2009</td>\n",
       "      <td>475</td>\n",
       "    </tr>\n",
       "    <tr>\n",
       "      <th>20</th>\n",
       "      <td>2010</td>\n",
       "      <td>252</td>\n",
       "    </tr>\n",
       "    <tr>\n",
       "      <th>21</th>\n",
       "      <td>2011</td>\n",
       "      <td>475</td>\n",
       "    </tr>\n",
       "    <tr>\n",
       "      <th>22</th>\n",
       "      <td>2014</td>\n",
       "      <td>467</td>\n",
       "    </tr>\n",
       "  </tbody>\n",
       "</table>\n",
       "</div>"
      ],
      "text/plain": [
       "   Years  Null values\n",
       "18  2008          475\n",
       "19  2009          475\n",
       "20  2010          252\n",
       "21  2011          475\n",
       "22  2014          467"
      ]
     },
     "execution_count": 11,
     "metadata": {},
     "output_type": "execute_result"
    }
   ],
   "source": [
    "nan_values_yearly = {\"Years\":data[years].isna().sum().index, \"Null values\":data[years].isna().sum().values}\n",
    "nan_values_yearly = pd.DataFrame(nan_values_yearly)\n",
    "nan_values_yearly.tail()"
   ]
  },
  {
   "cell_type": "markdown",
   "id": "d28f53cd",
   "metadata": {},
   "source": [
    "**Making sure all cells that are numeric are a float type:**"
   ]
  },
  {
   "cell_type": "code",
   "execution_count": 12,
   "id": "4ee5aadc",
   "metadata": {},
   "outputs": [],
   "source": [
    "data.iloc[:, 5:] = data.iloc[:, 5:].astype(\"float64\")"
   ]
  },
  {
   "cell_type": "markdown",
   "id": "8c5dadbe",
   "metadata": {},
   "source": [
    "**Null values for each country across every column**"
   ]
  },
  {
   "cell_type": "code",
   "execution_count": 13,
   "id": "e91fd011",
   "metadata": {},
   "outputs": [
    {
     "name": "stdout",
     "output_type": "stream",
     "text": [
      "There are 230 countries represented in the entire dataset.\n"
     ]
    }
   ],
   "source": [
    "countries = data.Country.unique()\n",
    "print(f\"There are {len(countries)} countries represented in the entire dataset.\")"
   ]
  },
  {
   "cell_type": "code",
   "execution_count": 14,
   "id": "61b96c30",
   "metadata": {},
   "outputs": [
    {
     "data": {
      "text/html": [
       "<div>\n",
       "<style scoped>\n",
       "    .dataframe tbody tr th:only-of-type {\n",
       "        vertical-align: middle;\n",
       "    }\n",
       "\n",
       "    .dataframe tbody tr th {\n",
       "        vertical-align: top;\n",
       "    }\n",
       "\n",
       "    .dataframe thead th {\n",
       "        text-align: right;\n",
       "    }\n",
       "</style>\n",
       "<table border=\"1\" class=\"dataframe\">\n",
       "  <thead>\n",
       "    <tr style=\"text-align: right;\">\n",
       "      <th></th>\n",
       "      <th>Null values</th>\n",
       "    </tr>\n",
       "    <tr>\n",
       "      <th>Country</th>\n",
       "      <th></th>\n",
       "    </tr>\n",
       "  </thead>\n",
       "  <tbody>\n",
       "    <tr>\n",
       "      <th>Afghanistan</th>\n",
       "      <td>40</td>\n",
       "    </tr>\n",
       "    <tr>\n",
       "      <th>Albania</th>\n",
       "      <td>40</td>\n",
       "    </tr>\n",
       "    <tr>\n",
       "      <th>Algeria</th>\n",
       "      <td>40</td>\n",
       "    </tr>\n",
       "    <tr>\n",
       "      <th>American Samoa</th>\n",
       "      <td>62</td>\n",
       "    </tr>\n",
       "    <tr>\n",
       "      <th>Andorra</th>\n",
       "      <td>45</td>\n",
       "    </tr>\n",
       "    <tr>\n",
       "      <th>...</th>\n",
       "      <td>...</td>\n",
       "    </tr>\n",
       "    <tr>\n",
       "      <th>Western Sahara</th>\n",
       "      <td>62</td>\n",
       "    </tr>\n",
       "    <tr>\n",
       "      <th>Yemen</th>\n",
       "      <td>40</td>\n",
       "    </tr>\n",
       "    <tr>\n",
       "      <th>Yugoslavia [former Socialist Federal Republic]</th>\n",
       "      <td>67</td>\n",
       "    </tr>\n",
       "    <tr>\n",
       "      <th>Zambia</th>\n",
       "      <td>40</td>\n",
       "    </tr>\n",
       "    <tr>\n",
       "      <th>Zimbabwe</th>\n",
       "      <td>40</td>\n",
       "    </tr>\n",
       "  </tbody>\n",
       "</table>\n",
       "<p>230 rows × 1 columns</p>\n",
       "</div>"
      ],
      "text/plain": [
       "                                                Null values\n",
       "Country                                                    \n",
       "Afghanistan                                              40\n",
       "Albania                                                  40\n",
       "Algeria                                                  40\n",
       "American Samoa                                           62\n",
       "Andorra                                                  45\n",
       "...                                                     ...\n",
       "Western Sahara                                           62\n",
       "Yemen                                                    40\n",
       "Yugoslavia [former Socialist Federal Republic]           67\n",
       "Zambia                                                   40\n",
       "Zimbabwe                                                 40\n",
       "\n",
       "[230 rows x 1 columns]"
      ]
     },
     "execution_count": 14,
     "metadata": {},
     "output_type": "execute_result"
    }
   ],
   "source": [
    "data.groupby(\"Country\").apply(lambda values: values.isna().sum().sum()).to_frame(name=\"Null values\")"
   ]
  },
  {
   "cell_type": "markdown",
   "id": "e03ee9f9",
   "metadata": {},
   "source": [
    "**Null values for each Series across all columns**"
   ]
  },
  {
   "cell_type": "code",
   "execution_count": 15,
   "id": "bb8170c9",
   "metadata": {},
   "outputs": [
    {
     "data": {
      "text/html": [
       "<div>\n",
       "<style scoped>\n",
       "    .dataframe tbody tr th:only-of-type {\n",
       "        vertical-align: middle;\n",
       "    }\n",
       "\n",
       "    .dataframe tbody tr th {\n",
       "        vertical-align: top;\n",
       "    }\n",
       "\n",
       "    .dataframe thead th {\n",
       "        text-align: right;\n",
       "    }\n",
       "</style>\n",
       "<table border=\"1\" class=\"dataframe\">\n",
       "  <thead>\n",
       "    <tr style=\"text-align: right;\">\n",
       "      <th></th>\n",
       "      <th>Null values</th>\n",
       "    </tr>\n",
       "    <tr>\n",
       "      <th>Series</th>\n",
       "      <th></th>\n",
       "    </tr>\n",
       "  </thead>\n",
       "  <tbody>\n",
       "    <tr>\n",
       "      <th>Carbon dioxide emissions (CO2), thousand metric tons of CO2 (CDIAC)</th>\n",
       "      <td>715</td>\n",
       "    </tr>\n",
       "    <tr>\n",
       "      <th>Proportion of land area covered by forest, percentage</th>\n",
       "      <td>4398</td>\n",
       "    </tr>\n",
       "    <tr>\n",
       "      <th>Terrestrial and marine areas protected to total territorial area, percentage</th>\n",
       "      <td>4621</td>\n",
       "    </tr>\n",
       "  </tbody>\n",
       "</table>\n",
       "</div>"
      ],
      "text/plain": [
       "                                                    Null values\n",
       "Series                                                         \n",
       "Carbon dioxide emissions (CO2), thousand metric...          715\n",
       "Proportion of land area covered by forest, perc...         4398\n",
       "Terrestrial and marine areas protected to total...         4621"
      ]
     },
     "execution_count": 15,
     "metadata": {},
     "output_type": "execute_result"
    }
   ],
   "source": [
    "data.groupby(\"Series\").apply(lambda values: values.isna().sum().sum()).to_frame(name=\"Null values\")"
   ]
  },
  {
   "cell_type": "markdown",
   "id": "fcd72c61",
   "metadata": {},
   "source": [
    "From the above DataFrame. We see that _Carbon dioxide emissions (CO2), thousand metric tons of CO2 (CDIAC)_ data inputs had the least amount of null values."
   ]
  },
  {
   "cell_type": "markdown",
   "id": "66b102d4",
   "metadata": {},
   "source": [
    "# DATA EXPLORATION"
   ]
  },
  {
   "cell_type": "markdown",
   "id": "1fcf1010",
   "metadata": {},
   "source": [
    "**Subsetting for 3 different series codes, to be referenced later**"
   ]
  },
  {
   "cell_type": "code",
   "execution_count": 16,
   "id": "61314c24",
   "metadata": {},
   "outputs": [],
   "source": [
    "co2_emissions = data[data[\"SeriesCode\"]==749]\n",
    "forests = data[data[\"SeriesCode\"]==567]\n",
    "protected_area = data[data[\"SeriesCode\"]==616]"
   ]
  },
  {
   "cell_type": "markdown",
   "id": "0bf9925d",
   "metadata": {},
   "source": [
    "**Making the 'Country' column the index for `co2_emissions`**"
   ]
  },
  {
   "cell_type": "code",
   "execution_count": 17,
   "id": "a7bc1ecd",
   "metadata": {},
   "outputs": [],
   "source": [
    "co2_emissions.set_index(\"Country\", inplace=True)"
   ]
  },
  {
   "cell_type": "markdown",
   "id": "305969b5",
   "metadata": {},
   "source": [
    "### CO2 EMISSIONS IN 1990 vs 2011"
   ]
  },
  {
   "cell_type": "markdown",
   "id": "67d94b72",
   "metadata": {},
   "source": [
    "### THE TOP AND BOTTOM 5 COUNTRIES IN TERMS OF CO2 EMISSIONS IN 1990"
   ]
  },
  {
   "cell_type": "markdown",
   "id": "794d124c",
   "metadata": {},
   "source": [
    "**The top 5 countries:**"
   ]
  },
  {
   "cell_type": "code",
   "execution_count": 18,
   "id": "714a9ad5",
   "metadata": {},
   "outputs": [
    {
     "data": {
      "text/plain": [
       "Country\n",
       "United States     4823557.1\n",
       "China             2460744.0\n",
       "Japan             1094287.8\n",
       "India              690576.8\n",
       "United Kingdom     555902.5\n",
       "Name: 1990, dtype: float64"
      ]
     },
     "execution_count": 18,
     "metadata": {},
     "output_type": "execute_result"
    }
   ],
   "source": [
    "co2_emissions[\"1990\"].nlargest()"
   ]
  },
  {
   "cell_type": "markdown",
   "id": "897e1c96",
   "metadata": {},
   "source": [
    "**The bottom 5 countries:**"
   ]
  },
  {
   "cell_type": "code",
   "execution_count": 19,
   "id": "af262f15",
   "metadata": {},
   "outputs": [
    {
     "data": {
      "text/plain": [
       "Country\n",
       "Yemen          -2999.6\n",
       "Niue               3.7\n",
       "Saint Helena       7.3\n",
       "Somalia           18.3\n",
       "Cook Islands      22.0\n",
       "Name: 1990, dtype: float64"
      ]
     },
     "execution_count": 19,
     "metadata": {},
     "output_type": "execute_result"
    }
   ],
   "source": [
    "co2_emissions[\"1990\"].nsmallest()"
   ]
  },
  {
   "cell_type": "markdown",
   "id": "92dd3add",
   "metadata": {},
   "source": [
    "From the above cell, we see that there is a negative data point somewhere in our dataset.  \n",
    "Let's see if there are more negative data points across all years."
   ]
  },
  {
   "cell_type": "code",
   "execution_count": 20,
   "id": "191c45bd",
   "metadata": {},
   "outputs": [
    {
     "data": {
      "text/plain": [
       "1990   -2999.6\n",
       "1991       0.0\n",
       "1992       0.0\n",
       "1993       0.0\n",
       "1994       0.0\n",
       "1995       0.0\n",
       "1996       0.0\n",
       "1997       0.0\n",
       "1998       0.0\n",
       "1999       0.0\n",
       "2000       0.0\n",
       "2001       0.0\n",
       "2002       0.0\n",
       "2003       0.0\n",
       "2004       0.0\n",
       "2005       0.0\n",
       "2006       0.0\n",
       "2007       0.0\n",
       "2008       0.0\n",
       "2009       0.0\n",
       "2010       0.0\n",
       "2011       0.0\n",
       "2014       0.0\n",
       "dtype: float64"
      ]
     },
     "execution_count": 20,
     "metadata": {},
     "output_type": "execute_result"
    }
   ],
   "source": [
    "co2_emissions.iloc[:,4:][co2_emissions.iloc[:, 4:] < 0].sum()"
   ]
  },
  {
   "cell_type": "markdown",
   "id": "7e55a627",
   "metadata": {},
   "source": [
    "As shown in the above cell that in `co2_emissions`, there is only one column with a negative value.  \n",
    "Below we investigate further."
   ]
  },
  {
   "cell_type": "code",
   "execution_count": 21,
   "id": "925ded0d",
   "metadata": {},
   "outputs": [
    {
     "data": {
      "text/html": [
       "<div>\n",
       "<style scoped>\n",
       "    .dataframe tbody tr th:only-of-type {\n",
       "        vertical-align: middle;\n",
       "    }\n",
       "\n",
       "    .dataframe tbody tr th {\n",
       "        vertical-align: top;\n",
       "    }\n",
       "\n",
       "    .dataframe thead th {\n",
       "        text-align: right;\n",
       "    }\n",
       "</style>\n",
       "<table border=\"1\" class=\"dataframe\">\n",
       "  <thead>\n",
       "    <tr style=\"text-align: right;\">\n",
       "      <th></th>\n",
       "      <th>CountryCode</th>\n",
       "      <th>SeriesCode</th>\n",
       "      <th>MDG</th>\n",
       "      <th>Series</th>\n",
       "      <th>1990</th>\n",
       "      <th>1991</th>\n",
       "      <th>1992</th>\n",
       "      <th>1993</th>\n",
       "      <th>1994</th>\n",
       "      <th>1995</th>\n",
       "      <th>...</th>\n",
       "      <th>2003</th>\n",
       "      <th>2004</th>\n",
       "      <th>2005</th>\n",
       "      <th>2006</th>\n",
       "      <th>2007</th>\n",
       "      <th>2008</th>\n",
       "      <th>2009</th>\n",
       "      <th>2010</th>\n",
       "      <th>2011</th>\n",
       "      <th>2014</th>\n",
       "    </tr>\n",
       "    <tr>\n",
       "      <th>Country</th>\n",
       "      <th></th>\n",
       "      <th></th>\n",
       "      <th></th>\n",
       "      <th></th>\n",
       "      <th></th>\n",
       "      <th></th>\n",
       "      <th></th>\n",
       "      <th></th>\n",
       "      <th></th>\n",
       "      <th></th>\n",
       "      <th></th>\n",
       "      <th></th>\n",
       "      <th></th>\n",
       "      <th></th>\n",
       "      <th></th>\n",
       "      <th></th>\n",
       "      <th></th>\n",
       "      <th></th>\n",
       "      <th></th>\n",
       "      <th></th>\n",
       "      <th></th>\n",
       "    </tr>\n",
       "  </thead>\n",
       "  <tbody>\n",
       "    <tr>\n",
       "      <th>Yemen</th>\n",
       "      <td>887</td>\n",
       "      <td>749</td>\n",
       "      <td>Y</td>\n",
       "      <td>Carbon dioxide emissions (CO2), thousand metri...</td>\n",
       "      <td>-2999.6</td>\n",
       "      <td>10109.9</td>\n",
       "      <td>14382.0</td>\n",
       "      <td>9431.5</td>\n",
       "      <td>11367.7</td>\n",
       "      <td>11250.4</td>\n",
       "      <td>...</td>\n",
       "      <td>17304.6</td>\n",
       "      <td>18881.4</td>\n",
       "      <td>20043.8</td>\n",
       "      <td>20795.6</td>\n",
       "      <td>21297.9</td>\n",
       "      <td>22097.3</td>\n",
       "      <td>23556.8</td>\n",
       "      <td>25716.7</td>\n",
       "      <td>22295.4</td>\n",
       "      <td>NaN</td>\n",
       "    </tr>\n",
       "  </tbody>\n",
       "</table>\n",
       "<p>1 rows × 27 columns</p>\n",
       "</div>"
      ],
      "text/plain": [
       "         CountryCode  SeriesCode MDG  \\\n",
       "Country                                \n",
       "Yemen            887         749   Y   \n",
       "\n",
       "                                                    Series    1990     1991  \\\n",
       "Country                                                                       \n",
       "Yemen    Carbon dioxide emissions (CO2), thousand metri... -2999.6  10109.9   \n",
       "\n",
       "            1992    1993     1994     1995  ...     2003     2004     2005  \\\n",
       "Country                                     ...                              \n",
       "Yemen    14382.0  9431.5  11367.7  11250.4  ...  17304.6  18881.4  20043.8   \n",
       "\n",
       "            2006     2007     2008     2009     2010     2011  2014  \n",
       "Country                                                              \n",
       "Yemen    20795.6  21297.9  22097.3  23556.8  25716.7  22295.4   NaN  \n",
       "\n",
       "[1 rows x 27 columns]"
      ]
     },
     "execution_count": 21,
     "metadata": {},
     "output_type": "execute_result"
    }
   ],
   "source": [
    "co2_emissions[co2_emissions.index == \"Yemen\"]"
   ]
  },
  {
   "cell_type": "markdown",
   "id": "01557d8e",
   "metadata": {},
   "source": [
    "- As seen above, the country __Yemen__ has a negative value in 1990.  This isn't consistent with other values for the same country with the same SeriesCode (749).  \n",
    "- All values across the years are positive and are in the thousands, this appears to me that the data is valid but maybe there may have been some human error that made the emission value for Yemen in 1990 negative.  \n",
    "\n",
    "So the all values in `co2_emissions` will be made positive."
   ]
  },
  {
   "cell_type": "code",
   "execution_count": 22,
   "id": "617d61cd",
   "metadata": {},
   "outputs": [],
   "source": [
    "co2_emissions.iloc[:,4:] = co2_emissions.iloc[:,4:].apply(abs)"
   ]
  },
  {
   "cell_type": "markdown",
   "id": "b6e8a062",
   "metadata": {},
   "source": [
    "**Analysing the data after making sure all numeric cells are positive integers**"
   ]
  },
  {
   "cell_type": "markdown",
   "id": "f0c5156c",
   "metadata": {},
   "source": [
    "**The bottom 5 countries after fixing the error encountered:**"
   ]
  },
  {
   "cell_type": "code",
   "execution_count": 23,
   "id": "dc7ae351",
   "metadata": {},
   "outputs": [
    {
     "data": {
      "text/plain": [
       "Country\n",
       "Niue             3.7\n",
       "Saint Helena     7.3\n",
       "Somalia         18.3\n",
       "Cook Islands    22.0\n",
       "Kiribati        22.0\n",
       "Name: 1990, dtype: float64"
      ]
     },
     "execution_count": 23,
     "metadata": {},
     "output_type": "execute_result"
    }
   ],
   "source": [
    "co2_emissions[\"1990\"].nsmallest()"
   ]
  },
  {
   "cell_type": "markdown",
   "id": "61579508",
   "metadata": {},
   "source": [
    "### THE TOP AND BOTTOM 5 COUNTRIES IN TERMS OF CO2 EMISSIONS IN 2011"
   ]
  },
  {
   "cell_type": "markdown",
   "id": "b97d9fc1",
   "metadata": {},
   "source": [
    "**The top 5 countries:**"
   ]
  },
  {
   "cell_type": "code",
   "execution_count": 24,
   "id": "5a08cf83",
   "metadata": {},
   "outputs": [
    {
     "data": {
      "text/plain": [
       "Country\n",
       "China                 9019518.2\n",
       "United States         5305569.6\n",
       "India                 2074344.9\n",
       "Russian Federation    1808073.0\n",
       "Japan                 1187657.0\n",
       "Name: 2011, dtype: float64"
      ]
     },
     "execution_count": 24,
     "metadata": {},
     "output_type": "execute_result"
    }
   ],
   "source": [
    "co2_emissions[\"2011\"].nlargest()"
   ]
  },
  {
   "cell_type": "markdown",
   "id": "d3e5f69f",
   "metadata": {},
   "source": [
    "**The bottom 5 countries:**"
   ]
  },
  {
   "cell_type": "code",
   "execution_count": 25,
   "id": "25dce473",
   "metadata": {},
   "outputs": [
    {
     "data": {
      "text/plain": [
       "Country\n",
       "Niue                         11.0\n",
       "Saint Helena                 11.0\n",
       "Wallis and Futuna Islands    25.7\n",
       "Liechtenstein                51.3\n",
       "Nauru                        51.3\n",
       "Name: 2011, dtype: float64"
      ]
     },
     "execution_count": 25,
     "metadata": {},
     "output_type": "execute_result"
    }
   ],
   "source": [
    "co2_emissions[\"2011\"].nsmallest()"
   ]
  },
  {
   "cell_type": "markdown",
   "id": "100fd4f5",
   "metadata": {},
   "source": [
    "**Top 5 countries with CO2 emissions 1990 vs 2011**"
   ]
  },
  {
   "cell_type": "markdown",
   "id": "6cc3d670",
   "metadata": {},
   "source": [
    "- In 1990, the top 5 countries that emitted the most CO2 were **United States, China, Japan, India, and United Kingdom**, respectively.  \n",
    "- The top 5 countries that emitted CO2 in 2011 were **China, the United States, India, Russian Federation, and Japan**, respectively.  \n",
    "\n",
    "Compared to 1990, 2011's emissions seem to have more than doubled in general."
   ]
  },
  {
   "cell_type": "markdown",
   "id": "ebbce194",
   "metadata": {},
   "source": [
    "**Bottom 5 countries with CO2 emissions 1990 vs 2011**"
   ]
  },
  {
   "cell_type": "markdown",
   "id": "4e90a8d5",
   "metadata": {},
   "source": [
    "- In 1990, the bottom 5 countries that emitted the least CO2 were **Niue, Saint Helena, Somalia, Cook Islands**, and **Kiribati**, respectively.  \n",
    "- The bottom 5 countries that emitted the least CO2 in 2011 were **Saint Helena, Niue, Wallis and Futuna Islands, Nauru**, and **Liechtenstein**, respectively.  \n",
    "\n",
    "The findings are consistent with the emissions found for the countries with the most emissions, which is that they have more than doubled over the 21 years."
   ]
  },
  {
   "cell_type": "markdown",
   "id": "c5a55816",
   "metadata": {},
   "source": [
    "**Let's see what the median is for CO2 Emissions in 1990:**"
   ]
  },
  {
   "cell_type": "markdown",
   "id": "d9263878",
   "metadata": {},
   "source": [
    "The median tells us the data point that is in the middle of a group of data after it has been sorted."
   ]
  },
  {
   "cell_type": "code",
   "execution_count": 26,
   "id": "5cb3ae63",
   "metadata": {},
   "outputs": [
    {
     "data": {
      "text/plain": [
       "3017.9"
      ]
     },
     "execution_count": 26,
     "metadata": {},
     "output_type": "execute_result"
    }
   ],
   "source": [
    "co2_emissions[\"1990\"].median()"
   ]
  },
  {
   "cell_type": "markdown",
   "id": "aef743ad",
   "metadata": {},
   "source": [
    "**Now let's check the mean for CO2 emissions for 1990:**"
   ]
  },
  {
   "cell_type": "markdown",
   "id": "8aed9af5",
   "metadata": {},
   "source": [
    "The mean is the average of all the data points in a group of data."
   ]
  },
  {
   "cell_type": "code",
   "execution_count": 27,
   "id": "d3cdeac6",
   "metadata": {},
   "outputs": [
    {
     "data": {
      "text/plain": [
       "91078.14806629828"
      ]
     },
     "execution_count": 27,
     "metadata": {},
     "output_type": "execute_result"
    }
   ],
   "source": [
    "co2_emissions[\"1990\"].mean()"
   ]
  },
  {
   "cell_type": "markdown",
   "id": "1bae5d8d",
   "metadata": {},
   "source": [
    "There is a very big contrast between the mean and median of CO2 emissions for 1990. This could mean that there are outliers that are very weighty and would have an effect on the mean, not the median."
   ]
  },
  {
   "cell_type": "markdown",
   "id": "94c58dd0",
   "metadata": {},
   "source": [
    "### FOR MORE INSIGHT LET'S SEE THE MINIMUM, MAXIMUM AND INTERQUARTILE RANGE OF THE CO2 EMISSIONS FOR 1990:"
   ]
  },
  {
   "cell_type": "markdown",
   "id": "9ed4c2ab",
   "metadata": {},
   "source": [
    "**The minimum value:**"
   ]
  },
  {
   "cell_type": "markdown",
   "id": "40b5cf2e",
   "metadata": {},
   "source": [
    "This is the smallest possible data point in the specified data group."
   ]
  },
  {
   "cell_type": "code",
   "execution_count": 28,
   "id": "eef19b88",
   "metadata": {},
   "outputs": [
    {
     "data": {
      "text/plain": [
       "3.7"
      ]
     },
     "execution_count": 28,
     "metadata": {},
     "output_type": "execute_result"
    }
   ],
   "source": [
    "co2_emissions[\"1990\"].min()"
   ]
  },
  {
   "cell_type": "markdown",
   "id": "62bbfc71",
   "metadata": {},
   "source": [
    "**The maximum value:**"
   ]
  },
  {
   "cell_type": "markdown",
   "id": "168bff8f",
   "metadata": {},
   "source": [
    "This is the highest possible data point in the specified data group."
   ]
  },
  {
   "cell_type": "code",
   "execution_count": 29,
   "id": "b717a077",
   "metadata": {},
   "outputs": [
    {
     "data": {
      "text/plain": [
       "4823557.1"
      ]
     },
     "execution_count": 29,
     "metadata": {},
     "output_type": "execute_result"
    }
   ],
   "source": [
    "co2_emissions[\"1990\"].max()"
   ]
  },
  {
   "cell_type": "markdown",
   "id": "0cd6818c",
   "metadata": {},
   "source": [
    "**The Interquartile Range (IQR):**"
   ]
  },
  {
   "cell_type": "markdown",
   "id": "c95cdf44",
   "metadata": {},
   "source": [
    "The interquartile range tells us how to spread out the data in the middle, we're calculating the difference between the 75th and the 25th percentile of the data."
   ]
  },
  {
   "cell_type": "code",
   "execution_count": 30,
   "id": "57e3376b",
   "metadata": {
    "scrolled": false
   },
   "outputs": [
    {
     "data": {
      "text/plain": [
       "41638.799999999996"
      ]
     },
     "execution_count": 30,
     "metadata": {},
     "output_type": "execute_result"
    }
   ],
   "source": [
    "q1 = np.nanpercentile(co2_emissions[\"1990\"], 25, interpolation=\"midpoint\")\n",
    "q3 = np.nanpercentile(co2_emissions[\"1990\"], 75, interpolation=\"midpoint\")\n",
    "iqr = q3 - q1\n",
    "iqr"
   ]
  },
  {
   "cell_type": "markdown",
   "id": "20a5d030",
   "metadata": {},
   "source": [
    "**What could be inferred from the Min, Max, Median, Mean, and IQR of the CO2 emissions for 1990?**"
   ]
  },
  {
   "cell_type": "markdown",
   "id": "2f8e20d8",
   "metadata": {},
   "source": [
    "- The minimum value for CO2 emissions in 1990 is **3.7**, the maximum value is **4 823 557.1**. This range is huge.  \n",
    "- The spread on the middle half of CO2 emissions in 1990 is **41 638.8**. The bigger the spread(IQR) value is, the farther spread out the central portion of the data is.  \n",
    "- So because the IQR is a big number, that means that the first and third quartiles are far apart, Thus central portion of the data is in no way spread around the mean.  \n",
    "- The middle data point is **3 017.9**, and the average is **91 078.1**, this tells us that most of our CO2 emissions are in the _thousands_, even the middle data point is in the thousands.  \n",
    "- As much as there may be some emissions in the millions, most are expected to be around the thousands.  \n",
    "- A histogram is expected to be skewed with the smallest bins representing the millions' portion of CO2 emissions."
   ]
  },
  {
   "cell_type": "markdown",
   "id": "4868432f",
   "metadata": {},
   "source": [
    "# HISTOGRAM OF THE CO2 EMISSIONS FOR 1990"
   ]
  },
  {
   "cell_type": "markdown",
   "id": "26bc4b80",
   "metadata": {},
   "source": [
    "**DISCLAIMER:**  \n",
    "For plots about CO2 Emissions, the units of measure is 1e6 or Millions in Kiloton (kt)."
   ]
  },
  {
   "cell_type": "code",
   "execution_count": 31,
   "id": "97cd2e46",
   "metadata": {},
   "outputs": [
    {
     "data": {
      "image/png": "[encoded data removed]",
      "text/plain": [
       "<Figure size 1440x720 with 1 Axes>"
      ]
     },
     "metadata": {
      "needs_background": "light"
     },
     "output_type": "display_data"
    }
   ],
   "source": [
    "n, bins, patches = plt.hist(co2_emissions[\"1990\"], bins=\"sqrt\")\n",
    "_ = plt.xticks(bins)\n",
    "_ = plt.title(\"CO2 EMISSIONS FOR 1990\", fontdict=font)\n",
    "_ = plt.xlabel(\"CO2 EMISSIONS $(kt)$\", fontdict=font)\n",
    "_ = plt.ylabel(\"NUMBER OF MEASURED COUNTRIES\", fontdict=font)\n",
    "plt.show()"
   ]
  },
  {
   "cell_type": "markdown",
   "id": "3a35328e",
   "metadata": {},
   "source": [
    "* The histogram doesn't seem to be varying much, yes, there is some variation but only just.  We see that most data points are clearly in the first bin, telling us that most of the $CO2$ emissions are below **345 000**$kt$.  \n",
    "* Bins that follow have very small amounts of data points, which may explain why the mean was so high and the median so low because the bins that follow may be small but they carry weight.  \n",
    "As expected, most data points represent $CO2$ emissions that are in the Thousands of $kt$."
   ]
  },
  {
   "cell_type": "markdown",
   "id": "db199678",
   "metadata": {},
   "source": [
    "**Now, let's see how well the sample mean is representing the entire dataset's mean using Standard deviation and Standard Error:**"
   ]
  },
  {
   "cell_type": "markdown",
   "id": "36c21ce7",
   "metadata": {},
   "source": [
    "**Standard deviation for CO2 emissions in 1990**"
   ]
  },
  {
   "cell_type": "code",
   "execution_count": 32,
   "id": "3d46d63e",
   "metadata": {},
   "outputs": [
    {
     "data": {
      "text/plain": [
       "416740.74299570255"
      ]
     },
     "execution_count": 32,
     "metadata": {},
     "output_type": "execute_result"
    }
   ],
   "source": [
    "co2_emissions_standard_deviation = co2_emissions[\"1990\"].std()\n",
    "co2_emissions_standard_deviation"
   ]
  },
  {
   "cell_type": "markdown",
   "id": "80bdd00c",
   "metadata": {},
   "source": [
    "**Standard error of the mean for CO2 emissions in 1990**"
   ]
  },
  {
   "cell_type": "code",
   "execution_count": 33,
   "id": "1ccaf87e",
   "metadata": {},
   "outputs": [
    {
     "data": {
      "text/plain": [
       "30976.09547714005"
      ]
     },
     "execution_count": 33,
     "metadata": {},
     "output_type": "execute_result"
    }
   ],
   "source": [
    "co2_emissions_standard_error = co2_emissions[\"1990\"].sem()\n",
    "co2_emissions_standard_error"
   ]
  },
  {
   "cell_type": "markdown",
   "id": "01db0bcb",
   "metadata": {},
   "source": [
    "* Standard deviation is the dispersion of individual data values, meaning standard deviation clarifies how accurately the mean represents the sample data.  \n",
    "* A low standard deviation means the data is clustered closer to the mean. So with the standard deviation for CO2 emissions in 1990 being **416 740.7**, the data is scattered farther from the mean(**91 078.1**).  \n",
    "* The standard error of the mean measures how accurate the sample mean is when compared to the population mean that it's trying to estimate.  \n",
    "* A high standard error means the sample mean is widely spread around the population mean, which could imply the population isn't being represented well. This can also estimate the variability across multiple samples of a population.  "
   ]
  },
  {
   "cell_type": "markdown",
   "id": "29eae3a1",
   "metadata": {},
   "source": [
    "# BRICS ANALYSIS"
   ]
  },
  {
   "cell_type": "markdown",
   "id": "174d4d28",
   "metadata": {},
   "source": [
    "**Filtering a dataframe with only BRICS countries then exploring their C02 emissions over time.**"
   ]
  },
  {
   "cell_type": "code",
   "execution_count": 34,
   "id": "40fe3caf",
   "metadata": {},
   "outputs": [],
   "source": [
    "brics_countries = [\"Brazil\", \"Russian Federation\", \"China\", \"India\", \"United States\", \"South Africa\"]"
   ]
  },
  {
   "cell_type": "code",
   "execution_count": 35,
   "id": "688190fc",
   "metadata": {
    "scrolled": true
   },
   "outputs": [
    {
     "data": {
      "text/html": [
       "<div>\n",
       "<style scoped>\n",
       "    .dataframe tbody tr th:only-of-type {\n",
       "        vertical-align: middle;\n",
       "    }\n",
       "\n",
       "    .dataframe tbody tr th {\n",
       "        vertical-align: top;\n",
       "    }\n",
       "\n",
       "    .dataframe thead th {\n",
       "        text-align: right;\n",
       "    }\n",
       "</style>\n",
       "<table border=\"1\" class=\"dataframe\">\n",
       "  <thead>\n",
       "    <tr style=\"text-align: right;\">\n",
       "      <th></th>\n",
       "      <th>CountryCode</th>\n",
       "      <th>SeriesCode</th>\n",
       "      <th>MDG</th>\n",
       "      <th>Series</th>\n",
       "      <th>1990</th>\n",
       "      <th>1991</th>\n",
       "      <th>1992</th>\n",
       "      <th>1993</th>\n",
       "      <th>1994</th>\n",
       "      <th>1995</th>\n",
       "      <th>...</th>\n",
       "      <th>2003</th>\n",
       "      <th>2004</th>\n",
       "      <th>2005</th>\n",
       "      <th>2006</th>\n",
       "      <th>2007</th>\n",
       "      <th>2008</th>\n",
       "      <th>2009</th>\n",
       "      <th>2010</th>\n",
       "      <th>2011</th>\n",
       "      <th>2014</th>\n",
       "    </tr>\n",
       "    <tr>\n",
       "      <th>Country</th>\n",
       "      <th></th>\n",
       "      <th></th>\n",
       "      <th></th>\n",
       "      <th></th>\n",
       "      <th></th>\n",
       "      <th></th>\n",
       "      <th></th>\n",
       "      <th></th>\n",
       "      <th></th>\n",
       "      <th></th>\n",
       "      <th></th>\n",
       "      <th></th>\n",
       "      <th></th>\n",
       "      <th></th>\n",
       "      <th></th>\n",
       "      <th></th>\n",
       "      <th></th>\n",
       "      <th></th>\n",
       "      <th></th>\n",
       "      <th></th>\n",
       "      <th></th>\n",
       "    </tr>\n",
       "  </thead>\n",
       "  <tbody>\n",
       "    <tr>\n",
       "      <th>Brazil</th>\n",
       "      <td>76</td>\n",
       "      <td>749</td>\n",
       "      <td>Y</td>\n",
       "      <td>Carbon dioxide emissions (CO2), thousand metri...</td>\n",
       "      <td>208887.0</td>\n",
       "      <td>219330.6</td>\n",
       "      <td>220705.7</td>\n",
       "      <td>230738.6</td>\n",
       "      <td>242154.0</td>\n",
       "      <td>258347.5</td>\n",
       "      <td>...</td>\n",
       "      <td>321621.6</td>\n",
       "      <td>337826.0</td>\n",
       "      <td>347308.9</td>\n",
       "      <td>347668.3</td>\n",
       "      <td>363212.7</td>\n",
       "      <td>387675.2</td>\n",
       "      <td>367147.4</td>\n",
       "      <td>419754.2</td>\n",
       "      <td>439412.9</td>\n",
       "      <td>NaN</td>\n",
       "    </tr>\n",
       "    <tr>\n",
       "      <th>China</th>\n",
       "      <td>156</td>\n",
       "      <td>749</td>\n",
       "      <td>Y</td>\n",
       "      <td>Carbon dioxide emissions (CO2), thousand metri...</td>\n",
       "      <td>2460744.0</td>\n",
       "      <td>2584538.3</td>\n",
       "      <td>2695982.1</td>\n",
       "      <td>2878694.0</td>\n",
       "      <td>3058241.3</td>\n",
       "      <td>3320285.2</td>\n",
       "      <td>...</td>\n",
       "      <td>4525177.0</td>\n",
       "      <td>5288166.0</td>\n",
       "      <td>5790017.0</td>\n",
       "      <td>6414463.1</td>\n",
       "      <td>6791804.7</td>\n",
       "      <td>7035443.9</td>\n",
       "      <td>7692210.9</td>\n",
       "      <td>8256969.2</td>\n",
       "      <td>9019518.2</td>\n",
       "      <td>NaN</td>\n",
       "    </tr>\n",
       "    <tr>\n",
       "      <th>India</th>\n",
       "      <td>356</td>\n",
       "      <td>749</td>\n",
       "      <td>Y</td>\n",
       "      <td>Carbon dioxide emissions (CO2), thousand metri...</td>\n",
       "      <td>690576.8</td>\n",
       "      <td>737851.7</td>\n",
       "      <td>783634.2</td>\n",
       "      <td>814297.7</td>\n",
       "      <td>864931.6</td>\n",
       "      <td>920046.6</td>\n",
       "      <td>...</td>\n",
       "      <td>1281913.5</td>\n",
       "      <td>1348524.6</td>\n",
       "      <td>1411127.6</td>\n",
       "      <td>1504364.7</td>\n",
       "      <td>1611199.1</td>\n",
       "      <td>1793075.0</td>\n",
       "      <td>1965820.0</td>\n",
       "      <td>1950950.3</td>\n",
       "      <td>2074344.9</td>\n",
       "      <td>NaN</td>\n",
       "    </tr>\n",
       "    <tr>\n",
       "      <th>Russian Federation</th>\n",
       "      <td>643</td>\n",
       "      <td>749</td>\n",
       "      <td>Y</td>\n",
       "      <td>Carbon dioxide emissions (CO2), thousand metri...</td>\n",
       "      <td>NaN</td>\n",
       "      <td>NaN</td>\n",
       "      <td>2081840.2</td>\n",
       "      <td>1941203.5</td>\n",
       "      <td>1701132.3</td>\n",
       "      <td>1634312.2</td>\n",
       "      <td>...</td>\n",
       "      <td>1604968.9</td>\n",
       "      <td>1602955.7</td>\n",
       "      <td>1615687.5</td>\n",
       "      <td>1669618.1</td>\n",
       "      <td>1667597.6</td>\n",
       "      <td>1715639.0</td>\n",
       "      <td>1574367.8</td>\n",
       "      <td>1742540.1</td>\n",
       "      <td>1808073.0</td>\n",
       "      <td>NaN</td>\n",
       "    </tr>\n",
       "    <tr>\n",
       "      <th>South Africa</th>\n",
       "      <td>710</td>\n",
       "      <td>749</td>\n",
       "      <td>Y</td>\n",
       "      <td>Carbon dioxide emissions (CO2), thousand metri...</td>\n",
       "      <td>319795.4</td>\n",
       "      <td>332618.9</td>\n",
       "      <td>307822.6</td>\n",
       "      <td>321104.5</td>\n",
       "      <td>337576.7</td>\n",
       "      <td>353458.5</td>\n",
       "      <td>...</td>\n",
       "      <td>380810.6</td>\n",
       "      <td>424774.3</td>\n",
       "      <td>391819.0</td>\n",
       "      <td>422445.7</td>\n",
       "      <td>440989.8</td>\n",
       "      <td>469090.0</td>\n",
       "      <td>477806.4</td>\n",
       "      <td>454950.0</td>\n",
       "      <td>477241.7</td>\n",
       "      <td>NaN</td>\n",
       "    </tr>\n",
       "    <tr>\n",
       "      <th>United States</th>\n",
       "      <td>840</td>\n",
       "      <td>749</td>\n",
       "      <td>Y</td>\n",
       "      <td>Carbon dioxide emissions (CO2), thousand metri...</td>\n",
       "      <td>4823557.1</td>\n",
       "      <td>4822383.7</td>\n",
       "      <td>4911103.1</td>\n",
       "      <td>5032931.8</td>\n",
       "      <td>5098475.8</td>\n",
       "      <td>5138009.7</td>\n",
       "      <td>...</td>\n",
       "      <td>5679222.2</td>\n",
       "      <td>5763456.9</td>\n",
       "      <td>5795161.8</td>\n",
       "      <td>5703871.8</td>\n",
       "      <td>5794923.4</td>\n",
       "      <td>5622464.4</td>\n",
       "      <td>5274132.4</td>\n",
       "      <td>5408869.0</td>\n",
       "      <td>5305569.6</td>\n",
       "      <td>NaN</td>\n",
       "    </tr>\n",
       "  </tbody>\n",
       "</table>\n",
       "<p>6 rows × 27 columns</p>\n",
       "</div>"
      ],
      "text/plain": [
       "                    CountryCode  SeriesCode MDG  \\\n",
       "Country                                           \n",
       "Brazil                       76         749   Y   \n",
       "China                       156         749   Y   \n",
       "India                       356         749   Y   \n",
       "Russian Federation          643         749   Y   \n",
       "South Africa                710         749   Y   \n",
       "United States               840         749   Y   \n",
       "\n",
       "                                                               Series  \\\n",
       "Country                                                                 \n",
       "Brazil              Carbon dioxide emissions (CO2), thousand metri...   \n",
       "China               Carbon dioxide emissions (CO2), thousand metri...   \n",
       "India               Carbon dioxide emissions (CO2), thousand metri...   \n",
       "Russian Federation  Carbon dioxide emissions (CO2), thousand metri...   \n",
       "South Africa        Carbon dioxide emissions (CO2), thousand metri...   \n",
       "United States       Carbon dioxide emissions (CO2), thousand metri...   \n",
       "\n",
       "                         1990       1991       1992       1993       1994  \\\n",
       "Country                                                                     \n",
       "Brazil               208887.0   219330.6   220705.7   230738.6   242154.0   \n",
       "China               2460744.0  2584538.3  2695982.1  2878694.0  3058241.3   \n",
       "India                690576.8   737851.7   783634.2   814297.7   864931.6   \n",
       "Russian Federation        NaN        NaN  2081840.2  1941203.5  1701132.3   \n",
       "South Africa         319795.4   332618.9   307822.6   321104.5   337576.7   \n",
       "United States       4823557.1  4822383.7  4911103.1  5032931.8  5098475.8   \n",
       "\n",
       "                         1995  ...       2003       2004       2005  \\\n",
       "Country                        ...                                    \n",
       "Brazil               258347.5  ...   321621.6   337826.0   347308.9   \n",
       "China               3320285.2  ...  4525177.0  5288166.0  5790017.0   \n",
       "India                920046.6  ...  1281913.5  1348524.6  1411127.6   \n",
       "Russian Federation  1634312.2  ...  1604968.9  1602955.7  1615687.5   \n",
       "South Africa         353458.5  ...   380810.6   424774.3   391819.0   \n",
       "United States       5138009.7  ...  5679222.2  5763456.9  5795161.8   \n",
       "\n",
       "                         2006       2007       2008       2009       2010  \\\n",
       "Country                                                                     \n",
       "Brazil               347668.3   363212.7   387675.2   367147.4   419754.2   \n",
       "China               6414463.1  6791804.7  7035443.9  7692210.9  8256969.2   \n",
       "India               1504364.7  1611199.1  1793075.0  1965820.0  1950950.3   \n",
       "Russian Federation  1669618.1  1667597.6  1715639.0  1574367.8  1742540.1   \n",
       "South Africa         422445.7   440989.8   469090.0   477806.4   454950.0   \n",
       "United States       5703871.8  5794923.4  5622464.4  5274132.4  5408869.0   \n",
       "\n",
       "                         2011  2014  \n",
       "Country                              \n",
       "Brazil               439412.9   NaN  \n",
       "China               9019518.2   NaN  \n",
       "India               2074344.9   NaN  \n",
       "Russian Federation  1808073.0   NaN  \n",
       "South Africa         477241.7   NaN  \n",
       "United States       5305569.6   NaN  \n",
       "\n",
       "[6 rows x 27 columns]"
      ]
     },
     "execution_count": 35,
     "metadata": {},
     "output_type": "execute_result"
    }
   ],
   "source": [
    "brics_countries_co2_emissions = co2_emissions[co2_emissions.index.isin(brics_countries)]\n",
    "brics_countries_co2_emissions"
   ]
  },
  {
   "cell_type": "code",
   "execution_count": 36,
   "id": "48f7b33a",
   "metadata": {
    "scrolled": true
   },
   "outputs": [
    {
     "data": {
      "text/html": [
       "<div>\n",
       "<style scoped>\n",
       "    .dataframe tbody tr th:only-of-type {\n",
       "        vertical-align: middle;\n",
       "    }\n",
       "\n",
       "    .dataframe tbody tr th {\n",
       "        vertical-align: top;\n",
       "    }\n",
       "\n",
       "    .dataframe thead th {\n",
       "        text-align: right;\n",
       "    }\n",
       "</style>\n",
       "<table border=\"1\" class=\"dataframe\">\n",
       "  <thead>\n",
       "    <tr style=\"text-align: right;\">\n",
       "      <th></th>\n",
       "      <th>CountryCode</th>\n",
       "      <th>SeriesCode</th>\n",
       "      <th>MDG</th>\n",
       "      <th>Series</th>\n",
       "      <th>1990</th>\n",
       "      <th>1991</th>\n",
       "      <th>1992</th>\n",
       "      <th>1993</th>\n",
       "      <th>1994</th>\n",
       "      <th>1995</th>\n",
       "      <th>...</th>\n",
       "      <th>2003</th>\n",
       "      <th>2004</th>\n",
       "      <th>2005</th>\n",
       "      <th>2006</th>\n",
       "      <th>2007</th>\n",
       "      <th>2008</th>\n",
       "      <th>2009</th>\n",
       "      <th>2010</th>\n",
       "      <th>2011</th>\n",
       "      <th>2014</th>\n",
       "    </tr>\n",
       "    <tr>\n",
       "      <th>Country</th>\n",
       "      <th></th>\n",
       "      <th></th>\n",
       "      <th></th>\n",
       "      <th></th>\n",
       "      <th></th>\n",
       "      <th></th>\n",
       "      <th></th>\n",
       "      <th></th>\n",
       "      <th></th>\n",
       "      <th></th>\n",
       "      <th></th>\n",
       "      <th></th>\n",
       "      <th></th>\n",
       "      <th></th>\n",
       "      <th></th>\n",
       "      <th></th>\n",
       "      <th></th>\n",
       "      <th></th>\n",
       "      <th></th>\n",
       "      <th></th>\n",
       "      <th></th>\n",
       "    </tr>\n",
       "  </thead>\n",
       "  <tbody>\n",
       "    <tr>\n",
       "      <th>Russian Federation</th>\n",
       "      <td>643</td>\n",
       "      <td>749</td>\n",
       "      <td>Y</td>\n",
       "      <td>Carbon dioxide emissions (CO2), thousand metri...</td>\n",
       "      <td>NaN</td>\n",
       "      <td>NaN</td>\n",
       "      <td>2081840.2</td>\n",
       "      <td>1941203.5</td>\n",
       "      <td>1701132.3</td>\n",
       "      <td>1634312.2</td>\n",
       "      <td>...</td>\n",
       "      <td>1604968.9</td>\n",
       "      <td>1602955.7</td>\n",
       "      <td>1615687.5</td>\n",
       "      <td>1669618.1</td>\n",
       "      <td>1667597.6</td>\n",
       "      <td>1715639.0</td>\n",
       "      <td>1574367.8</td>\n",
       "      <td>1742540.1</td>\n",
       "      <td>1808073.0</td>\n",
       "      <td>NaN</td>\n",
       "    </tr>\n",
       "  </tbody>\n",
       "</table>\n",
       "<p>1 rows × 27 columns</p>\n",
       "</div>"
      ],
      "text/plain": [
       "                    CountryCode  SeriesCode MDG  \\\n",
       "Country                                           \n",
       "Russian Federation          643         749   Y   \n",
       "\n",
       "                                                               Series  1990  \\\n",
       "Country                                                                       \n",
       "Russian Federation  Carbon dioxide emissions (CO2), thousand metri...   NaN   \n",
       "\n",
       "                    1991       1992       1993       1994       1995  ...  \\\n",
       "Country                                                               ...   \n",
       "Russian Federation   NaN  2081840.2  1941203.5  1701132.3  1634312.2  ...   \n",
       "\n",
       "                         2003       2004       2005       2006       2007  \\\n",
       "Country                                                                     \n",
       "Russian Federation  1604968.9  1602955.7  1615687.5  1669618.1  1667597.6   \n",
       "\n",
       "                         2008       2009       2010       2011  2014  \n",
       "Country                                                               \n",
       "Russian Federation  1715639.0  1574367.8  1742540.1  1808073.0   NaN  \n",
       "\n",
       "[1 rows x 27 columns]"
      ]
     },
     "execution_count": 36,
     "metadata": {},
     "output_type": "execute_result"
    }
   ],
   "source": [
    "russian_emissions = brics_countries_co2_emissions[brics_countries_co2_emissions.index==\"Russian Federation\"]\n",
    "russian_emissions"
   ]
  },
  {
   "cell_type": "markdown",
   "id": "4e9e71af",
   "metadata": {},
   "source": [
    "As seen above, Russia has some missing data which affects the accuracy of the analysis.  \n",
    "So those missing data points will be filled with the nearest sufficient $CO2$ emission data point from Russia."
   ]
  },
  {
   "cell_type": "code",
   "execution_count": 37,
   "id": "cb3c3a05",
   "metadata": {},
   "outputs": [],
   "source": [
    "filled_nan_russian_emissions = russian_emissions.T.apply(\"fillna\", method=\"bfill\").T"
   ]
  },
  {
   "cell_type": "code",
   "execution_count": 38,
   "id": "9efe7f2f",
   "metadata": {},
   "outputs": [
    {
     "data": {
      "text/html": [
       "<div>\n",
       "<style scoped>\n",
       "    .dataframe tbody tr th:only-of-type {\n",
       "        vertical-align: middle;\n",
       "    }\n",
       "\n",
       "    .dataframe tbody tr th {\n",
       "        vertical-align: top;\n",
       "    }\n",
       "\n",
       "    .dataframe thead th {\n",
       "        text-align: right;\n",
       "    }\n",
       "</style>\n",
       "<table border=\"1\" class=\"dataframe\">\n",
       "  <thead>\n",
       "    <tr style=\"text-align: right;\">\n",
       "      <th></th>\n",
       "      <th>CountryCode</th>\n",
       "      <th>SeriesCode</th>\n",
       "      <th>MDG</th>\n",
       "      <th>Series</th>\n",
       "      <th>1990</th>\n",
       "      <th>1991</th>\n",
       "      <th>1992</th>\n",
       "      <th>1993</th>\n",
       "      <th>1994</th>\n",
       "      <th>1995</th>\n",
       "      <th>...</th>\n",
       "      <th>2003</th>\n",
       "      <th>2004</th>\n",
       "      <th>2005</th>\n",
       "      <th>2006</th>\n",
       "      <th>2007</th>\n",
       "      <th>2008</th>\n",
       "      <th>2009</th>\n",
       "      <th>2010</th>\n",
       "      <th>2011</th>\n",
       "      <th>2014</th>\n",
       "    </tr>\n",
       "    <tr>\n",
       "      <th>Country</th>\n",
       "      <th></th>\n",
       "      <th></th>\n",
       "      <th></th>\n",
       "      <th></th>\n",
       "      <th></th>\n",
       "      <th></th>\n",
       "      <th></th>\n",
       "      <th></th>\n",
       "      <th></th>\n",
       "      <th></th>\n",
       "      <th></th>\n",
       "      <th></th>\n",
       "      <th></th>\n",
       "      <th></th>\n",
       "      <th></th>\n",
       "      <th></th>\n",
       "      <th></th>\n",
       "      <th></th>\n",
       "      <th></th>\n",
       "      <th></th>\n",
       "      <th></th>\n",
       "    </tr>\n",
       "  </thead>\n",
       "  <tbody>\n",
       "    <tr>\n",
       "      <th>Brazil</th>\n",
       "      <td>76</td>\n",
       "      <td>749</td>\n",
       "      <td>Y</td>\n",
       "      <td>Carbon dioxide emissions (CO2), thousand metri...</td>\n",
       "      <td>208887.0</td>\n",
       "      <td>219330.6</td>\n",
       "      <td>220705.7</td>\n",
       "      <td>230738.6</td>\n",
       "      <td>242154.0</td>\n",
       "      <td>258347.5</td>\n",
       "      <td>...</td>\n",
       "      <td>321621.6</td>\n",
       "      <td>337826.0</td>\n",
       "      <td>347308.9</td>\n",
       "      <td>347668.3</td>\n",
       "      <td>363212.7</td>\n",
       "      <td>387675.2</td>\n",
       "      <td>367147.4</td>\n",
       "      <td>419754.2</td>\n",
       "      <td>439412.9</td>\n",
       "      <td>NaN</td>\n",
       "    </tr>\n",
       "    <tr>\n",
       "      <th>China</th>\n",
       "      <td>156</td>\n",
       "      <td>749</td>\n",
       "      <td>Y</td>\n",
       "      <td>Carbon dioxide emissions (CO2), thousand metri...</td>\n",
       "      <td>2460744.0</td>\n",
       "      <td>2584538.3</td>\n",
       "      <td>2695982.1</td>\n",
       "      <td>2878694.0</td>\n",
       "      <td>3058241.3</td>\n",
       "      <td>3320285.2</td>\n",
       "      <td>...</td>\n",
       "      <td>4525177.0</td>\n",
       "      <td>5288166.0</td>\n",
       "      <td>5790017.0</td>\n",
       "      <td>6414463.1</td>\n",
       "      <td>6791804.7</td>\n",
       "      <td>7035443.9</td>\n",
       "      <td>7692210.9</td>\n",
       "      <td>8256969.2</td>\n",
       "      <td>9019518.2</td>\n",
       "      <td>NaN</td>\n",
       "    </tr>\n",
       "    <tr>\n",
       "      <th>India</th>\n",
       "      <td>356</td>\n",
       "      <td>749</td>\n",
       "      <td>Y</td>\n",
       "      <td>Carbon dioxide emissions (CO2), thousand metri...</td>\n",
       "      <td>690576.8</td>\n",
       "      <td>737851.7</td>\n",
       "      <td>783634.2</td>\n",
       "      <td>814297.7</td>\n",
       "      <td>864931.6</td>\n",
       "      <td>920046.6</td>\n",
       "      <td>...</td>\n",
       "      <td>1281913.5</td>\n",
       "      <td>1348524.6</td>\n",
       "      <td>1411127.6</td>\n",
       "      <td>1504364.7</td>\n",
       "      <td>1611199.1</td>\n",
       "      <td>1793075.0</td>\n",
       "      <td>1965820.0</td>\n",
       "      <td>1950950.3</td>\n",
       "      <td>2074344.9</td>\n",
       "      <td>NaN</td>\n",
       "    </tr>\n",
       "    <tr>\n",
       "      <th>South Africa</th>\n",
       "      <td>710</td>\n",
       "      <td>749</td>\n",
       "      <td>Y</td>\n",
       "      <td>Carbon dioxide emissions (CO2), thousand metri...</td>\n",
       "      <td>319795.4</td>\n",
       "      <td>332618.9</td>\n",
       "      <td>307822.6</td>\n",
       "      <td>321104.5</td>\n",
       "      <td>337576.7</td>\n",
       "      <td>353458.5</td>\n",
       "      <td>...</td>\n",
       "      <td>380810.6</td>\n",
       "      <td>424774.3</td>\n",
       "      <td>391819.0</td>\n",
       "      <td>422445.7</td>\n",
       "      <td>440989.8</td>\n",
       "      <td>469090.0</td>\n",
       "      <td>477806.4</td>\n",
       "      <td>454950.0</td>\n",
       "      <td>477241.7</td>\n",
       "      <td>NaN</td>\n",
       "    </tr>\n",
       "    <tr>\n",
       "      <th>United States</th>\n",
       "      <td>840</td>\n",
       "      <td>749</td>\n",
       "      <td>Y</td>\n",
       "      <td>Carbon dioxide emissions (CO2), thousand metri...</td>\n",
       "      <td>4823557.1</td>\n",
       "      <td>4822383.7</td>\n",
       "      <td>4911103.1</td>\n",
       "      <td>5032931.8</td>\n",
       "      <td>5098475.8</td>\n",
       "      <td>5138009.7</td>\n",
       "      <td>...</td>\n",
       "      <td>5679222.2</td>\n",
       "      <td>5763456.9</td>\n",
       "      <td>5795161.8</td>\n",
       "      <td>5703871.8</td>\n",
       "      <td>5794923.4</td>\n",
       "      <td>5622464.4</td>\n",
       "      <td>5274132.4</td>\n",
       "      <td>5408869.0</td>\n",
       "      <td>5305569.6</td>\n",
       "      <td>NaN</td>\n",
       "    </tr>\n",
       "    <tr>\n",
       "      <th>Russian Federation</th>\n",
       "      <td>643</td>\n",
       "      <td>749</td>\n",
       "      <td>Y</td>\n",
       "      <td>Carbon dioxide emissions (CO2), thousand metri...</td>\n",
       "      <td>2081840.2</td>\n",
       "      <td>2081840.2</td>\n",
       "      <td>2081840.2</td>\n",
       "      <td>1941203.5</td>\n",
       "      <td>1701132.3</td>\n",
       "      <td>1634312.2</td>\n",
       "      <td>...</td>\n",
       "      <td>1604968.9</td>\n",
       "      <td>1602955.7</td>\n",
       "      <td>1615687.5</td>\n",
       "      <td>1669618.1</td>\n",
       "      <td>1667597.6</td>\n",
       "      <td>1715639.0</td>\n",
       "      <td>1574367.8</td>\n",
       "      <td>1742540.1</td>\n",
       "      <td>1808073.0</td>\n",
       "      <td>NaN</td>\n",
       "    </tr>\n",
       "  </tbody>\n",
       "</table>\n",
       "<p>6 rows × 27 columns</p>\n",
       "</div>"
      ],
      "text/plain": [
       "                   CountryCode SeriesCode MDG  \\\n",
       "Country                                         \n",
       "Brazil                      76        749   Y   \n",
       "China                      156        749   Y   \n",
       "India                      356        749   Y   \n",
       "South Africa               710        749   Y   \n",
       "United States              840        749   Y   \n",
       "Russian Federation         643        749   Y   \n",
       "\n",
       "                                                               Series  \\\n",
       "Country                                                                 \n",
       "Brazil              Carbon dioxide emissions (CO2), thousand metri...   \n",
       "China               Carbon dioxide emissions (CO2), thousand metri...   \n",
       "India               Carbon dioxide emissions (CO2), thousand metri...   \n",
       "South Africa        Carbon dioxide emissions (CO2), thousand metri...   \n",
       "United States       Carbon dioxide emissions (CO2), thousand metri...   \n",
       "Russian Federation  Carbon dioxide emissions (CO2), thousand metri...   \n",
       "\n",
       "                         1990       1991       1992       1993       1994  \\\n",
       "Country                                                                     \n",
       "Brazil               208887.0   219330.6   220705.7   230738.6   242154.0   \n",
       "China               2460744.0  2584538.3  2695982.1  2878694.0  3058241.3   \n",
       "India                690576.8   737851.7   783634.2   814297.7   864931.6   \n",
       "South Africa         319795.4   332618.9   307822.6   321104.5   337576.7   \n",
       "United States       4823557.1  4822383.7  4911103.1  5032931.8  5098475.8   \n",
       "Russian Federation  2081840.2  2081840.2  2081840.2  1941203.5  1701132.3   \n",
       "\n",
       "                         1995  ...       2003       2004       2005  \\\n",
       "Country                        ...                                    \n",
       "Brazil               258347.5  ...   321621.6   337826.0   347308.9   \n",
       "China               3320285.2  ...  4525177.0  5288166.0  5790017.0   \n",
       "India                920046.6  ...  1281913.5  1348524.6  1411127.6   \n",
       "South Africa         353458.5  ...   380810.6   424774.3   391819.0   \n",
       "United States       5138009.7  ...  5679222.2  5763456.9  5795161.8   \n",
       "Russian Federation  1634312.2  ...  1604968.9  1602955.7  1615687.5   \n",
       "\n",
       "                         2006       2007       2008       2009       2010  \\\n",
       "Country                                                                     \n",
       "Brazil               347668.3   363212.7   387675.2   367147.4   419754.2   \n",
       "China               6414463.1  6791804.7  7035443.9  7692210.9  8256969.2   \n",
       "India               1504364.7  1611199.1  1793075.0  1965820.0  1950950.3   \n",
       "South Africa         422445.7   440989.8   469090.0   477806.4   454950.0   \n",
       "United States       5703871.8  5794923.4  5622464.4  5274132.4  5408869.0   \n",
       "Russian Federation  1669618.1  1667597.6  1715639.0  1574367.8  1742540.1   \n",
       "\n",
       "                         2011 2014  \n",
       "Country                             \n",
       "Brazil               439412.9  NaN  \n",
       "China               9019518.2  NaN  \n",
       "India               2074344.9  NaN  \n",
       "South Africa         477241.7  NaN  \n",
       "United States       5305569.6  NaN  \n",
       "Russian Federation  1808073.0  NaN  \n",
       "\n",
       "[6 rows x 27 columns]"
      ]
     },
     "execution_count": 38,
     "metadata": {},
     "output_type": "execute_result"
    }
   ],
   "source": [
    "list_of_dfs = [brics_countries_co2_emissions, filled_nan_russian_emissions]\n",
    "df_with_duplicates_for_russia = pd.concat(list_of_dfs)\n",
    "brics_countries_co2_emissions = df_with_duplicates_for_russia[~df_with_duplicates_for_russia.index.duplicated(keep=\"last\")]\n",
    "brics_countries_co2_emissions"
   ]
  },
  {
   "cell_type": "code",
   "execution_count": 39,
   "id": "3d742cd2",
   "metadata": {},
   "outputs": [
    {
     "data": {
      "text/html": [
       "<div>\n",
       "<style scoped>\n",
       "    .dataframe tbody tr th:only-of-type {\n",
       "        vertical-align: middle;\n",
       "    }\n",
       "\n",
       "    .dataframe tbody tr th {\n",
       "        vertical-align: top;\n",
       "    }\n",
       "\n",
       "    .dataframe thead th {\n",
       "        text-align: right;\n",
       "    }\n",
       "</style>\n",
       "<table border=\"1\" class=\"dataframe\">\n",
       "  <thead>\n",
       "    <tr style=\"text-align: right;\">\n",
       "      <th>Country</th>\n",
       "      <th>Brazil</th>\n",
       "      <th>China</th>\n",
       "      <th>India</th>\n",
       "      <th>Russian Federation</th>\n",
       "      <th>South Africa</th>\n",
       "      <th>United States</th>\n",
       "    </tr>\n",
       "  </thead>\n",
       "  <tbody>\n",
       "    <tr>\n",
       "      <th>2008</th>\n",
       "      <td>387675.2</td>\n",
       "      <td>7035443.9</td>\n",
       "      <td>1793075.0</td>\n",
       "      <td>1715639.0</td>\n",
       "      <td>469090.0</td>\n",
       "      <td>5622464.4</td>\n",
       "    </tr>\n",
       "    <tr>\n",
       "      <th>2009</th>\n",
       "      <td>367147.4</td>\n",
       "      <td>7692210.9</td>\n",
       "      <td>1965820.0</td>\n",
       "      <td>1574367.8</td>\n",
       "      <td>477806.4</td>\n",
       "      <td>5274132.4</td>\n",
       "    </tr>\n",
       "    <tr>\n",
       "      <th>2010</th>\n",
       "      <td>419754.2</td>\n",
       "      <td>8256969.2</td>\n",
       "      <td>1950950.3</td>\n",
       "      <td>1742540.1</td>\n",
       "      <td>454950.0</td>\n",
       "      <td>5408869.0</td>\n",
       "    </tr>\n",
       "    <tr>\n",
       "      <th>2011</th>\n",
       "      <td>439412.9</td>\n",
       "      <td>9019518.2</td>\n",
       "      <td>2074344.9</td>\n",
       "      <td>1808073.0</td>\n",
       "      <td>477241.7</td>\n",
       "      <td>5305569.6</td>\n",
       "    </tr>\n",
       "    <tr>\n",
       "      <th>2014</th>\n",
       "      <td>0</td>\n",
       "      <td>0</td>\n",
       "      <td>0</td>\n",
       "      <td>0</td>\n",
       "      <td>0</td>\n",
       "      <td>0</td>\n",
       "    </tr>\n",
       "  </tbody>\n",
       "</table>\n",
       "</div>"
      ],
      "text/plain": [
       "Country    Brazil      China      India Russian Federation South Africa  \\\n",
       "2008     387675.2  7035443.9  1793075.0          1715639.0     469090.0   \n",
       "2009     367147.4  7692210.9  1965820.0          1574367.8     477806.4   \n",
       "2010     419754.2  8256969.2  1950950.3          1742540.1     454950.0   \n",
       "2011     439412.9  9019518.2  2074344.9          1808073.0     477241.7   \n",
       "2014            0          0          0                  0            0   \n",
       "\n",
       "Country United States  \n",
       "2008        5622464.4  \n",
       "2009        5274132.4  \n",
       "2010        5408869.0  \n",
       "2011        5305569.6  \n",
       "2014                0  "
      ]
     },
     "execution_count": 39,
     "metadata": {},
     "output_type": "execute_result"
    }
   ],
   "source": [
    "brics_graph = brics_countries_co2_emissions.groupby(\"Country\").sum().T\n",
    "brics_graph.tail()"
   ]
  },
  {
   "cell_type": "markdown",
   "id": "7844d395",
   "metadata": {},
   "source": [
    "The last year represented will be omitted because it has no reliable data recorded as seen in the table above, it is unlikely that no country had any emissions in 2014.  \n",
    "Also, the years 2012 and 2013 have no data because they were dropped earlier when it was realized that they either only had empty cells or null values."
   ]
  },
  {
   "cell_type": "code",
   "execution_count": 40,
   "id": "6099115d",
   "metadata": {},
   "outputs": [],
   "source": [
    "brics_graph = brics_countries_co2_emissions.groupby(\"Country\").sum()[years[:-1]].T"
   ]
  },
  {
   "cell_type": "markdown",
   "id": "541b7e72",
   "metadata": {},
   "source": [
    "### LINE GRAPH TO SHOW CO2 EMISSIONS FOR BRICS COUNTRIES"
   ]
  },
  {
   "cell_type": "markdown",
   "id": "22c23415",
   "metadata": {},
   "source": [
    "**DISCLAIMER:**  \n",
    "For plots about CO2 Emissions, the units of measure is 1e6 or 1 000 000 Kiloton (kt)."
   ]
  },
  {
   "cell_type": "code",
   "execution_count": 41,
   "id": "7ad90e71",
   "metadata": {},
   "outputs": [],
   "source": [
    "def format_yticks(value, index=None):\n",
    "    if value >= 1000000:\n",
    "        value = str(value)\n",
    "        return f\"{value[0]} Million\"\n",
    "    else:\n",
    "        return value"
   ]
  },
  {
   "cell_type": "code",
   "execution_count": 42,
   "id": "a2023c61",
   "metadata": {},
   "outputs": [
    {
     "data": {
      "image/png": "[encoded data removed]",
      "text/plain": [
       "<Figure size 1440x720 with 1 Axes>"
      ]
     },
     "metadata": {
      "needs_background": "light"
     },
     "output_type": "display_data"
    }
   ],
   "source": [
    "ax = brics_graph.plot(kind=\"line\")\n",
    "_ = plt.title(\"CO2 EMISSIONS FOR BRICS COUNTRIES OVER 20 YEARS\", fontdict=font)\n",
    "_ = plt.xlabel(\"YEARS\", fontdict=font)\n",
    "_ = plt.ylabel(\"CO2 EMISSIONS $(kt)$\", fontdict=font)\n",
    "ax.yaxis.set_major_formatter(format_yticks)\n",
    "plt.show()"
   ]
  },
  {
   "cell_type": "markdown",
   "id": "f7261f85",
   "metadata": {},
   "source": [
    "* In 1990, Brazil had the lowest CO2 emissions, followed by South Africa and India respectively.  \n",
    "* The United States had the highest CO2 emissions, followed by China and Russia.  \n",
    "* This stayed consistent over the years until 2005, when China then started emitting the most CO2, followed by the United States.  \n",
    "* Around 1993, Russia started emitting less CO2 until around 1997, when the emissions remained at a constant rate.  \n",
    "* Throughout this timeframe, Russia is ranked number 3 in CO2 emissions until around 2008 when India (number 4 in CO2 emissions for prior decades) overtook it slightly after a gradual consistent increase over years prior.  \n",
    "* Russia kept its emission levels stable, not dropping or increasing much.  \n",
    "*South Africa and Brazil kept emitting the least amount of CO2, basically being on the same level throughout time."
   ]
  },
  {
   "cell_type": "markdown",
   "id": "1be85aa2",
   "metadata": {},
   "source": [
    "# FOREST LAND vs PROTECTED LAND"
   ]
  },
  {
   "cell_type": "markdown",
   "id": "01116e5d",
   "metadata": {},
   "source": [
    "**Let's observe what the mean and standard deviation for land area covered by forest in 1990 is:**"
   ]
  },
  {
   "cell_type": "markdown",
   "id": "b86d6b9f",
   "metadata": {},
   "source": [
    "**MEAN:**"
   ]
  },
  {
   "cell_type": "code",
   "execution_count": 43,
   "id": "bd11dd3f",
   "metadata": {},
   "outputs": [
    {
     "data": {
      "text/plain": [
       "32.97713004484306"
      ]
     },
     "execution_count": 43,
     "metadata": {},
     "output_type": "execute_result"
    }
   ],
   "source": [
    "forests[\"1990\"].mean()"
   ]
  },
  {
   "cell_type": "markdown",
   "id": "db2d4a9d",
   "metadata": {},
   "source": [
    "**STANDARD DEVIATION:**"
   ]
  },
  {
   "cell_type": "code",
   "execution_count": 44,
   "id": "498d3bcc",
   "metadata": {},
   "outputs": [
    {
     "data": {
      "text/plain": [
       "25.497512099375246"
      ]
     },
     "execution_count": 44,
     "metadata": {},
     "output_type": "execute_result"
    }
   ],
   "source": [
    "forests[\"1990\"].std()"
   ]
  },
  {
   "cell_type": "markdown",
   "id": "8c25e2f4",
   "metadata": {},
   "source": [
    "The standard deviation is large because data points for the land area covered by forest in 1990 are spread out farther from the mean"
   ]
  },
  {
   "cell_type": "markdown",
   "id": "7edf05c9",
   "metadata": {},
   "source": [
    "### LET'S TRY TO VISUALIZE THIS DATA AS HISTOGRAMS, HOW WILL THEY BE LOOKING?"
   ]
  },
  {
   "cell_type": "code",
   "execution_count": 45,
   "id": "432da2f8",
   "metadata": {},
   "outputs": [
    {
     "data": {
      "image/png": "[encoded data removed]",
      "text/plain": [
       "<Figure size 1440x720 with 1 Axes>"
      ]
     },
     "metadata": {
      "needs_background": "light"
     },
     "output_type": "display_data"
    }
   ],
   "source": [
    "_ = plt.hist(forests[\"1990\"], bins=\"sqrt\")\n",
    "_ = plt.title(\"PERCENTAGE OF LAND AREA COVERED BY FOREST IN 1990\", fontdict=font)\n",
    "_ = plt.xlabel(\"PERCENTAGE\", fontdict=font)\n",
    "_ = plt.ylabel(\"NUMBER OF MEASURED COUNTRIES\", fontdict=font)\n",
    "plt.show()"
   ]
  },
  {
   "cell_type": "code",
   "execution_count": 46,
   "id": "40918f77",
   "metadata": {},
   "outputs": [
    {
     "data": {
      "image/png": "[encoded data removed]",
      "text/plain": [
       "<Figure size 1440x720 with 1 Axes>"
      ]
     },
     "metadata": {
      "needs_background": "light"
     },
     "output_type": "display_data"
    }
   ],
   "source": [
    "_ = plt.hist(protected_area[\"1990\"], bins=\"sqrt\")\n",
    "_ = plt.title(\"PERCENTAGE OF AREA PROTECTED IN 1990\", fontdict=font)\n",
    "_ = plt.xlabel(\"PERCENTAGE\", fontdict=font)\n",
    "_ = plt.ylabel(\"NUMBER OF MEASURED COUNTRIES\", fontdict=font)\n",
    "plt.show()"
   ]
  },
  {
   "cell_type": "markdown",
   "id": "77a6ba48",
   "metadata": {},
   "source": [
    "Both histograms are skewed right.  "
   ]
  },
  {
   "cell_type": "markdown",
   "id": "0295041e",
   "metadata": {},
   "source": [
    "### USING A REGRESSION PLOT TO SEE THE RELATIONSHIP BETWEEN PROTECTED AND FOREST LAND AREAS IN 2000"
   ]
  },
  {
   "cell_type": "code",
   "execution_count": 47,
   "id": "6bf6926e",
   "metadata": {},
   "outputs": [
    {
     "data": {
      "image/png": "[encoded data removed]",
      "text/plain": [
       "<Figure size 1440x720 with 1 Axes>"
      ]
     },
     "metadata": {
      "needs_background": "light"
     },
     "output_type": "display_data"
    }
   ],
   "source": [
    "ax = sns.regplot(forests[\"2000\"],protected_area[\"2000\"], color=\"red\")\n",
    "_ = plt.xlabel(\"LAND AREA COVERED BY FOREST % IN 2000\", fontdict=font)\n",
    "_ = plt.ylabel(\"LAND AREA PROTECTED % IN 2000\", fontdict=font)\n",
    "_ = plt.title(\"FOREST LAND VS PROTECTED LAND IN 2000\", fontdict=font)\n",
    "plt.show()"
   ]
  },
  {
   "cell_type": "markdown",
   "id": "84f7b49c",
   "metadata": {},
   "source": [
    "* The relationship between the land area covered by forest versus the land area protected in 2000 is weak, positive, and linear.  \n",
    "* What makes it positive is how the trendline is not exactly horizontal.  \n",
    "* It is slightly trending upwards and that makes it positive, slightly.  \n",
    "* Had there been no trendline, it would be very difficult to tell which direction the dots are clustered towards, which is why I claim the relationship to be weak.  \n",
    "\n",
    "* It could also be taken into consideration that the outliers are what may be making the trendline make it seem like there's a relationship, even when there may not be one, depending on how dense the outliers may be. \n",
    "\n",
    "Below, these possible outliers are examined so we can find out the exact countries that were outliers."
   ]
  },
  {
   "cell_type": "markdown",
   "id": "dfcacd6f",
   "metadata": {},
   "source": [
    "### OUTLIER COUNTRIES AND THEIR $CO2$ EMISSIONS IN THE YEAR 2000:"
   ]
  },
  {
   "cell_type": "markdown",
   "id": "38f01393",
   "metadata": {},
   "source": [
    "**OUTLIERS FOR PROTECTED LAND AREA**"
   ]
  },
  {
   "cell_type": "code",
   "execution_count": 48,
   "id": "fd3f465b",
   "metadata": {},
   "outputs": [
    {
     "data": {
      "image/png": "[encoded data removed]",
      "text/plain": [
       "<Figure size 1440x720 with 1 Axes>"
      ]
     },
     "metadata": {
      "needs_background": "light"
     },
     "output_type": "display_data"
    }
   ],
   "source": [
    "_ = protected_area[[\"2000\"]].boxplot()\n",
    "_ = plt.ylabel(\"LAND AREA PROTECTED PERCENTAGE\", fontdict=font)\n",
    "_ = plt.xlabel(\"THE YEAR 2000\", fontdict=font)\n",
    "_ = plt.title(\"BOXPLOT FOR LAND AREA PROTECTED IN 2000\", fontdict=font)\n",
    "plt.show()"
   ]
  },
  {
   "cell_type": "markdown",
   "id": "26e0fc35",
   "metadata": {},
   "source": [
    "As seen on the boxplot, there are several outliers. Below we will expose the exact countries and their emissions.  \n",
    "* We will use the interquartile range to calculate extreme lower and upper fences.  \n",
    "* The upper fence highlights any data values that exceed it.  \n",
    "* The lower fence highlights any data values that are lower than it."
   ]
  },
  {
   "cell_type": "code",
   "execution_count": 49,
   "id": "6f5ae8cb",
   "metadata": {},
   "outputs": [],
   "source": [
    "q1 = np.nanpercentile(protected_area[\"2000\"], 25, interpolation=\"midpoint\")\n",
    "q3 = np.nanpercentile(protected_area[\"2000\"], 75, interpolation=\"midpoint\")\n",
    "iqr = q3 - q1\n",
    "upper_fence = q3 + (3 * iqr)"
   ]
  },
  {
   "cell_type": "code",
   "execution_count": 50,
   "id": "7f736d82",
   "metadata": {},
   "outputs": [
    {
     "data": {
      "text/html": [
       "<div>\n",
       "<style scoped>\n",
       "    .dataframe tbody tr th:only-of-type {\n",
       "        vertical-align: middle;\n",
       "    }\n",
       "\n",
       "    .dataframe tbody tr th {\n",
       "        vertical-align: top;\n",
       "    }\n",
       "\n",
       "    .dataframe thead th {\n",
       "        text-align: right;\n",
       "    }\n",
       "</style>\n",
       "<table border=\"1\" class=\"dataframe\">\n",
       "  <thead>\n",
       "    <tr style=\"text-align: right;\">\n",
       "      <th></th>\n",
       "      <th>Country</th>\n",
       "      <th>2000</th>\n",
       "    </tr>\n",
       "  </thead>\n",
       "  <tbody>\n",
       "    <tr>\n",
       "      <th>128</th>\n",
       "      <td>China, Hong Kong Special Administrative Region</td>\n",
       "      <td>41.84</td>\n",
       "    </tr>\n",
       "    <tr>\n",
       "      <th>347</th>\n",
       "      <td>Liechtenstein</td>\n",
       "      <td>43.82</td>\n",
       "    </tr>\n",
       "  </tbody>\n",
       "</table>\n",
       "</div>"
      ],
      "text/plain": [
       "                                            Country   2000\n",
       "128  China, Hong Kong Special Administrative Region  41.84\n",
       "347                                   Liechtenstein  43.82"
      ]
     },
     "execution_count": 50,
     "metadata": {},
     "output_type": "execute_result"
    }
   ],
   "source": [
    "protected_area_in_2000 = protected_area[[\"Country\", \"2000\"]]\n",
    "upper_fence_protected_area_outliers = protected_area_in_2000[protected_area_in_2000[\"2000\"]>=upper_fence]\n",
    "upper_fence_protected_area_outliers"
   ]
  },
  {
   "cell_type": "markdown",
   "id": "995e2ed7",
   "metadata": {},
   "source": [
    "According to the boxplot, there are multiple upper outliers, but only 2 _extreme_ outliers. The focus has been cast on the two.  \n",
    "We won't be exploring lower outliers because according to the boxplot, there aren't any."
   ]
  },
  {
   "cell_type": "markdown",
   "id": "195c4af1",
   "metadata": {},
   "source": [
    "**Liechtenstein**\n",
    "* Liechtenstein is known for its medieval castles, alpine landscapes, and villages linked by a network of trails.\n",
    "* In 1989, Liechtenstein declared a floral mountain protection area of 6,000 ha (37.5% of the total land area) and proposed another, Garselli-Zigerberg (Alpengebiet, 950 ha, that is 5.9% of the total land area).  \n",
    "* Other protected areas include nine small nature reserves covering about 1% of the total land area.\n",
    "* Liechtenstein is one of the smallest countries in Europe. Percentages of Land Area Protected for Liechtenstein cover more ground than they do for average-sized countries.\n",
    "\n",
    "**China, Hong Kong Special Administrative Region**\n",
    "* Hong Kong is also one of the smallest countries in Asia.  \n",
    "* With some protected land areas like Tsiu Hang, Ma Shi Chau, and Tung Lung Fort. There are 8 more but a notable one would be Tai Po Kau Nature Reserve with 460 ha of land protected.\n",
    "* Being such a small country, sometimes even considered a city. The protected land area percentages may also seem exaggerated because the overall land isn't huge."
   ]
  },
  {
   "cell_type": "markdown",
   "id": "da173d8f",
   "metadata": {},
   "source": [
    "**Removing outliers for Protected Land Area in 2000:**"
   ]
  },
  {
   "cell_type": "code",
   "execution_count": 51,
   "id": "693aa526",
   "metadata": {},
   "outputs": [],
   "source": [
    "protected_area[\"2000\"] = protected_area[\"2000\"][protected_area[\"2000\"]<=upper_fence]"
   ]
  },
  {
   "cell_type": "markdown",
   "id": "72e0234b",
   "metadata": {},
   "source": [
    "**OUTLIERS FOR FOREST COVERED LAND AREA**"
   ]
  },
  {
   "cell_type": "code",
   "execution_count": 52,
   "id": "b7167377",
   "metadata": {},
   "outputs": [
    {
     "data": {
      "image/png": "[encoded data removed]",
      "text/plain": [
       "<Figure size 1440x720 with 1 Axes>"
      ]
     },
     "metadata": {
      "needs_background": "light"
     },
     "output_type": "display_data"
    }
   ],
   "source": [
    "_ = forests[[\"2000\"]].boxplot()\n",
    "_  = plt.ylabel(\"LAND AREA COVERED BY FOREST PERCENTAGE\", fontdict=font)\n",
    "_ = plt.xlabel(\"THE YEAR 2000\", fontdict=font)\n",
    "_ = plt.title(\"BOXPLOT FOR LAND AREA COVERED BY FORESTS IN 2000\", fontdict=font)\n",
    "plt.show()"
   ]
  },
  {
   "cell_type": "markdown",
   "id": "ca74e508",
   "metadata": {},
   "source": [
    "As seen from the boxplot above, there are no outliers for `LAND AREA COVERED BY FORESTS IN 2000`."
   ]
  },
  {
   "cell_type": "markdown",
   "id": "1a2a6e3b",
   "metadata": {},
   "source": [
    "### LOG TRANSFORMING TO HAVE A MORE-NORMAL DISTRIBUTION"
   ]
  },
  {
   "cell_type": "markdown",
   "id": "3b309fd3",
   "metadata": {},
   "source": [
    "**If any data point is 0, it introduces infinity / negative infinity values when working with log transformation, so to avoid that issue, those values have been turned to 0.01.**  \n",
    "This is the smallest possible value so it doesn't affect the overall data too much.  \n",
    "\n",
    "Introducing negative infinity values or null values causes an error when log transforming"
   ]
  },
  {
   "cell_type": "code",
   "execution_count": 53,
   "id": "c3e219b0",
   "metadata": {},
   "outputs": [],
   "source": [
    "def avoid_infinity(cell):\n",
    "    if cell == 0:\n",
    "        return 0.01\n",
    "    else:\n",
    "        return cell"
   ]
  },
  {
   "cell_type": "code",
   "execution_count": 54,
   "id": "0d76da79",
   "metadata": {},
   "outputs": [],
   "source": [
    "forests[\"2000\"] = forests[\"2000\"].apply(avoid_infinity)\n",
    "protected_area[\"2000\"] = protected_area[\"2000\"].apply(avoid_infinity)"
   ]
  },
  {
   "cell_type": "code",
   "execution_count": 55,
   "id": "02bef30d",
   "metadata": {},
   "outputs": [
    {
     "data": {
      "image/png": "[encoded data removed]",
      "text/plain": [
       "<Figure size 1440x720 with 1 Axes>"
      ]
     },
     "metadata": {
      "needs_background": "light"
     },
     "output_type": "display_data"
    }
   ],
   "source": [
    "log_transformed_forests_for_2000 = np.log(forests[\"2000\"])\n",
    "ax = plt.hist(log_transformed_forests_for_2000, bins=\"sqrt\")\n",
    "_ = plt.title(\"LOG TRANSFORMED PERCENTAGE OF LAND AREA COVERED BY FOREST IN 2000\", fontdict=font)\n",
    "_ = plt.xlabel(\"LOGGED PERCENTAGE\", fontdict=font)\n",
    "_ = plt.ylabel(\"FREQUENCY\", fontdict=font)\n",
    "plt.show()"
   ]
  },
  {
   "cell_type": "code",
   "execution_count": 56,
   "id": "350305ea",
   "metadata": {},
   "outputs": [
    {
     "data": {
      "image/png": "[encoded data removed]",
      "text/plain": [
       "<Figure size 1440x720 with 1 Axes>"
      ]
     },
     "metadata": {
      "needs_background": "light"
     },
     "output_type": "display_data"
    }
   ],
   "source": [
    "log_transformed_protected_area_for_2000 = np.log(protected_area[\"2000\"])\n",
    "ax = plt.hist(log_transformed_protected_area_for_2000, bins=\"sqrt\")\n",
    "_ = plt.title(\"LOG TRANSFORMED PERCENTAGE OF AREA PROTECTED IN 2000\", fontdict=font)\n",
    "_ = plt.xlabel(\"LOGGED PERCENTAGE\", fontdict=font)\n",
    "_ = plt.ylabel(\"FREQUENCY\", fontdict=font)\n",
    "plt.show()"
   ]
  },
  {
   "cell_type": "markdown",
   "id": "def5a5f1",
   "metadata": {},
   "source": [
    "Both histograms above are Skewed to the left but more normally distributed."
   ]
  },
  {
   "cell_type": "markdown",
   "id": "fd6f6d31",
   "metadata": {},
   "source": [
    "**Log-Transforming data for 'Land area covered in forests' and 'Land area protected' for the year 1990.**  "
   ]
  },
  {
   "cell_type": "code",
   "execution_count": 57,
   "id": "eea35dfa",
   "metadata": {},
   "outputs": [],
   "source": [
    "forests[\"1990\"] = forests[\"1990\"].apply(avoid_infinity)\n",
    "protected_area[\"1990\"] = protected_area[\"1990\"].apply(avoid_infinity)\n",
    "log_transformed_forests_for_1990 = np.log(forests[\"1990\"])\n",
    "log_transformed_protected_area_for_1990 = np.log(protected_area[\"1990\"])"
   ]
  },
  {
   "cell_type": "code",
   "execution_count": 58,
   "id": "7742b1a9",
   "metadata": {},
   "outputs": [
    {
     "data": {
      "text/plain": [
       "7"
      ]
     },
     "execution_count": 58,
     "metadata": {},
     "output_type": "execute_result"
    }
   ],
   "source": [
    "log_transformed_forests_for_1990.isna().sum()"
   ]
  },
  {
   "cell_type": "code",
   "execution_count": 59,
   "id": "ec29e936",
   "metadata": {},
   "outputs": [
    {
     "data": {
      "text/plain": [
       "7"
      ]
     },
     "execution_count": 59,
     "metadata": {},
     "output_type": "execute_result"
    }
   ],
   "source": [
    "log_transformed_protected_area_for_1990.isna().sum()"
   ]
  },
  {
   "cell_type": "markdown",
   "id": "443fb78f",
   "metadata": {},
   "source": [
    "As seen above, both the columns we'll be working with only have 7 missing data points so we'll just drop them because it won't have too much of an impact on the results.  \n",
    "First, we will be making both the above series' one data frame before dropping missing data. This keeps the data aligned and more accurate."
   ]
  },
  {
   "cell_type": "code",
   "execution_count": 60,
   "id": "85ec09b7",
   "metadata": {},
   "outputs": [
    {
     "data": {
      "text/plain": [
       "log transformed forests area % in 1990      7\n",
       "log transformed protected area % in 1990    7\n",
       "dtype: int64"
      ]
     },
     "execution_count": 60,
     "metadata": {},
     "output_type": "execute_result"
    }
   ],
   "source": [
    "df = pd.concat([log_transformed_forests_for_1990.reset_index(), log_transformed_protected_area_for_1990.reset_index()], axis=1, names=[\"One\", \"Two\"])\n",
    "df.drop(columns=\"index\", inplace=True)\n",
    "df.columns = [\"log transformed forests area % in 1990\", \"log transformed protected area % in 1990\"]\n",
    "df.isna().sum()"
   ]
  },
  {
   "cell_type": "code",
   "execution_count": 61,
   "id": "3647109e",
   "metadata": {},
   "outputs": [
    {
     "data": {
      "text/html": [
       "<div>\n",
       "<style scoped>\n",
       "    .dataframe tbody tr th:only-of-type {\n",
       "        vertical-align: middle;\n",
       "    }\n",
       "\n",
       "    .dataframe tbody tr th {\n",
       "        vertical-align: top;\n",
       "    }\n",
       "\n",
       "    .dataframe thead th {\n",
       "        text-align: right;\n",
       "    }\n",
       "</style>\n",
       "<table border=\"1\" class=\"dataframe\">\n",
       "  <thead>\n",
       "    <tr style=\"text-align: right;\">\n",
       "      <th></th>\n",
       "      <th>log transformed forests area % in 1990</th>\n",
       "      <th>log transformed protected area % in 1990</th>\n",
       "    </tr>\n",
       "  </thead>\n",
       "  <tbody>\n",
       "    <tr>\n",
       "      <th>0</th>\n",
       "      <td>0.741937</td>\n",
       "      <td>-1.021651</td>\n",
       "    </tr>\n",
       "    <tr>\n",
       "      <th>1</th>\n",
       "      <td>3.360375</td>\n",
       "      <td>-1.897120</td>\n",
       "    </tr>\n",
       "    <tr>\n",
       "      <th>2</th>\n",
       "      <td>-0.356675</td>\n",
       "      <td>1.786747</td>\n",
       "    </tr>\n",
       "    <tr>\n",
       "      <th>3</th>\n",
       "      <td>4.499810</td>\n",
       "      <td>-2.813411</td>\n",
       "    </tr>\n",
       "    <tr>\n",
       "      <th>4</th>\n",
       "      <td>3.572346</td>\n",
       "      <td>1.710188</td>\n",
       "    </tr>\n",
       "    <tr>\n",
       "      <th>...</th>\n",
       "      <td>...</td>\n",
       "      <td>...</td>\n",
       "    </tr>\n",
       "    <tr>\n",
       "      <th>223</th>\n",
       "      <td>3.407842</td>\n",
       "      <td>0.457425</td>\n",
       "    </tr>\n",
       "    <tr>\n",
       "      <th>225</th>\n",
       "      <td>0.993252</td>\n",
       "      <td>-4.605170</td>\n",
       "    </tr>\n",
       "    <tr>\n",
       "      <th>226</th>\n",
       "      <td>0.000000</td>\n",
       "      <td>-4.605170</td>\n",
       "    </tr>\n",
       "    <tr>\n",
       "      <th>228</th>\n",
       "      <td>4.262680</td>\n",
       "      <td>3.584907</td>\n",
       "    </tr>\n",
       "    <tr>\n",
       "      <th>229</th>\n",
       "      <td>4.048301</td>\n",
       "      <td>2.827314</td>\n",
       "    </tr>\n",
       "  </tbody>\n",
       "</table>\n",
       "<p>218 rows × 2 columns</p>\n",
       "</div>"
      ],
      "text/plain": [
       "     log transformed forests area % in 1990  \\\n",
       "0                                  0.741937   \n",
       "1                                  3.360375   \n",
       "2                                 -0.356675   \n",
       "3                                  4.499810   \n",
       "4                                  3.572346   \n",
       "..                                      ...   \n",
       "223                                3.407842   \n",
       "225                                0.993252   \n",
       "226                                0.000000   \n",
       "228                                4.262680   \n",
       "229                                4.048301   \n",
       "\n",
       "     log transformed protected area % in 1990  \n",
       "0                                   -1.021651  \n",
       "1                                   -1.897120  \n",
       "2                                    1.786747  \n",
       "3                                   -2.813411  \n",
       "4                                    1.710188  \n",
       "..                                        ...  \n",
       "223                                  0.457425  \n",
       "225                                 -4.605170  \n",
       "226                                 -4.605170  \n",
       "228                                  3.584907  \n",
       "229                                  2.827314  \n",
       "\n",
       "[218 rows x 2 columns]"
      ]
     },
     "execution_count": 61,
     "metadata": {},
     "output_type": "execute_result"
    }
   ],
   "source": [
    "df = df.dropna()\n",
    "df"
   ]
  },
  {
   "cell_type": "code",
   "execution_count": 62,
   "id": "9efed5fe",
   "metadata": {},
   "outputs": [],
   "source": [
    "log_transformed_forests_for_1990 = df[\"log transformed forests area % in 1990\"]\n",
    "log_transformed_protected_area_for_1990 = df[\"log transformed protected area % in 1990\"]"
   ]
  },
  {
   "cell_type": "markdown",
   "id": "e8377b82",
   "metadata": {},
   "source": [
    "* **Null hypothesis ($H_0$):**  \n",
    "There is no kind of relationship between the percentage of Land area covered by forests and the percentage of protected land area.  \n",
    "Any patterns seen are due to chance and coincidence.  \n",
    "\n",
    "\n",
    "* **Alternative hypothesis ($H_1$):**  \n",
    "There is a correlation between the percentage of Land area covered by forests and the percentage of protected land area.  \n",
    "\n",
    "\n",
    "* **p-value threshold:**  \n",
    "The p-value's predefined threshold is 0.05. Meaning that if any results from our p-values exceed 0.05 then that observation will be considered statistically insignificant.  \n",
    "In other words, the Null hypothesis is true, there's no relationship between the percentage of Land area covered by forests and the percentage of protected land area."
   ]
  },
  {
   "cell_type": "markdown",
   "id": "3d035443",
   "metadata": {},
   "source": [
    "### COMPARING THE SPEARMAN RANK ORDER AND THE PEARSON COEFFICIENT RESULTS"
   ]
  },
  {
   "cell_type": "markdown",
   "id": "cdf30f93",
   "metadata": {},
   "source": [
    "**Calculating the Pearson correlation coefficient (and its corresponding p-value) to determine the nature of the relationship between the proportion of land area covered by forest and the percentage of area protected**"
   ]
  },
  {
   "cell_type": "markdown",
   "id": "08929002",
   "metadata": {},
   "source": [
    "The Pearson correlation coefficient measures the linear relationship between two continuous variables.  \n",
    "Positive correlations imply that as x increases, so does y. Negative correlations imply that as x increases, y decreases."
   ]
  },
  {
   "cell_type": "code",
   "execution_count": 63,
   "id": "d6ed780b",
   "metadata": {},
   "outputs": [
    {
     "name": "stdout",
     "output_type": "stream",
     "text": [
      "The Pearson correlation coefficient: 0.24264184434304104\n",
      "The P-value: 0.0002990085180298188\n"
     ]
    }
   ],
   "source": [
    "pearson_result = stats.pearsonr(log_transformed_forests_for_1990, log_transformed_protected_area_for_1990)\n",
    "print(f\"The Pearson correlation coefficient: {pearson_result[0]}\\nThe P-value: {pearson_result[1]}\")"
   ]
  },
  {
   "cell_type": "markdown",
   "id": "547407c5",
   "metadata": {},
   "source": [
    "The direction of the correlation statistic tells us there is a relationship and it is a positive correlation. However, the relationship is weak. We get this information from the Person correlation coefficient."
   ]
  },
  {
   "cell_type": "markdown",
   "id": "2dbdb4e9",
   "metadata": {},
   "source": [
    "### CALCULATING THE SPEARMAN RANK-ORDER CORRELATION COEFFICIENT (AND ITS CORRESPONDING P VALUE)"
   ]
  },
  {
   "cell_type": "markdown",
   "id": "e258abd4",
   "metadata": {},
   "source": [
    "The Spearman rank-order correlation coefficient measures the strength and direction of association between two ranked variables.  \n",
    "This test only looks at the order of the categories, not the values.  \n",
    "The Spearman Rank-Order Coefficient is therefore not influenced by the non-normality of variables or outliers."
   ]
  },
  {
   "cell_type": "code",
   "execution_count": 64,
   "id": "c4b283c5",
   "metadata": {},
   "outputs": [
    {
     "name": "stdout",
     "output_type": "stream",
     "text": [
      "The Spearman correlation coefficient: 0.10186145130025755\n",
      "The P-value: 0.13381604344068665\n"
     ]
    }
   ],
   "source": [
    "spearman_result = stats.spearmanr(log_transformed_forests_for_1990, log_transformed_protected_area_for_1990)\n",
    "print(f\"The Spearman correlation coefficient: {spearman_result[0]}\\nThe P-value: {spearman_result[1]}\")"
   ]
  },
  {
   "cell_type": "markdown",
   "id": "1a57663d",
   "metadata": {},
   "source": [
    "The Spearman correlation coefficient is weak but it is a positive monotonic relationship."
   ]
  },
  {
   "cell_type": "markdown",
   "id": "980405d3",
   "metadata": {},
   "source": [
    "### STATISTICALLY SIGNIFICANT?"
   ]
  },
  {
   "cell_type": "markdown",
   "id": "2c9f29a4",
   "metadata": {},
   "source": [
    "* The Pearson correlation p-value implies there is almost no chance this is due to coincidence. So the Alternative hypothesis is true, there is a correlation between the percentage of Land area covered by forests and the percentage of protected land area.\n",
    "\n",
    "\n",
    "* The Spearman correlation p-value is **13%**, the strength of the relationship between the percentage of Land area covered by forests and the percentage of the protected land area is due to chance. There is no underlying factor affecting it."
   ]
  },
  {
   "cell_type": "markdown",
   "id": "50ccb444",
   "metadata": {},
   "source": [
    "# CONCLUSION"
   ]
  },
  {
   "cell_type": "markdown",
   "id": "563f497c",
   "metadata": {},
   "source": [
    "* At the beginning of the analysis we realized that the top 5 countries with the most CO2 emissions in 1990 were the United States, China, Japan, India, and United Kingdom, respectively.  \n",
    "* The top five countries that emitted the most CO2 in 2011 were China, the United States, India, Russian Federation, and Japan, respectively.  \n",
    "* In 1990, the bottom five countries that emitted the least amount of CO2 were Niue, Saint Helena, Somalia, Cook Islands, and Kiribati, respectively.  \n",
    "* The bottom five countries that emitted the least CO2 in 2011 were Saint Helena, Niue, Wallis and Futuna Islands, Nauru, and Liechtenstein, respectively.  \n",
    "\n",
    "* We see that over 20 years, CO2 emissions doubled. Countries with the most or least emissions remained consistent, with a few changes here and there.  \n",
    "* Our data had big standard deviations, so the data varies vastly.  \n",
    "* In 1990, there was more land area covered by forests than there was land area protected, That seemed consistent as we later saw similar patterns in histograms for the year 2000.  \n",
    "\n",
    "* Overall, the analysis tells us that one of the United Nation's goals \"Goal 7: Ensure environmental sustainability\" isn't looking like it will be met soon because CO2 emissions across countries are doubling instead of decreasing, that is a threat to environmental sustainability."
   ]
  }
 ],
 "metadata": {
  "kernelspec": {
   "display_name": "Python 3 (ipykernel)",
   "language": "python",
   "name": "python3"
  },
  "language_info": {
   "codemirror_mode": {
    "name": "ipython",
    "version": 3
   },
   "file_extension": ".py",
   "mimetype": "text/x-python",
   "name": "python",
   "nbconvert_exporter": "python",
   "pygments_lexer": "ipython3",
   "version": "3.9.12"
  }
 },
 "nbformat": 4,
 "nbformat_minor": 5
}

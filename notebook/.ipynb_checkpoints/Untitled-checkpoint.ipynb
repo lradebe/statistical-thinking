{
 "cells": [
  {
   "cell_type": "markdown",
   "id": "8c571e77",
   "metadata": {},
   "source": [
    "# LWAZI RADEBE\n",
    "**STATISTICAL THINKING WITH THE Millennium Development Goals Data**"
   ]
  },
  {
   "cell_type": "markdown",
   "id": "191b714c",
   "metadata": {},
   "source": [
    "## IMPORTS:"
   ]
  },
  {
   "cell_type": "code",
   "execution_count": 1,
   "id": "3d2276d1",
   "metadata": {},
   "outputs": [],
   "source": [
    "import warnings\n",
    "import numpy as np\n",
    "import pandas as pd\n",
    "import seaborn as sns\n",
    "from scipy import stats\n",
    "import matplotlib.pyplot as plt\n",
    "from sklearn.impute import SimpleImputer"
   ]
  },
  {
   "cell_type": "markdown",
   "id": "e86c997c",
   "metadata": {},
   "source": [
    "## ENVIRONMENT SETTINGS:"
   ]
  },
  {
   "cell_type": "code",
   "execution_count": 2,
   "id": "84c39ce3",
   "metadata": {},
   "outputs": [],
   "source": [
    "sns.set()\n",
    "%matplotlib inline\n",
    "warnings.filterwarnings('ignore')\n",
    "_ = pd.option_context(\"display.max_rows\", 10)"
   ]
  },
  {
   "cell_type": "markdown",
   "id": "083612bd",
   "metadata": {},
   "source": [
    "## READING DATASET:"
   ]
  },
  {
   "cell_type": "code",
   "execution_count": 3,
   "id": "987e446e",
   "metadata": {},
   "outputs": [],
   "source": [
    "data = pd.read_csv(\"../dataset/mdg_export_20191227.csv\")"
   ]
  },
  {
   "cell_type": "markdown",
   "id": "72c432e6",
   "metadata": {},
   "source": [
    "## EXPLORING AND PREPARING DATASET:"
   ]
  },
  {
   "cell_type": "markdown",
   "id": "aabb1206",
   "metadata": {},
   "source": [
    "### Checking the contents of \"Type\" columns and \"Footnotes\" columns to see if they will be of any use"
   ]
  },
  {
   "cell_type": "code",
   "execution_count": 4,
   "id": "ff594e21",
   "metadata": {},
   "outputs": [
    {
     "data": {
      "text/html": [
       "<div>\n",
       "<style scoped>\n",
       "    .dataframe tbody tr th:only-of-type {\n",
       "        vertical-align: middle;\n",
       "    }\n",
       "\n",
       "    .dataframe tbody tr th {\n",
       "        vertical-align: top;\n",
       "    }\n",
       "\n",
       "    .dataframe thead th {\n",
       "        text-align: right;\n",
       "    }\n",
       "</style>\n",
       "<table border=\"1\" class=\"dataframe\">\n",
       "  <thead>\n",
       "    <tr style=\"text-align: right;\">\n",
       "      <th></th>\n",
       "      <th>Type</th>\n",
       "      <th>Type.1</th>\n",
       "      <th>Type.2</th>\n",
       "      <th>Type.3</th>\n",
       "      <th>Type.4</th>\n",
       "      <th>Type.5</th>\n",
       "      <th>Type.6</th>\n",
       "      <th>Type.7</th>\n",
       "      <th>Type.8</th>\n",
       "      <th>Type.9</th>\n",
       "      <th>...</th>\n",
       "      <th>Type.20</th>\n",
       "      <th>Type.21</th>\n",
       "      <th>Type.22</th>\n",
       "      <th>Type.23</th>\n",
       "      <th>Type.24</th>\n",
       "      <th>Type.25</th>\n",
       "      <th>Type.26</th>\n",
       "      <th>Type.27</th>\n",
       "      <th>Type.28</th>\n",
       "      <th>Type.29</th>\n",
       "    </tr>\n",
       "  </thead>\n",
       "  <tbody>\n",
       "    <tr>\n",
       "      <th>0</th>\n",
       "      <td>E</td>\n",
       "      <td></td>\n",
       "      <td></td>\n",
       "      <td></td>\n",
       "      <td></td>\n",
       "      <td></td>\n",
       "      <td></td>\n",
       "      <td></td>\n",
       "      <td></td>\n",
       "      <td></td>\n",
       "      <td>...</td>\n",
       "      <td>E</td>\n",
       "      <td></td>\n",
       "      <td></td>\n",
       "      <td></td>\n",
       "      <td></td>\n",
       "      <td></td>\n",
       "      <td></td>\n",
       "      <td></td>\n",
       "      <td></td>\n",
       "      <td></td>\n",
       "    </tr>\n",
       "    <tr>\n",
       "      <th>1</th>\n",
       "      <td>G</td>\n",
       "      <td>G</td>\n",
       "      <td>G</td>\n",
       "      <td>G</td>\n",
       "      <td>G</td>\n",
       "      <td>G</td>\n",
       "      <td>G</td>\n",
       "      <td>G</td>\n",
       "      <td>G</td>\n",
       "      <td>G</td>\n",
       "      <td>...</td>\n",
       "      <td>G</td>\n",
       "      <td>G</td>\n",
       "      <td></td>\n",
       "      <td></td>\n",
       "      <td></td>\n",
       "      <td></td>\n",
       "      <td></td>\n",
       "      <td></td>\n",
       "      <td></td>\n",
       "      <td></td>\n",
       "    </tr>\n",
       "    <tr>\n",
       "      <th>2</th>\n",
       "      <td>C</td>\n",
       "      <td></td>\n",
       "      <td></td>\n",
       "      <td></td>\n",
       "      <td></td>\n",
       "      <td></td>\n",
       "      <td></td>\n",
       "      <td></td>\n",
       "      <td></td>\n",
       "      <td></td>\n",
       "      <td>...</td>\n",
       "      <td></td>\n",
       "      <td></td>\n",
       "      <td></td>\n",
       "      <td></td>\n",
       "      <td>C</td>\n",
       "      <td></td>\n",
       "      <td></td>\n",
       "      <td></td>\n",
       "      <td></td>\n",
       "      <td></td>\n",
       "    </tr>\n",
       "    <tr>\n",
       "      <th>3</th>\n",
       "      <td>C</td>\n",
       "      <td></td>\n",
       "      <td></td>\n",
       "      <td></td>\n",
       "      <td></td>\n",
       "      <td></td>\n",
       "      <td></td>\n",
       "      <td></td>\n",
       "      <td></td>\n",
       "      <td></td>\n",
       "      <td>...</td>\n",
       "      <td>C</td>\n",
       "      <td></td>\n",
       "      <td></td>\n",
       "      <td></td>\n",
       "      <td></td>\n",
       "      <td></td>\n",
       "      <td></td>\n",
       "      <td></td>\n",
       "      <td></td>\n",
       "      <td></td>\n",
       "    </tr>\n",
       "    <tr>\n",
       "      <th>4</th>\n",
       "      <td>G</td>\n",
       "      <td>G</td>\n",
       "      <td>G</td>\n",
       "      <td>G</td>\n",
       "      <td>G</td>\n",
       "      <td>G</td>\n",
       "      <td>G</td>\n",
       "      <td>G</td>\n",
       "      <td>G</td>\n",
       "      <td>G</td>\n",
       "      <td>...</td>\n",
       "      <td>G</td>\n",
       "      <td>G</td>\n",
       "      <td></td>\n",
       "      <td></td>\n",
       "      <td></td>\n",
       "      <td></td>\n",
       "      <td></td>\n",
       "      <td></td>\n",
       "      <td></td>\n",
       "      <td></td>\n",
       "    </tr>\n",
       "    <tr>\n",
       "      <th>...</th>\n",
       "      <td>...</td>\n",
       "      <td>...</td>\n",
       "      <td>...</td>\n",
       "      <td>...</td>\n",
       "      <td>...</td>\n",
       "      <td>...</td>\n",
       "      <td>...</td>\n",
       "      <td>...</td>\n",
       "      <td>...</td>\n",
       "      <td>...</td>\n",
       "      <td>...</td>\n",
       "      <td>...</td>\n",
       "      <td>...</td>\n",
       "      <td>...</td>\n",
       "      <td>...</td>\n",
       "      <td>...</td>\n",
       "      <td>...</td>\n",
       "      <td>...</td>\n",
       "      <td>...</td>\n",
       "      <td>...</td>\n",
       "      <td>...</td>\n",
       "    </tr>\n",
       "    <tr>\n",
       "      <th>685</th>\n",
       "      <td>G</td>\n",
       "      <td>G</td>\n",
       "      <td>G</td>\n",
       "      <td>G</td>\n",
       "      <td>G</td>\n",
       "      <td>G</td>\n",
       "      <td>G</td>\n",
       "      <td>G</td>\n",
       "      <td>G</td>\n",
       "      <td>G</td>\n",
       "      <td>...</td>\n",
       "      <td>G</td>\n",
       "      <td>G</td>\n",
       "      <td></td>\n",
       "      <td></td>\n",
       "      <td></td>\n",
       "      <td></td>\n",
       "      <td></td>\n",
       "      <td></td>\n",
       "      <td></td>\n",
       "      <td></td>\n",
       "    </tr>\n",
       "    <tr>\n",
       "      <th>686</th>\n",
       "      <td>C</td>\n",
       "      <td></td>\n",
       "      <td></td>\n",
       "      <td></td>\n",
       "      <td></td>\n",
       "      <td></td>\n",
       "      <td></td>\n",
       "      <td></td>\n",
       "      <td></td>\n",
       "      <td></td>\n",
       "      <td>...</td>\n",
       "      <td></td>\n",
       "      <td></td>\n",
       "      <td></td>\n",
       "      <td></td>\n",
       "      <td>C</td>\n",
       "      <td></td>\n",
       "      <td></td>\n",
       "      <td></td>\n",
       "      <td></td>\n",
       "      <td></td>\n",
       "    </tr>\n",
       "    <tr>\n",
       "      <th>687</th>\n",
       "      <td>C</td>\n",
       "      <td></td>\n",
       "      <td></td>\n",
       "      <td></td>\n",
       "      <td></td>\n",
       "      <td></td>\n",
       "      <td></td>\n",
       "      <td></td>\n",
       "      <td></td>\n",
       "      <td></td>\n",
       "      <td>...</td>\n",
       "      <td>C</td>\n",
       "      <td></td>\n",
       "      <td></td>\n",
       "      <td></td>\n",
       "      <td></td>\n",
       "      <td></td>\n",
       "      <td></td>\n",
       "      <td></td>\n",
       "      <td></td>\n",
       "      <td></td>\n",
       "    </tr>\n",
       "    <tr>\n",
       "      <th>688</th>\n",
       "      <td>G</td>\n",
       "      <td>G</td>\n",
       "      <td>G</td>\n",
       "      <td>G</td>\n",
       "      <td>G</td>\n",
       "      <td>G</td>\n",
       "      <td>G</td>\n",
       "      <td>G</td>\n",
       "      <td>G</td>\n",
       "      <td>G</td>\n",
       "      <td>...</td>\n",
       "      <td>G</td>\n",
       "      <td>G</td>\n",
       "      <td></td>\n",
       "      <td></td>\n",
       "      <td></td>\n",
       "      <td></td>\n",
       "      <td></td>\n",
       "      <td></td>\n",
       "      <td></td>\n",
       "      <td></td>\n",
       "    </tr>\n",
       "    <tr>\n",
       "      <th>689</th>\n",
       "      <td>C</td>\n",
       "      <td></td>\n",
       "      <td></td>\n",
       "      <td></td>\n",
       "      <td></td>\n",
       "      <td></td>\n",
       "      <td></td>\n",
       "      <td></td>\n",
       "      <td></td>\n",
       "      <td></td>\n",
       "      <td>...</td>\n",
       "      <td></td>\n",
       "      <td></td>\n",
       "      <td></td>\n",
       "      <td></td>\n",
       "      <td>C</td>\n",
       "      <td></td>\n",
       "      <td></td>\n",
       "      <td></td>\n",
       "      <td></td>\n",
       "      <td></td>\n",
       "    </tr>\n",
       "  </tbody>\n",
       "</table>\n",
       "<p>690 rows × 30 columns</p>\n",
       "</div>"
      ],
      "text/plain": [
       "    Type Type.1 Type.2 Type.3 Type.4 Type.5 Type.6 Type.7 Type.8 Type.9  ...  \\\n",
       "0      E                                                                 ...   \n",
       "1      G      G      G      G      G      G      G      G      G      G  ...   \n",
       "2      C                                                                 ...   \n",
       "3      C                                                                 ...   \n",
       "4      G      G      G      G      G      G      G      G      G      G  ...   \n",
       "..   ...    ...    ...    ...    ...    ...    ...    ...    ...    ...  ...   \n",
       "685    G      G      G      G      G      G      G      G      G      G  ...   \n",
       "686    C                                                                 ...   \n",
       "687    C                                                                 ...   \n",
       "688    G      G      G      G      G      G      G      G      G      G  ...   \n",
       "689    C                                                                 ...   \n",
       "\n",
       "    Type.20 Type.21 Type.22 Type.23 Type.24 Type.25 Type.26 Type.27 Type.28  \\\n",
       "0         E                                                                   \n",
       "1         G       G                                                           \n",
       "2                                         C                                   \n",
       "3         C                                                                   \n",
       "4         G       G                                                           \n",
       "..      ...     ...     ...     ...     ...     ...     ...     ...     ...   \n",
       "685       G       G                                                           \n",
       "686                                       C                                   \n",
       "687       C                                                                   \n",
       "688       G       G                                                           \n",
       "689                                       C                                   \n",
       "\n",
       "    Type.29  \n",
       "0            \n",
       "1            \n",
       "2            \n",
       "3            \n",
       "4            \n",
       "..      ...  \n",
       "685          \n",
       "686          \n",
       "687          \n",
       "688          \n",
       "689          \n",
       "\n",
       "[690 rows x 30 columns]"
      ]
     },
     "execution_count": 4,
     "metadata": {},
     "output_type": "execute_result"
    }
   ],
   "source": [
    "data[data.columns[data.columns.str.contains(\"Type\")]]"
   ]
  },
  {
   "cell_type": "code",
   "execution_count": 5,
   "id": "5dd13cfa",
   "metadata": {},
   "outputs": [
    {
     "data": {
      "text/html": [
       "<div>\n",
       "<style scoped>\n",
       "    .dataframe tbody tr th:only-of-type {\n",
       "        vertical-align: middle;\n",
       "    }\n",
       "\n",
       "    .dataframe tbody tr th {\n",
       "        vertical-align: top;\n",
       "    }\n",
       "\n",
       "    .dataframe thead th {\n",
       "        text-align: right;\n",
       "    }\n",
       "</style>\n",
       "<table border=\"1\" class=\"dataframe\">\n",
       "  <thead>\n",
       "    <tr style=\"text-align: right;\">\n",
       "      <th></th>\n",
       "      <th>Footnotes</th>\n",
       "      <th>Footnotes.1</th>\n",
       "      <th>Footnotes.2</th>\n",
       "      <th>Footnotes.3</th>\n",
       "      <th>Footnotes.4</th>\n",
       "      <th>Footnotes.5</th>\n",
       "      <th>Footnotes.6</th>\n",
       "      <th>Footnotes.7</th>\n",
       "      <th>Footnotes.8</th>\n",
       "      <th>Footnotes.9</th>\n",
       "      <th>...</th>\n",
       "      <th>Footnotes.20</th>\n",
       "      <th>Footnotes.21</th>\n",
       "      <th>Footnotes.22</th>\n",
       "      <th>Footnotes.23</th>\n",
       "      <th>Footnotes.24</th>\n",
       "      <th>Footnotes.25</th>\n",
       "      <th>Footnotes.26</th>\n",
       "      <th>Footnotes.27</th>\n",
       "      <th>Footnotes.28</th>\n",
       "      <th>Footnotes.29</th>\n",
       "    </tr>\n",
       "  </thead>\n",
       "  <tbody>\n",
       "    <tr>\n",
       "      <th>0</th>\n",
       "      <td>NaN</td>\n",
       "      <td></td>\n",
       "      <td></td>\n",
       "      <td></td>\n",
       "      <td></td>\n",
       "      <td></td>\n",
       "      <td></td>\n",
       "      <td></td>\n",
       "      <td></td>\n",
       "      <td></td>\n",
       "      <td>...</td>\n",
       "      <td>NaN</td>\n",
       "      <td></td>\n",
       "      <td></td>\n",
       "      <td></td>\n",
       "      <td></td>\n",
       "      <td></td>\n",
       "      <td></td>\n",
       "      <td></td>\n",
       "      <td></td>\n",
       "      <td></td>\n",
       "    </tr>\n",
       "    <tr>\n",
       "      <th>1</th>\n",
       "      <td>NaN</td>\n",
       "      <td>NaN</td>\n",
       "      <td>NaN</td>\n",
       "      <td>NaN</td>\n",
       "      <td>NaN</td>\n",
       "      <td>NaN</td>\n",
       "      <td>NaN</td>\n",
       "      <td>NaN</td>\n",
       "      <td>NaN</td>\n",
       "      <td>NaN</td>\n",
       "      <td>...</td>\n",
       "      <td>NaN</td>\n",
       "      <td>NaN</td>\n",
       "      <td></td>\n",
       "      <td></td>\n",
       "      <td></td>\n",
       "      <td></td>\n",
       "      <td></td>\n",
       "      <td></td>\n",
       "      <td></td>\n",
       "      <td></td>\n",
       "    </tr>\n",
       "    <tr>\n",
       "      <th>2</th>\n",
       "      <td>NaN</td>\n",
       "      <td></td>\n",
       "      <td></td>\n",
       "      <td></td>\n",
       "      <td></td>\n",
       "      <td></td>\n",
       "      <td></td>\n",
       "      <td></td>\n",
       "      <td></td>\n",
       "      <td></td>\n",
       "      <td>...</td>\n",
       "      <td></td>\n",
       "      <td></td>\n",
       "      <td></td>\n",
       "      <td></td>\n",
       "      <td>NaN</td>\n",
       "      <td></td>\n",
       "      <td></td>\n",
       "      <td></td>\n",
       "      <td></td>\n",
       "      <td></td>\n",
       "    </tr>\n",
       "    <tr>\n",
       "      <th>3</th>\n",
       "      <td>NaN</td>\n",
       "      <td></td>\n",
       "      <td></td>\n",
       "      <td></td>\n",
       "      <td></td>\n",
       "      <td></td>\n",
       "      <td></td>\n",
       "      <td></td>\n",
       "      <td></td>\n",
       "      <td></td>\n",
       "      <td>...</td>\n",
       "      <td>NaN</td>\n",
       "      <td></td>\n",
       "      <td></td>\n",
       "      <td></td>\n",
       "      <td></td>\n",
       "      <td></td>\n",
       "      <td></td>\n",
       "      <td></td>\n",
       "      <td></td>\n",
       "      <td></td>\n",
       "    </tr>\n",
       "    <tr>\n",
       "      <th>4</th>\n",
       "      <td>NaN</td>\n",
       "      <td>NaN</td>\n",
       "      <td>NaN</td>\n",
       "      <td>NaN</td>\n",
       "      <td>NaN</td>\n",
       "      <td>NaN</td>\n",
       "      <td>NaN</td>\n",
       "      <td>NaN</td>\n",
       "      <td>NaN</td>\n",
       "      <td>NaN</td>\n",
       "      <td>...</td>\n",
       "      <td>NaN</td>\n",
       "      <td>NaN</td>\n",
       "      <td></td>\n",
       "      <td></td>\n",
       "      <td></td>\n",
       "      <td></td>\n",
       "      <td></td>\n",
       "      <td></td>\n",
       "      <td></td>\n",
       "      <td></td>\n",
       "    </tr>\n",
       "    <tr>\n",
       "      <th>...</th>\n",
       "      <td>...</td>\n",
       "      <td>...</td>\n",
       "      <td>...</td>\n",
       "      <td>...</td>\n",
       "      <td>...</td>\n",
       "      <td>...</td>\n",
       "      <td>...</td>\n",
       "      <td>...</td>\n",
       "      <td>...</td>\n",
       "      <td>...</td>\n",
       "      <td>...</td>\n",
       "      <td>...</td>\n",
       "      <td>...</td>\n",
       "      <td>...</td>\n",
       "      <td>...</td>\n",
       "      <td>...</td>\n",
       "      <td>...</td>\n",
       "      <td>...</td>\n",
       "      <td>...</td>\n",
       "      <td>...</td>\n",
       "      <td>...</td>\n",
       "    </tr>\n",
       "    <tr>\n",
       "      <th>685</th>\n",
       "      <td>NaN</td>\n",
       "      <td>NaN</td>\n",
       "      <td>NaN</td>\n",
       "      <td>NaN</td>\n",
       "      <td>NaN</td>\n",
       "      <td>NaN</td>\n",
       "      <td>NaN</td>\n",
       "      <td>NaN</td>\n",
       "      <td>NaN</td>\n",
       "      <td>NaN</td>\n",
       "      <td>...</td>\n",
       "      <td>NaN</td>\n",
       "      <td>NaN</td>\n",
       "      <td></td>\n",
       "      <td></td>\n",
       "      <td></td>\n",
       "      <td></td>\n",
       "      <td></td>\n",
       "      <td></td>\n",
       "      <td></td>\n",
       "      <td></td>\n",
       "    </tr>\n",
       "    <tr>\n",
       "      <th>686</th>\n",
       "      <td>NaN</td>\n",
       "      <td></td>\n",
       "      <td></td>\n",
       "      <td></td>\n",
       "      <td></td>\n",
       "      <td></td>\n",
       "      <td></td>\n",
       "      <td></td>\n",
       "      <td></td>\n",
       "      <td></td>\n",
       "      <td>...</td>\n",
       "      <td></td>\n",
       "      <td></td>\n",
       "      <td></td>\n",
       "      <td></td>\n",
       "      <td>NaN</td>\n",
       "      <td></td>\n",
       "      <td></td>\n",
       "      <td></td>\n",
       "      <td></td>\n",
       "      <td></td>\n",
       "    </tr>\n",
       "    <tr>\n",
       "      <th>687</th>\n",
       "      <td>NaN</td>\n",
       "      <td></td>\n",
       "      <td></td>\n",
       "      <td></td>\n",
       "      <td></td>\n",
       "      <td></td>\n",
       "      <td></td>\n",
       "      <td></td>\n",
       "      <td></td>\n",
       "      <td></td>\n",
       "      <td>...</td>\n",
       "      <td>NaN</td>\n",
       "      <td></td>\n",
       "      <td></td>\n",
       "      <td></td>\n",
       "      <td></td>\n",
       "      <td></td>\n",
       "      <td></td>\n",
       "      <td></td>\n",
       "      <td></td>\n",
       "      <td></td>\n",
       "    </tr>\n",
       "    <tr>\n",
       "      <th>688</th>\n",
       "      <td>NaN</td>\n",
       "      <td>NaN</td>\n",
       "      <td>NaN</td>\n",
       "      <td>NaN</td>\n",
       "      <td>NaN</td>\n",
       "      <td>NaN</td>\n",
       "      <td>NaN</td>\n",
       "      <td>NaN</td>\n",
       "      <td>NaN</td>\n",
       "      <td>NaN</td>\n",
       "      <td>...</td>\n",
       "      <td>NaN</td>\n",
       "      <td>NaN</td>\n",
       "      <td></td>\n",
       "      <td></td>\n",
       "      <td></td>\n",
       "      <td></td>\n",
       "      <td></td>\n",
       "      <td></td>\n",
       "      <td></td>\n",
       "      <td></td>\n",
       "    </tr>\n",
       "    <tr>\n",
       "      <th>689</th>\n",
       "      <td>NaN</td>\n",
       "      <td></td>\n",
       "      <td></td>\n",
       "      <td></td>\n",
       "      <td></td>\n",
       "      <td></td>\n",
       "      <td></td>\n",
       "      <td></td>\n",
       "      <td></td>\n",
       "      <td></td>\n",
       "      <td>...</td>\n",
       "      <td></td>\n",
       "      <td></td>\n",
       "      <td></td>\n",
       "      <td></td>\n",
       "      <td>NaN</td>\n",
       "      <td></td>\n",
       "      <td></td>\n",
       "      <td></td>\n",
       "      <td></td>\n",
       "      <td></td>\n",
       "    </tr>\n",
       "  </tbody>\n",
       "</table>\n",
       "<p>690 rows × 30 columns</p>\n",
       "</div>"
      ],
      "text/plain": [
       "    Footnotes Footnotes.1 Footnotes.2 Footnotes.3 Footnotes.4 Footnotes.5  \\\n",
       "0         NaN                                                               \n",
       "1         NaN         NaN         NaN         NaN         NaN         NaN   \n",
       "2         NaN                                                               \n",
       "3         NaN                                                               \n",
       "4         NaN         NaN         NaN         NaN         NaN         NaN   \n",
       "..        ...         ...         ...         ...         ...         ...   \n",
       "685       NaN         NaN         NaN         NaN         NaN         NaN   \n",
       "686       NaN                                                               \n",
       "687       NaN                                                               \n",
       "688       NaN         NaN         NaN         NaN         NaN         NaN   \n",
       "689       NaN                                                               \n",
       "\n",
       "    Footnotes.6 Footnotes.7 Footnotes.8 Footnotes.9  ... Footnotes.20  \\\n",
       "0                                                    ...          NaN   \n",
       "1           NaN         NaN         NaN         NaN  ...          NaN   \n",
       "2                                                    ...                \n",
       "3                                                    ...          NaN   \n",
       "4           NaN         NaN         NaN         NaN  ...          NaN   \n",
       "..          ...         ...         ...         ...  ...          ...   \n",
       "685         NaN         NaN         NaN         NaN  ...          NaN   \n",
       "686                                                  ...                \n",
       "687                                                  ...          NaN   \n",
       "688         NaN         NaN         NaN         NaN  ...          NaN   \n",
       "689                                                  ...                \n",
       "\n",
       "    Footnotes.21 Footnotes.22 Footnotes.23 Footnotes.24 Footnotes.25  \\\n",
       "0                                                                      \n",
       "1            NaN                                                       \n",
       "2                                                   NaN                \n",
       "3                                                                      \n",
       "4            NaN                                                       \n",
       "..           ...          ...          ...          ...          ...   \n",
       "685          NaN                                                       \n",
       "686                                                 NaN                \n",
       "687                                                                    \n",
       "688          NaN                                                       \n",
       "689                                                 NaN                \n",
       "\n",
       "    Footnotes.26 Footnotes.27 Footnotes.28 Footnotes.29  \n",
       "0                                                        \n",
       "1                                                        \n",
       "2                                                        \n",
       "3                                                        \n",
       "4                                                        \n",
       "..           ...          ...          ...          ...  \n",
       "685                                                      \n",
       "686                                                      \n",
       "687                                                      \n",
       "688                                                      \n",
       "689                                                      \n",
       "\n",
       "[690 rows x 30 columns]"
      ]
     },
     "execution_count": 5,
     "metadata": {},
     "output_type": "execute_result"
    }
   ],
   "source": [
    "data[data.columns[data.columns.str.contains(\"Footnotes\")]]"
   ]
  },
  {
   "cell_type": "markdown",
   "id": "a346056b",
   "metadata": {},
   "source": [
    "### Dropping columns that will be of no use in the analysis, also they mostly have either empty cells or NAN values"
   ]
  },
  {
   "cell_type": "code",
   "execution_count": 6,
   "id": "7c5bc411",
   "metadata": {},
   "outputs": [],
   "source": [
    "data.drop(data.columns[data.columns.str.contains(\"Type\")], axis=1, inplace=True)\n",
    "data.drop(data.columns[data.columns.str.contains(\"Footnotes\")], axis=1, inplace=True)"
   ]
  },
  {
   "cell_type": "markdown",
   "id": "e6f83652",
   "metadata": {},
   "source": [
    "##### Type and Footnotes columns have been dropped as seen below"
   ]
  },
  {
   "cell_type": "code",
   "execution_count": 7,
   "id": "3c763343",
   "metadata": {},
   "outputs": [
    {
     "data": {
      "text/plain": [
       "Index(['CountryCode', 'Country', 'SeriesCode', 'MDG', 'Series', '1990', '1991',\n",
       "       '1992', '1993', '1994', '1995', '1996', '1997', '1998', '1999', '2000',\n",
       "       '2001', '2002', '2003', '2004', '2005', '2006', '2007', '2008', '2009',\n",
       "       '2010', '2011', '2012', '2013', '2014', '2015', '2016', '2017', '2018',\n",
       "       '2019'],\n",
       "      dtype='object')"
      ]
     },
     "execution_count": 7,
     "metadata": {},
     "output_type": "execute_result"
    }
   ],
   "source": [
    "data.columns"
   ]
  },
  {
   "cell_type": "markdown",
   "id": "acbb47c0",
   "metadata": {},
   "source": [
    "### Making all empty (\" \") cells become NAN values"
   ]
  },
  {
   "cell_type": "code",
   "execution_count": 8,
   "id": "bb2e1eaa",
   "metadata": {},
   "outputs": [],
   "source": [
    "def empty_to_nan(row):\n",
    "    if row == \" \":\n",
    "        return np.nan\n",
    "    return row"
   ]
  },
  {
   "cell_type": "code",
   "execution_count": 9,
   "id": "851835d3",
   "metadata": {},
   "outputs": [
    {
     "data": {
      "text/plain": [
       "(690, 28)"
      ]
     },
     "execution_count": 9,
     "metadata": {},
     "output_type": "execute_result"
    }
   ],
   "source": [
    "data = data.applymap(empty_to_nan)\n",
    "data.dropna(how=\"all\", axis=1, inplace=True)\n",
    "data.shape"
   ]
  },
  {
   "cell_type": "markdown",
   "id": "20eca9a2",
   "metadata": {},
   "source": [
    "### Number of years represented:"
   ]
  },
  {
   "cell_type": "code",
   "execution_count": 10,
   "id": "4d4ebd1d",
   "metadata": {},
   "outputs": [
    {
     "data": {
      "text/plain": [
       "23"
      ]
     },
     "execution_count": 10,
     "metadata": {},
     "output_type": "execute_result"
    }
   ],
   "source": [
    "years = data.columns[data.columns.str.contains(\"[^a-zA-Z]\")].to_list()\n",
    "len(years)"
   ]
  },
  {
   "cell_type": "markdown",
   "id": "6598a484",
   "metadata": {},
   "source": [
    "There are 23 Years represented because some have been dropped. They were dropped because they were all NAN values, therefore could have no contribution to the insights."
   ]
  },
  {
   "cell_type": "markdown",
   "id": "03d4530a",
   "metadata": {},
   "source": [
    "### NAN values for each year"
   ]
  },
  {
   "cell_type": "code",
   "execution_count": 11,
   "id": "7c861ae2",
   "metadata": {},
   "outputs": [
    {
     "data": {
      "text/html": [
       "<div>\n",
       "<style scoped>\n",
       "    .dataframe tbody tr th:only-of-type {\n",
       "        vertical-align: middle;\n",
       "    }\n",
       "\n",
       "    .dataframe tbody tr th {\n",
       "        vertical-align: top;\n",
       "    }\n",
       "\n",
       "    .dataframe thead th {\n",
       "        text-align: right;\n",
       "    }\n",
       "</style>\n",
       "<table border=\"1\" class=\"dataframe\">\n",
       "  <thead>\n",
       "    <tr style=\"text-align: right;\">\n",
       "      <th></th>\n",
       "      <th>Years</th>\n",
       "      <th>NAN_values</th>\n",
       "    </tr>\n",
       "  </thead>\n",
       "  <tbody>\n",
       "    <tr>\n",
       "      <th>18</th>\n",
       "      <td>2008</td>\n",
       "      <td>475</td>\n",
       "    </tr>\n",
       "    <tr>\n",
       "      <th>19</th>\n",
       "      <td>2009</td>\n",
       "      <td>475</td>\n",
       "    </tr>\n",
       "    <tr>\n",
       "      <th>20</th>\n",
       "      <td>2010</td>\n",
       "      <td>252</td>\n",
       "    </tr>\n",
       "    <tr>\n",
       "      <th>21</th>\n",
       "      <td>2011</td>\n",
       "      <td>475</td>\n",
       "    </tr>\n",
       "    <tr>\n",
       "      <th>22</th>\n",
       "      <td>2014</td>\n",
       "      <td>467</td>\n",
       "    </tr>\n",
       "  </tbody>\n",
       "</table>\n",
       "</div>"
      ],
      "text/plain": [
       "   Years  NAN_values\n",
       "18  2008         475\n",
       "19  2009         475\n",
       "20  2010         252\n",
       "21  2011         475\n",
       "22  2014         467"
      ]
     },
     "execution_count": 11,
     "metadata": {},
     "output_type": "execute_result"
    }
   ],
   "source": [
    "nan_values_yearly = {\"Years\":data[years].isna().sum().index, \"NAN_values\":data[years].isna().sum().values}\n",
    "nan_values_yearly = pd.DataFrame(nan_values_yearly)\n",
    "nan_values_yearly.tail()"
   ]
  },
  {
   "cell_type": "markdown",
   "id": "d28f53cd",
   "metadata": {},
   "source": [
    "### MAKING SURE ALL CELLS THAT ARE NUMERIC ARE A FLOAT TYPE:"
   ]
  },
  {
   "cell_type": "markdown",
   "id": "3f674201",
   "metadata": {},
   "source": [
    "**BREAKING DOWN DATASET COLUMNS BETWEEN NUMERICAL AND STRING:**"
   ]
  },
  {
   "cell_type": "code",
   "execution_count": 12,
   "id": "9ed8b123",
   "metadata": {},
   "outputs": [],
   "source": [
    "integer_columns = data.iloc[:,5:]\n",
    "string_columns = data.iloc[:, :5]"
   ]
  },
  {
   "cell_type": "markdown",
   "id": "df1ca14f",
   "metadata": {},
   "source": [
    "**CONCATENATING THE BROKEN DOWN DATASET INTO ONE AGAIN**"
   ]
  },
  {
   "cell_type": "code",
   "execution_count": 13,
   "id": "4ee5aadc",
   "metadata": {},
   "outputs": [],
   "source": [
    "integer_columns = integer_columns.astype(\"float64\").abs()\n",
    "data = pd.concat([string_columns, integer_columns], axis=1)"
   ]
  },
  {
   "cell_type": "markdown",
   "id": "8c5dadbe",
   "metadata": {},
   "source": [
    "### NAN values for each Country across every column"
   ]
  },
  {
   "cell_type": "code",
   "execution_count": 14,
   "id": "e91fd011",
   "metadata": {},
   "outputs": [
    {
     "name": "stdout",
     "output_type": "stream",
     "text": [
      "There are 230 countries represented in the entire dataset.\n"
     ]
    }
   ],
   "source": [
    "countries = data.Country.unique()\n",
    "print(f\"There are {len(countries)} countries represented in the entire dataset.\")"
   ]
  },
  {
   "cell_type": "code",
   "execution_count": 15,
   "id": "e34fb3e2",
   "metadata": {},
   "outputs": [
    {
     "data": {
      "text/html": [
       "<div>\n",
       "<style scoped>\n",
       "    .dataframe tbody tr th:only-of-type {\n",
       "        vertical-align: middle;\n",
       "    }\n",
       "\n",
       "    .dataframe tbody tr th {\n",
       "        vertical-align: top;\n",
       "    }\n",
       "\n",
       "    .dataframe thead th {\n",
       "        text-align: right;\n",
       "    }\n",
       "</style>\n",
       "<table border=\"1\" class=\"dataframe\">\n",
       "  <thead>\n",
       "    <tr style=\"text-align: right;\">\n",
       "      <th></th>\n",
       "      <th>Country</th>\n",
       "      <th>NaN_count</th>\n",
       "    </tr>\n",
       "  </thead>\n",
       "  <tbody>\n",
       "    <tr>\n",
       "      <th>0</th>\n",
       "      <td>Afghanistan</td>\n",
       "      <td>40</td>\n",
       "    </tr>\n",
       "    <tr>\n",
       "      <th>1</th>\n",
       "      <td>Albania</td>\n",
       "      <td>40</td>\n",
       "    </tr>\n",
       "    <tr>\n",
       "      <th>2</th>\n",
       "      <td>Algeria</td>\n",
       "      <td>40</td>\n",
       "    </tr>\n",
       "    <tr>\n",
       "      <th>3</th>\n",
       "      <td>American Samoa</td>\n",
       "      <td>62</td>\n",
       "    </tr>\n",
       "    <tr>\n",
       "      <th>4</th>\n",
       "      <td>Andorra</td>\n",
       "      <td>45</td>\n",
       "    </tr>\n",
       "    <tr>\n",
       "      <th>...</th>\n",
       "      <td>...</td>\n",
       "      <td>...</td>\n",
       "    </tr>\n",
       "    <tr>\n",
       "      <th>225</th>\n",
       "      <td>Western Sahara</td>\n",
       "      <td>62</td>\n",
       "    </tr>\n",
       "    <tr>\n",
       "      <th>226</th>\n",
       "      <td>Yemen</td>\n",
       "      <td>40</td>\n",
       "    </tr>\n",
       "    <tr>\n",
       "      <th>227</th>\n",
       "      <td>Yugoslavia [former Socialist Federal Republic]</td>\n",
       "      <td>67</td>\n",
       "    </tr>\n",
       "    <tr>\n",
       "      <th>228</th>\n",
       "      <td>Zambia</td>\n",
       "      <td>40</td>\n",
       "    </tr>\n",
       "    <tr>\n",
       "      <th>229</th>\n",
       "      <td>Zimbabwe</td>\n",
       "      <td>40</td>\n",
       "    </tr>\n",
       "  </tbody>\n",
       "</table>\n",
       "<p>230 rows × 2 columns</p>\n",
       "</div>"
      ],
      "text/plain": [
       "                                            Country  NaN_count\n",
       "0                                       Afghanistan         40\n",
       "1                                           Albania         40\n",
       "2                                           Algeria         40\n",
       "3                                    American Samoa         62\n",
       "4                                           Andorra         45\n",
       "..                                              ...        ...\n",
       "225                                  Western Sahara         62\n",
       "226                                           Yemen         40\n",
       "227  Yugoslavia [former Socialist Federal Republic]         67\n",
       "228                                          Zambia         40\n",
       "229                                        Zimbabwe         40\n",
       "\n",
       "[230 rows x 2 columns]"
      ]
     },
     "execution_count": 15,
     "metadata": {},
     "output_type": "execute_result"
    }
   ],
   "source": [
    "nan_count = []\n",
    "for country in countries:\n",
    "    nan_count.append([country, data[data.Country==country].isna().sum().values.sum()])\n",
    "nan_count_for_country = pd.DataFrame(nan_count, columns=[\"Country\", \"NaN_count\"])\n",
    "nan_count_for_country"
   ]
  },
  {
   "cell_type": "markdown",
   "id": "e03ee9f9",
   "metadata": {},
   "source": [
    "### NAN values for each Series across all columns"
   ]
  },
  {
   "cell_type": "code",
   "execution_count": 16,
   "id": "24474b1d",
   "metadata": {},
   "outputs": [
    {
     "data": {
      "text/html": [
       "<div>\n",
       "<style scoped>\n",
       "    .dataframe tbody tr th:only-of-type {\n",
       "        vertical-align: middle;\n",
       "    }\n",
       "\n",
       "    .dataframe tbody tr th {\n",
       "        vertical-align: top;\n",
       "    }\n",
       "\n",
       "    .dataframe thead th {\n",
       "        text-align: right;\n",
       "    }\n",
       "</style>\n",
       "<table border=\"1\" class=\"dataframe\">\n",
       "  <thead>\n",
       "    <tr style=\"text-align: right;\">\n",
       "      <th></th>\n",
       "      <th>Series</th>\n",
       "      <th>NAN_count</th>\n",
       "    </tr>\n",
       "  </thead>\n",
       "  <tbody>\n",
       "    <tr>\n",
       "      <th>0</th>\n",
       "      <td>Proportion of land area covered by forest, per...</td>\n",
       "      <td>4398</td>\n",
       "    </tr>\n",
       "    <tr>\n",
       "      <th>1</th>\n",
       "      <td>Carbon dioxide emissions (CO2), thousand metri...</td>\n",
       "      <td>715</td>\n",
       "    </tr>\n",
       "    <tr>\n",
       "      <th>2</th>\n",
       "      <td>Terrestrial and marine areas protected to tota...</td>\n",
       "      <td>4621</td>\n",
       "    </tr>\n",
       "  </tbody>\n",
       "</table>\n",
       "</div>"
      ],
      "text/plain": [
       "                                              Series  NAN_count\n",
       "0  Proportion of land area covered by forest, per...       4398\n",
       "1  Carbon dioxide emissions (CO2), thousand metri...        715\n",
       "2  Terrestrial and marine areas protected to tota...       4621"
      ]
     },
     "execution_count": 16,
     "metadata": {},
     "output_type": "execute_result"
    }
   ],
   "source": [
    "nan_count = []\n",
    "for series in data.Series.unique():\n",
    "    nan_count.append([series, data[data.Series==series].isna().sum().values.sum()])\n",
    "nan_count_for_series = pd.DataFrame(nan_count, columns=[\"Series\", \"NAN_count\"])\n",
    "nan_count_for_series"
   ]
  },
  {
   "cell_type": "markdown",
   "id": "1fcf1010",
   "metadata": {},
   "source": [
    "**SUBSETTING FOR THE 3 DIFFERENT SERIES CODES, TO BE REFERENCED LATER**"
   ]
  },
  {
   "cell_type": "code",
   "execution_count": 17,
   "id": "61314c24",
   "metadata": {},
   "outputs": [],
   "source": [
    "co2_emissions = data[data[\"SeriesCode\"]==749]\n",
    "forests = data[data[\"SeriesCode\"]==567]\n",
    "protected_area = data[data[\"SeriesCode\"]==616]"
   ]
  },
  {
   "cell_type": "markdown",
   "id": "eb63f388",
   "metadata": {},
   "source": [
    "**GROUPING EACH COUNTRY BY THE SUM OF ITS CO2 EMISSIONS. THEN SORTING BY 1990 AND 2011 ON DIFFERENT DATAFRAMES**"
   ]
  },
  {
   "cell_type": "code",
   "execution_count": 18,
   "id": "b8e2914a",
   "metadata": {},
   "outputs": [],
   "source": [
    "grouped_country = co2_emissions.groupby([\"Country\"]).sum()\n",
    "sorted_by_1990 = grouped_country.sort_values(by=[\"1990\"])\n",
    "sorted_by_2011 = grouped_country.sort_values(by=[\"2011\"])"
   ]
  },
  {
   "cell_type": "markdown",
   "id": "67d94b72",
   "metadata": {},
   "source": [
    "### The top and bottom 5 countries in terms of CO2 emissions in 1990"
   ]
  },
  {
   "cell_type": "markdown",
   "id": "0becb98f",
   "metadata": {},
   "source": [
    "**COUNTRIES THAT HAVE 0 CO2 EMISSIONS HAVE BEEN EXCLUDED.**"
   ]
  },
  {
   "cell_type": "code",
   "execution_count": 19,
   "id": "714a9ad5",
   "metadata": {},
   "outputs": [
    {
     "data": {
      "text/plain": [
       "Country\n",
       "Niue                    3.7\n",
       "Saint Helena            7.3\n",
       "Somalia                18.3\n",
       "Cook Islands           22.0\n",
       "Kiribati               22.0\n",
       "                    ...    \n",
       "United Kingdom     555902.5\n",
       "India              690576.8\n",
       "Japan             1094287.8\n",
       "China             2460744.0\n",
       "United States     4823557.1\n",
       "Name: 1990, Length: 181, dtype: float64"
      ]
     },
     "execution_count": 19,
     "metadata": {},
     "output_type": "execute_result"
    }
   ],
   "source": [
    "sorted_by_1990[\"1990\"][sorted_by_1990[\"1990\"] > 0]"
   ]
  },
  {
   "cell_type": "markdown",
   "id": "61579508",
   "metadata": {},
   "source": [
    "### The top and bottom 5 countries in terms of CO2 emissions in 2011"
   ]
  },
  {
   "cell_type": "markdown",
   "id": "458fb54b",
   "metadata": {},
   "source": [
    "**COUNTRIES THAT HAVE 0 CO2 EMISSIONS HAVE BEEN EXCLUDED.**"
   ]
  },
  {
   "cell_type": "code",
   "execution_count": 20,
   "id": "5a08cf83",
   "metadata": {},
   "outputs": [
    {
     "data": {
      "text/plain": [
       "Country\n",
       "Saint Helena                      11.0\n",
       "Niue                              11.0\n",
       "Wallis and Futuna Islands         25.7\n",
       "Nauru                             51.3\n",
       "Liechtenstein                     51.3\n",
       "                               ...    \n",
       "Japan                        1187657.0\n",
       "Russian Federation           1808073.0\n",
       "India                        2074344.9\n",
       "United States                5305569.6\n",
       "China                        9019518.2\n",
       "Name: 2011, Length: 215, dtype: float64"
      ]
     },
     "execution_count": 20,
     "metadata": {},
     "output_type": "execute_result"
    }
   ],
   "source": [
    "sorted_by_2011[\"2011\"][sorted_by_2011[\"2011\"] > 0]"
   ]
  },
  {
   "cell_type": "markdown",
   "id": "c5a55816",
   "metadata": {},
   "source": [
    "**Below is the median for CO2 Emissions in 1990:**"
   ]
  },
  {
   "cell_type": "code",
   "execution_count": 21,
   "id": "5cb3ae63",
   "metadata": {},
   "outputs": [
    {
     "data": {
      "text/plain": [
       "3017.9"
      ]
     },
     "execution_count": 21,
     "metadata": {},
     "output_type": "execute_result"
    }
   ],
   "source": [
    "co2_emissions[\"1990\"].median()"
   ]
  },
  {
   "cell_type": "markdown",
   "id": "aef743ad",
   "metadata": {},
   "source": [
    "**Below is the mean for CO2 emissions for 1990:**"
   ]
  },
  {
   "cell_type": "code",
   "execution_count": 22,
   "id": "d3cdeac6",
   "metadata": {},
   "outputs": [
    {
     "data": {
      "text/plain": [
       "91078.14806629828"
      ]
     },
     "execution_count": 22,
     "metadata": {},
     "output_type": "execute_result"
    }
   ],
   "source": [
    "np.mean(co2_emissions[\"1990\"])"
   ]
  },
  {
   "cell_type": "markdown",
   "id": "1bae5d8d",
   "metadata": {},
   "source": [
    "There is a very big difference between the mean and median of CO2 emissions for 1990. This could mean that there are outliers that are very weighty. Which do have an affect on the mean, not the median."
   ]
  },
  {
   "cell_type": "markdown",
   "id": "94c58dd0",
   "metadata": {},
   "source": [
    "### The following cells are the minimum, maximum and interquartile range of the CO2 emissions for 1990:"
   ]
  },
  {
   "cell_type": "markdown",
   "id": "9ed4c2ab",
   "metadata": {},
   "source": [
    "**The minimum value:**"
   ]
  },
  {
   "cell_type": "code",
   "execution_count": 23,
   "id": "eef19b88",
   "metadata": {},
   "outputs": [
    {
     "data": {
      "text/plain": [
       "3.7"
      ]
     },
     "execution_count": 23,
     "metadata": {},
     "output_type": "execute_result"
    }
   ],
   "source": [
    "co2_emissions[\"1990\"].min()"
   ]
  },
  {
   "cell_type": "markdown",
   "id": "62bbfc71",
   "metadata": {},
   "source": [
    "**The maximum value:**"
   ]
  },
  {
   "cell_type": "code",
   "execution_count": 24,
   "id": "b717a077",
   "metadata": {},
   "outputs": [
    {
     "data": {
      "text/plain": [
       "4823557.1"
      ]
     },
     "execution_count": 24,
     "metadata": {},
     "output_type": "execute_result"
    }
   ],
   "source": [
    "co2_emissions[\"1990\"].max()"
   ]
  },
  {
   "cell_type": "markdown",
   "id": "0cd6818c",
   "metadata": {},
   "source": [
    "**The Interquartile Range (IQR):**"
   ]
  },
  {
   "cell_type": "code",
   "execution_count": 25,
   "id": "57e3376b",
   "metadata": {},
   "outputs": [
    {
     "data": {
      "text/plain": [
       "41638.799999999996"
      ]
     },
     "execution_count": 25,
     "metadata": {},
     "output_type": "execute_result"
    }
   ],
   "source": [
    "q1 = np.nanpercentile(co2_emissions[\"1990\"], 25, interpolation=\"midpoint\")\n",
    "q3 = np.nanpercentile(co2_emissions[\"1990\"], 75, interpolation=\"midpoint\")\n",
    "iqr = q3 - q1\n",
    "iqr"
   ]
  },
  {
   "cell_type": "markdown",
   "id": "c46b54c1",
   "metadata": {},
   "source": [
    "# **SUPPOSED TO TALK ABOUT \" Using this information, and the mean and median, what does this tell you about the distribution of CO2 emissions?\"**  \n",
    "IN THIS CELL  \n",
    "...  \n",
    "..."
   ]
  },
  {
   "cell_type": "markdown",
   "id": "4868432f",
   "metadata": {},
   "source": [
    "### Histogram of the CO2 emissions for 1990"
   ]
  },
  {
   "cell_type": "code",
   "execution_count": 26,
   "id": "97cd2e46",
   "metadata": {},
   "outputs": [
    {
     "data": {
      "image/png": "[encoded data removed]",
      "text/plain": [
       "<Figure size 432x288 with 1 Axes>"
      ]
     },
     "metadata": {
      "needs_background": "light"
     },
     "output_type": "display_data"
    }
   ],
   "source": [
    "_ = plt.hist(co2_emissions[\"1990\"])\n",
    "plt.show()"
   ]
  },
  {
   "cell_type": "markdown",
   "id": "db199678",
   "metadata": {},
   "source": [
    "### standard deviation and standard error of the mean for CO2 emissions in 1990"
   ]
  },
  {
   "cell_type": "code",
   "execution_count": 27,
   "id": "3d46d63e",
   "metadata": {},
   "outputs": [
    {
     "data": {
      "text/plain": [
       "415587.9309864536"
      ]
     },
     "execution_count": 27,
     "metadata": {},
     "output_type": "execute_result"
    }
   ],
   "source": [
    "co2_emissions_standard_deviation = np.std(co2_emissions[\"1990\"])\n",
    "co2_emissions_standard_deviation"
   ]
  },
  {
   "cell_type": "code",
   "execution_count": 28,
   "id": "769252e1",
   "metadata": {},
   "outputs": [
    {
     "data": {
      "text/plain": [
       "27403.056667142344"
      ]
     },
     "execution_count": 28,
     "metadata": {},
     "output_type": "execute_result"
    }
   ],
   "source": [
    "co2_emissions_standard_error = co2_emissions_standard_deviation / np.sqrt(np.size(co2_emissions[\"1990\"]))\n",
    "co2_emissions_standard_error"
   ]
  },
  {
   "cell_type": "markdown",
   "id": "174d4d28",
   "metadata": {},
   "source": [
    "### Filtering a dataframe with only BRICS countries. Then making a line graph that will tell difference and change in C02 emissions in these countries over time."
   ]
  },
  {
   "cell_type": "code",
   "execution_count": 29,
   "id": "40fe3caf",
   "metadata": {},
   "outputs": [],
   "source": [
    "brics_countries = [\"Brazil\", \"Russian Federation\", \"China\", \"India\", \"United States\", \"South Africa\"]"
   ]
  },
  {
   "cell_type": "code",
   "execution_count": 30,
   "id": "688190fc",
   "metadata": {
    "scrolled": true
   },
   "outputs": [
    {
     "data": {
      "text/html": [
       "<div>\n",
       "<style scoped>\n",
       "    .dataframe tbody tr th:only-of-type {\n",
       "        vertical-align: middle;\n",
       "    }\n",
       "\n",
       "    .dataframe tbody tr th {\n",
       "        vertical-align: top;\n",
       "    }\n",
       "\n",
       "    .dataframe thead th {\n",
       "        text-align: right;\n",
       "    }\n",
       "</style>\n",
       "<table border=\"1\" class=\"dataframe\">\n",
       "  <thead>\n",
       "    <tr style=\"text-align: right;\">\n",
       "      <th></th>\n",
       "      <th>CountryCode</th>\n",
       "      <th>Country</th>\n",
       "      <th>SeriesCode</th>\n",
       "      <th>MDG</th>\n",
       "      <th>Series</th>\n",
       "      <th>1990</th>\n",
       "      <th>1991</th>\n",
       "      <th>1992</th>\n",
       "      <th>1993</th>\n",
       "      <th>1994</th>\n",
       "      <th>...</th>\n",
       "      <th>2003</th>\n",
       "      <th>2004</th>\n",
       "      <th>2005</th>\n",
       "      <th>2006</th>\n",
       "      <th>2007</th>\n",
       "      <th>2008</th>\n",
       "      <th>2009</th>\n",
       "      <th>2010</th>\n",
       "      <th>2011</th>\n",
       "      <th>2014</th>\n",
       "    </tr>\n",
       "  </thead>\n",
       "  <tbody>\n",
       "    <tr>\n",
       "      <th>82</th>\n",
       "      <td>76</td>\n",
       "      <td>Brazil</td>\n",
       "      <td>749</td>\n",
       "      <td>Y</td>\n",
       "      <td>Carbon dioxide emissions (CO2), thousand metri...</td>\n",
       "      <td>208887.0</td>\n",
       "      <td>219330.6</td>\n",
       "      <td>220705.7</td>\n",
       "      <td>230738.6</td>\n",
       "      <td>242154.0</td>\n",
       "      <td>...</td>\n",
       "      <td>321621.6</td>\n",
       "      <td>337826.0</td>\n",
       "      <td>347308.9</td>\n",
       "      <td>347668.3</td>\n",
       "      <td>363212.7</td>\n",
       "      <td>387675.2</td>\n",
       "      <td>367147.4</td>\n",
       "      <td>419754.2</td>\n",
       "      <td>439412.9</td>\n",
       "      <td>NaN</td>\n",
       "    </tr>\n",
       "    <tr>\n",
       "      <th>124</th>\n",
       "      <td>156</td>\n",
       "      <td>China</td>\n",
       "      <td>749</td>\n",
       "      <td>Y</td>\n",
       "      <td>Carbon dioxide emissions (CO2), thousand metri...</td>\n",
       "      <td>2460744.0</td>\n",
       "      <td>2584538.3</td>\n",
       "      <td>2695982.1</td>\n",
       "      <td>2878694.0</td>\n",
       "      <td>3058241.3</td>\n",
       "      <td>...</td>\n",
       "      <td>4525177.0</td>\n",
       "      <td>5288166.0</td>\n",
       "      <td>5790017.0</td>\n",
       "      <td>6414463.1</td>\n",
       "      <td>6791804.7</td>\n",
       "      <td>7035443.9</td>\n",
       "      <td>7692210.9</td>\n",
       "      <td>8256969.2</td>\n",
       "      <td>9019518.2</td>\n",
       "      <td>NaN</td>\n",
       "    </tr>\n",
       "    <tr>\n",
       "      <th>277</th>\n",
       "      <td>356</td>\n",
       "      <td>India</td>\n",
       "      <td>749</td>\n",
       "      <td>Y</td>\n",
       "      <td>Carbon dioxide emissions (CO2), thousand metri...</td>\n",
       "      <td>690576.8</td>\n",
       "      <td>737851.7</td>\n",
       "      <td>783634.2</td>\n",
       "      <td>814297.7</td>\n",
       "      <td>864931.6</td>\n",
       "      <td>...</td>\n",
       "      <td>1281913.5</td>\n",
       "      <td>1348524.6</td>\n",
       "      <td>1411127.6</td>\n",
       "      <td>1504364.7</td>\n",
       "      <td>1611199.1</td>\n",
       "      <td>1793075.0</td>\n",
       "      <td>1965820.0</td>\n",
       "      <td>1950950.3</td>\n",
       "      <td>2074344.9</td>\n",
       "      <td>NaN</td>\n",
       "    </tr>\n",
       "    <tr>\n",
       "      <th>499</th>\n",
       "      <td>643</td>\n",
       "      <td>Russian Federation</td>\n",
       "      <td>749</td>\n",
       "      <td>Y</td>\n",
       "      <td>Carbon dioxide emissions (CO2), thousand metri...</td>\n",
       "      <td>NaN</td>\n",
       "      <td>NaN</td>\n",
       "      <td>2081840.2</td>\n",
       "      <td>1941203.5</td>\n",
       "      <td>1701132.3</td>\n",
       "      <td>...</td>\n",
       "      <td>1604968.9</td>\n",
       "      <td>1602955.7</td>\n",
       "      <td>1615687.5</td>\n",
       "      <td>1669618.1</td>\n",
       "      <td>1667597.6</td>\n",
       "      <td>1715639.0</td>\n",
       "      <td>1574367.8</td>\n",
       "      <td>1742540.1</td>\n",
       "      <td>1808073.0</td>\n",
       "      <td>NaN</td>\n",
       "    </tr>\n",
       "    <tr>\n",
       "      <th>562</th>\n",
       "      <td>710</td>\n",
       "      <td>South Africa</td>\n",
       "      <td>749</td>\n",
       "      <td>Y</td>\n",
       "      <td>Carbon dioxide emissions (CO2), thousand metri...</td>\n",
       "      <td>319795.4</td>\n",
       "      <td>332618.9</td>\n",
       "      <td>307822.6</td>\n",
       "      <td>321104.5</td>\n",
       "      <td>337576.7</td>\n",
       "      <td>...</td>\n",
       "      <td>380810.6</td>\n",
       "      <td>424774.3</td>\n",
       "      <td>391819.0</td>\n",
       "      <td>422445.7</td>\n",
       "      <td>440989.8</td>\n",
       "      <td>469090.0</td>\n",
       "      <td>477806.4</td>\n",
       "      <td>454950.0</td>\n",
       "      <td>477241.7</td>\n",
       "      <td>NaN</td>\n",
       "    </tr>\n",
       "    <tr>\n",
       "      <th>652</th>\n",
       "      <td>840</td>\n",
       "      <td>United States</td>\n",
       "      <td>749</td>\n",
       "      <td>Y</td>\n",
       "      <td>Carbon dioxide emissions (CO2), thousand metri...</td>\n",
       "      <td>4823557.1</td>\n",
       "      <td>4822383.7</td>\n",
       "      <td>4911103.1</td>\n",
       "      <td>5032931.8</td>\n",
       "      <td>5098475.8</td>\n",
       "      <td>...</td>\n",
       "      <td>5679222.2</td>\n",
       "      <td>5763456.9</td>\n",
       "      <td>5795161.8</td>\n",
       "      <td>5703871.8</td>\n",
       "      <td>5794923.4</td>\n",
       "      <td>5622464.4</td>\n",
       "      <td>5274132.4</td>\n",
       "      <td>5408869.0</td>\n",
       "      <td>5305569.6</td>\n",
       "      <td>NaN</td>\n",
       "    </tr>\n",
       "  </tbody>\n",
       "</table>\n",
       "<p>6 rows × 28 columns</p>\n",
       "</div>"
      ],
      "text/plain": [
       "     CountryCode             Country  SeriesCode MDG  \\\n",
       "82            76              Brazil         749   Y   \n",
       "124          156               China         749   Y   \n",
       "277          356               India         749   Y   \n",
       "499          643  Russian Federation         749   Y   \n",
       "562          710        South Africa         749   Y   \n",
       "652          840       United States         749   Y   \n",
       "\n",
       "                                                Series       1990       1991  \\\n",
       "82   Carbon dioxide emissions (CO2), thousand metri...   208887.0   219330.6   \n",
       "124  Carbon dioxide emissions (CO2), thousand metri...  2460744.0  2584538.3   \n",
       "277  Carbon dioxide emissions (CO2), thousand metri...   690576.8   737851.7   \n",
       "499  Carbon dioxide emissions (CO2), thousand metri...        NaN        NaN   \n",
       "562  Carbon dioxide emissions (CO2), thousand metri...   319795.4   332618.9   \n",
       "652  Carbon dioxide emissions (CO2), thousand metri...  4823557.1  4822383.7   \n",
       "\n",
       "          1992       1993       1994  ...       2003       2004       2005  \\\n",
       "82    220705.7   230738.6   242154.0  ...   321621.6   337826.0   347308.9   \n",
       "124  2695982.1  2878694.0  3058241.3  ...  4525177.0  5288166.0  5790017.0   \n",
       "277   783634.2   814297.7   864931.6  ...  1281913.5  1348524.6  1411127.6   \n",
       "499  2081840.2  1941203.5  1701132.3  ...  1604968.9  1602955.7  1615687.5   \n",
       "562   307822.6   321104.5   337576.7  ...   380810.6   424774.3   391819.0   \n",
       "652  4911103.1  5032931.8  5098475.8  ...  5679222.2  5763456.9  5795161.8   \n",
       "\n",
       "          2006       2007       2008       2009       2010       2011  2014  \n",
       "82    347668.3   363212.7   387675.2   367147.4   419754.2   439412.9   NaN  \n",
       "124  6414463.1  6791804.7  7035443.9  7692210.9  8256969.2  9019518.2   NaN  \n",
       "277  1504364.7  1611199.1  1793075.0  1965820.0  1950950.3  2074344.9   NaN  \n",
       "499  1669618.1  1667597.6  1715639.0  1574367.8  1742540.1  1808073.0   NaN  \n",
       "562   422445.7   440989.8   469090.0   477806.4   454950.0   477241.7   NaN  \n",
       "652  5703871.8  5794923.4  5622464.4  5274132.4  5408869.0  5305569.6   NaN  \n",
       "\n",
       "[6 rows x 28 columns]"
      ]
     },
     "execution_count": 30,
     "metadata": {},
     "output_type": "execute_result"
    }
   ],
   "source": [
    "brics_countries_co2_emissions = co2_emissions[co2_emissions[\"Country\"].isin(brics_countries)]\n",
    "brics_countries_co2_emissions"
   ]
  },
  {
   "cell_type": "code",
   "execution_count": 31,
   "id": "a2023c61",
   "metadata": {},
   "outputs": [
    {
     "data": {
      "image/png": "[encoded data removed]",
      "text/plain": [
       "<Figure size 720x432 with 1 Axes>"
      ]
     },
     "metadata": {
      "needs_background": "light"
     },
     "output_type": "display_data"
    }
   ],
   "source": [
    "brics_graph = brics_countries_co2_emissions.groupby(\"Country\").sum()[years].T\n",
    "_ = brics_graph.plot(kind=\"line\", figsize=(10, 6))\n",
    "_ = plt.title(\"CO2 emissions for BRICS countries over 20 years\", fontweight=\"bold\")\n",
    "_ = plt.xlabel(\"Years\", weight=\"bold\")\n",
    "_ = plt.ylabel(\"CO2 Emissions\", weight=\"bold\")\n",
    "plt.show()"
   ]
  },
  {
   "cell_type": "markdown",
   "id": "01116e5d",
   "metadata": {},
   "source": [
    "### The mean and standard deviation for land area covered by forest in 1990."
   ]
  },
  {
   "cell_type": "markdown",
   "id": "b86d6b9f",
   "metadata": {},
   "source": [
    "**MEAN:**"
   ]
  },
  {
   "cell_type": "code",
   "execution_count": 32,
   "id": "bd11dd3f",
   "metadata": {},
   "outputs": [
    {
     "data": {
      "text/plain": [
       "32.97713004484306"
      ]
     },
     "execution_count": 32,
     "metadata": {},
     "output_type": "execute_result"
    }
   ],
   "source": [
    "forests[\"1990\"].mean()"
   ]
  },
  {
   "cell_type": "markdown",
   "id": "db2d4a9d",
   "metadata": {},
   "source": [
    "**STANDARD DEVIATION:**"
   ]
  },
  {
   "cell_type": "code",
   "execution_count": 33,
   "id": "498d3bcc",
   "metadata": {},
   "outputs": [
    {
     "data": {
      "text/plain": [
       "25.440278554474926"
      ]
     },
     "execution_count": 33,
     "metadata": {},
     "output_type": "execute_result"
    }
   ],
   "source": [
    "np.std(forests[\"1990\"])"
   ]
  },
  {
   "cell_type": "code",
   "execution_count": 34,
   "id": "432da2f8",
   "metadata": {},
   "outputs": [
    {
     "data": {
      "image/png": "[encoded data removed]",
      "text/plain": [
       "<Figure size 432x288 with 1 Axes>"
      ]
     },
     "metadata": {
      "needs_background": "light"
     },
     "output_type": "display_data"
    }
   ],
   "source": [
    "_ = plt.hist(forests[\"1990\"])\n",
    "_ = plt.title(\"land area covered by forest in 1990\", weight=\"bold\")\n",
    "plt.show()"
   ]
  },
  {
   "cell_type": "code",
   "execution_count": 35,
   "id": "40918f77",
   "metadata": {},
   "outputs": [
    {
     "data": {
      "image/png": "[encoded data removed]",
      "text/plain": [
       "<Figure size 432x288 with 1 Axes>"
      ]
     },
     "metadata": {
      "needs_background": "light"
     },
     "output_type": "display_data"
    }
   ],
   "source": [
    "_ = plt.hist(protected_area[\"1990\"])\n",
    "_ = plt.title(\"percentage of area protected in 1990\", weight=\"bold\")\n",
    "plt.show()"
   ]
  },
  {
   "cell_type": "code",
   "execution_count": 36,
   "id": "6bf6926e",
   "metadata": {},
   "outputs": [
    {
     "data": {
      "image/png": "[encoded data removed]",
      "text/plain": [
       "<Figure size 432x288 with 1 Axes>"
      ]
     },
     "metadata": {
      "needs_background": "light"
     },
     "output_type": "display_data"
    }
   ],
   "source": [
    "_ = sns.regplot(forests[\"2000\"],protected_area[\"2000\"])\n",
    "_ = plt.xlabel(\"land area covered by forest in 2000\", weight=\"bold\")\n",
    "_ = plt.ylabel(\"land area protected in 2000\", weight=\"bold\")\n",
    "_ = plt.title(\"Regression plot for land area covered by forest VS land area protected in 2000\", weight=\"bold\")\n",
    "plt.show()"
   ]
  },
  {
   "cell_type": "markdown",
   "id": "84f7b49c",
   "metadata": {},
   "source": [
    "The relationship between land area covered by forest VS land area protected in 2000 is a weak, positive and linear.  \n",
    "What makes it positive is how the trendline is not exactly horizontal. It is slightly trending upwards and that makes it positive, slightly.\n",
    "Had there been no trendline, it would be very difficult to tell which direction the dots are clustered towards, which is why I claim the relationship to be weak.  \n",
    "\n",
    "Most of the dots in the scatterplot are clustered below the trendline, some just above it. The further up (over 20% of land area protected), the less data is scattered, also, the further rightward (above 80% of land area covered by forests), the data does seem to decrease. This tells us that most of our data points are within 0 - 20% for land area protected and 0 - 80% for land area covered by forest.  \n",
    "Data points above those ranges could potentially be considered outliers.  \n",
    "\n",
    "It could also be taken into consideration that the outliers are what may be making the trendline make it seem like there's a relationship, even when there may not be one, depending on how dense the outliers may be.  \n",
    "\n",
    "**There are two particular outliers that are unusual:** \n",
    "* One is just over 40% of land area covered by forest AND just over 40% of land area protected. This could mean nothing, but I find it strange.  \n",
    "* The other is 100% land area covered by forest AND around 7% of land area protected. That doesn't make sense to me, this could be an extreme value."
   ]
  },
  {
   "cell_type": "markdown",
   "id": "c62ae635",
   "metadata": {},
   "source": [
    "**Avoiding all data that is == 0 because that introduces infinity / negative infinity values when working with log-transformation**"
   ]
  },
  {
   "cell_type": "code",
   "execution_count": 37,
   "id": "0d76da79",
   "metadata": {},
   "outputs": [],
   "source": [
    "forests[\"2000\"] = forests[\"2000\"][forests[\"2000\"] > 0]\n",
    "protected_area[\"2000\"] = protected_area[\"2000\"][protected_area[\"2000\"] > 0]"
   ]
  },
  {
   "cell_type": "code",
   "execution_count": 38,
   "id": "02bef30d",
   "metadata": {},
   "outputs": [
    {
     "data": {
      "image/png": "[encoded data removed]",
      "text/plain": [
       "<Figure size 432x288 with 1 Axes>"
      ]
     },
     "metadata": {
      "needs_background": "light"
     },
     "output_type": "display_data"
    }
   ],
   "source": [
    "log_transformed_forests_for_2000 = np.log(forests[\"2000\"])\n",
    "_ = plt.hist(log_transformed_forests_for_2000)\n",
    "_ = plt.title(\"land area covered by forest in 2000\", weight=\"bold\")\n",
    "plt.show()"
   ]
  },
  {
   "cell_type": "code",
   "execution_count": 39,
   "id": "350305ea",
   "metadata": {},
   "outputs": [
    {
     "data": {
      "image/png": "[encoded data removed]",
      "text/plain": [
       "<Figure size 432x288 with 1 Axes>"
      ]
     },
     "metadata": {
      "needs_background": "light"
     },
     "output_type": "display_data"
    }
   ],
   "source": [
    "log_transformed_protected_area_for_2000 = np.log(protected_area[\"2000\"])\n",
    "_ = plt.hist(log_transformed_protected_area_for_2000)\n",
    "_ = plt.title(\"percentage of area protected in 2000\", weight=\"bold\")\n",
    "plt.show()"
   ]
  },
  {
   "cell_type": "markdown",
   "id": "3b309fd3",
   "metadata": {},
   "source": [
    "**Avoiding all data that is == 0 because that introduces infinity / negative infinity values when working with log-transformation**"
   ]
  },
  {
   "cell_type": "code",
   "execution_count": 40,
   "id": "eea35dfa",
   "metadata": {},
   "outputs": [],
   "source": [
    "forests[\"1990\"] = forests[\"1990\"][forests[\"1990\"] > 0]\n",
    "protected_area[\"1990\"] = protected_area[\"1990\"][protected_area[\"1990\"] > 0]"
   ]
  },
  {
   "cell_type": "markdown",
   "id": "fd6f6d31",
   "metadata": {},
   "source": [
    "**Log-Transforming data for 'Land area covered in forests' and 'Land area protected' for the year 1990.**  \n",
    "Then filling in any missing values with the last valid observation."
   ]
  },
  {
   "cell_type": "code",
   "execution_count": 41,
   "id": "57216e38",
   "metadata": {},
   "outputs": [],
   "source": [
    "log_transformed_forests_for_1990 = np.log(forests[\"1990\"]).fillna(method=\"pad\")\n",
    "log_transformed_protected_area_for_1990 = np.log(protected_area[\"1990\"]).fillna(method=\"pad\")"
   ]
  },
  {
   "cell_type": "markdown",
   "id": "cdf30f93",
   "metadata": {},
   "source": [
    "**Calculating the Pearson correlation coefficient (and its corresponding p value) to determine the nature of the relationship between proportion of land area covered by forest and the percentage of area protected**"
   ]
  },
  {
   "cell_type": "code",
   "execution_count": 42,
   "id": "d6ed780b",
   "metadata": {},
   "outputs": [
    {
     "name": "stdout",
     "output_type": "stream",
     "text": [
      "The Pearson correlation coefficient: 0.0718866942323285\n",
      "The P-value: 0.2776201566457319\n"
     ]
    }
   ],
   "source": [
    "result = stats.pearsonr(log_transformed_forests_for_1990, log_transformed_protected_area_for_1990)\n",
    "print(f\"The Pearson correlation coefficient: {result[0]}\\nThe P-value: {result[1]}\")"
   ]
  },
  {
   "cell_type": "markdown",
   "id": "547407c5",
   "metadata": {},
   "source": [
    "The direction of the correlation statistic is upwards, this means there is a relationship and it is positive. However, the relationship between proportion of land area covered by forest and the percentage of area protected is seemingly weak. "
   ]
  }
 ],
 "metadata": {
  "kernelspec": {
   "display_name": "Python 3 (ipykernel)",
   "language": "python",
   "name": "python3"
  },
  "language_info": {
   "codemirror_mode": {
    "name": "ipython",
    "version": 3
   },
   "file_extension": ".py",
   "mimetype": "text/x-python",
   "name": "python",
   "nbconvert_exporter": "python",
   "pygments_lexer": "ipython3",
   "version": "3.9.12"
  }
 },
 "nbformat": 4,
 "nbformat_minor": 5
}
